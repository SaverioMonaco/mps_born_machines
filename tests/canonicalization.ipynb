{
 "cells": [
  {
   "cell_type": "markdown",
   "id": "7bd1d992-d904-4717-a6aa-dc02e3dda6d5",
   "metadata": {},
   "source": [
    "---\n",
    "---\n",
    "# Understanding Canonicalization \n",
    "---"
   ]
  },
  {
   "cell_type": "code",
   "execution_count": 1,
   "id": "f7b7b5f1-a628-4dee-bac2-12b95452e6fa",
   "metadata": {},
   "outputs": [],
   "source": [
    "###########\n",
    "# IMPORTS #\n",
    "###########\n",
    "\n",
    "%config InlineBackend.figure_formats = ['svg']\n",
    "import quimb.tensor as qtn # Tensor Network library\n",
    "import numpy as np\n",
    "\n",
    "# Images display and plots\n",
    "import matplotlib.pyplot as plt\n"
   ]
  },
  {
   "cell_type": "code",
   "execution_count": 2,
   "id": "a6f75eee-a272-4575-b47e-14ed3f10c559",
   "metadata": {},
   "outputs": [],
   "source": [
    "bdim = 5       # Bond dimension\n",
    "particles = 3  # Number of particles - rank of the full tensor\n"
   ]
  },
  {
   "cell_type": "markdown",
   "id": "62067057-9514-4143-a313-6c835be6d7a1",
   "metadata": {},
   "source": [
    "### Non Canonicalized"
   ]
  },
  {
   "cell_type": "code",
   "execution_count": 20,
   "id": "d370475a-5053-4fd1-9add-11114bfa5734",
   "metadata": {},
   "outputs": [],
   "source": [
    "# Create a simple MPS network randomly initialized\n",
    "mps = qtn.MPS_rand_state(L=particles, bond_dim=bdim)"
   ]
  },
  {
   "cell_type": "code",
   "execution_count": 21,
   "id": "5fd11df0-2e9f-40d2-9c8e-9947052fa8b4",
   "metadata": {},
   "outputs": [
    {
     "name": "stdout",
     "output_type": "stream",
     "text": [
      " 5 5 \n",
      "●─●─●\n",
      "│ │ │\n"
     ]
    }
   ],
   "source": [
    "mps.show()"
   ]
  },
  {
   "cell_type": "code",
   "execution_count": 26,
   "id": "7db914a1-032b-4be8-bc2d-d4ea67dea9c0",
   "metadata": {},
   "outputs": [
    {
     "name": "stdout",
     "output_type": "stream",
     "text": [
      "Tensor(shape=(5, 2), inds=('_6b0ad6AAAAO', 'k0'), tags=oset(['I0']), backend='numpy', dtype='float64')\n",
      "\n",
      "U.H_(ik)U_(ij) :\n",
      " [[ 0.2943594  -0.06838413  0.30661825  0.06174933  0.430925  ]\n",
      " [-0.06838413  0.4213259   0.32882502 -0.13016627  0.408048  ]\n",
      " [ 0.30661825  0.32882502  0.71413396 -0.04996253  0.95028385]\n",
      " [ 0.06174933 -0.13016627 -0.04996253  0.04603981 -0.05476712]\n",
      " [ 0.430925    0.408048    0.95028385 -0.05476712  1.26775077]]\n",
      "\n",
      " ^Not diagonal\n"
     ]
    }
   ],
   "source": [
    "# Contract the leftmost with itself\n",
    "print(mps.tensors[0])\n",
    "res = np.einsum('ij,kj', mps.H.tensors[0].data, mps.tensors[0].data) \n",
    "print('\\nU.H_(ik)U_(ij) :\\n {}'.format(res) )\n",
    "\n",
    "print('\\n ^Not diagonal')"
   ]
  },
  {
   "cell_type": "markdown",
   "id": "ffb34429-0a7d-46cf-807e-805d74209ae3",
   "metadata": {},
   "source": [
    "### Left Canonical"
   ]
  },
  {
   "cell_type": "code",
   "execution_count": 40,
   "id": "282bc07b-54b6-4b38-8824-0ee088506ae1",
   "metadata": {},
   "outputs": [],
   "source": [
    "# Create a simple MPS network randomly initialized\n",
    "mps1 = qtn.MPS_rand_state(L=particles, bond_dim=bdim, normalize=False)"
   ]
  },
  {
   "cell_type": "code",
   "execution_count": 41,
   "id": "3824d355-df2e-486d-9aa9-98abe736eac8",
   "metadata": {},
   "outputs": [
    {
     "name": "stdout",
     "output_type": "stream",
     "text": [
      "Full contraction: 0.3724049757564379\n"
     ]
    }
   ],
   "source": [
    "print('Full contraction: {}'.format(mps1.H @ mps1))"
   ]
  },
  {
   "cell_type": "code",
   "execution_count": 42,
   "id": "b2f05774-bfce-476c-889c-81930ffac2e4",
   "metadata": {},
   "outputs": [],
   "source": [
    "mps1.left_canonize() # left canonicalization (leftmost will be orthogonal, right not)"
   ]
  },
  {
   "cell_type": "code",
   "execution_count": 43,
   "id": "4e988b20-4598-4710-b7c7-32be245a2cb8",
   "metadata": {},
   "outputs": [
    {
     "name": "stdout",
     "output_type": "stream",
     "text": [
      "Full contraction: 0.37240497575643783\n"
     ]
    }
   ],
   "source": [
    "print('Full contraction: {}'.format(mps1.H @ mps1))"
   ]
  },
  {
   "cell_type": "code",
   "execution_count": 44,
   "id": "3e8c53bf-5a0e-4651-b350-636b35897d7c",
   "metadata": {},
   "outputs": [
    {
     "name": "stdout",
     "output_type": "stream",
     "text": [
      " 2 4 \n",
      ">─>─●\n",
      "│ │ │\n"
     ]
    }
   ],
   "source": [
    "mps1.show()"
   ]
  },
  {
   "cell_type": "code",
   "execution_count": 45,
   "id": "2a9d8d59-9b35-41c5-8c41-6c06f4ddc546",
   "metadata": {},
   "outputs": [
    {
     "data": {
      "image/svg+xml": [
       "<?xml version=\"1.0\" encoding=\"utf-8\" standalone=\"no\"?>\n",
       "<!DOCTYPE svg PUBLIC \"-//W3C//DTD SVG 1.1//EN\"\n",
       "  \"http://www.w3.org/Graphics/SVG/1.1/DTD/svg11.dtd\">\n",
       "<svg height=\"252.228947pt\" version=\"1.1\" viewBox=\"0 0 440.39952 252.228947\" width=\"440.39952pt\" xmlns=\"http://www.w3.org/2000/svg\" xmlns:xlink=\"http://www.w3.org/1999/xlink\">\n",
       " <metadata>\n",
       "  <rdf:RDF xmlns:cc=\"http://creativecommons.org/ns#\" xmlns:dc=\"http://purl.org/dc/elements/1.1/\" xmlns:rdf=\"http://www.w3.org/1999/02/22-rdf-syntax-ns#\">\n",
       "   <cc:Work>\n",
       "    <dc:type rdf:resource=\"http://purl.org/dc/dcmitype/StillImage\"/>\n",
       "    <dc:date>2022-03-06T21:44:27.858104</dc:date>\n",
       "    <dc:format>image/svg+xml</dc:format>\n",
       "    <dc:creator>\n",
       "     <cc:Agent>\n",
       "      <dc:title>Matplotlib v3.4.3, https://matplotlib.org/</dc:title>\n",
       "     </cc:Agent>\n",
       "    </dc:creator>\n",
       "   </cc:Work>\n",
       "  </rdf:RDF>\n",
       " </metadata>\n",
       " <defs>\n",
       "  <style type=\"text/css\">*{stroke-linecap:butt;stroke-linejoin:round;}</style>\n",
       " </defs>\n",
       " <g id=\"figure_1\">\n",
       "  <g id=\"patch_1\">\n",
       "   <path d=\"M 0 252.228947 \n",
       "L 440.39952 252.228947 \n",
       "L 440.39952 -0 \n",
       "L 0 -0 \n",
       "z\n",
       "\" style=\"fill:none;\"/>\n",
       "  </g>\n",
       "  <g id=\"axes_1\">\n",
       "   <g id=\"LineCollection_1\">\n",
       "    <path clip-path=\"url(#pfa272da48e)\" d=\"M 49.329688 199.101879 \n",
       "L 218.904527 202.899258 \n",
       "\" style=\"fill:none;stroke:#737880;stroke-opacity:0.5;\"/>\n",
       "    <path clip-path=\"url(#pfa272da48e)\" d=\"M 49.329688 199.101879 \n",
       "L 52.257468 52.248154 \n",
       "\" style=\"fill:none;stroke:#737880;stroke-opacity:0.5;\"/>\n",
       "    <path clip-path=\"url(#pfa272da48e)\" d=\"M 218.904527 202.899258 \n",
       "L 388.142052 199.980792 \n",
       "\" style=\"fill:none;stroke:#737880;stroke-opacity:0.5;stroke-width:2;\"/>\n",
       "    <path clip-path=\"url(#pfa272da48e)\" d=\"M 218.904527 202.899258 \n",
       "L 221.494993 49.329688 \n",
       "\" style=\"fill:none;stroke:#737880;stroke-opacity:0.5;\"/>\n",
       "    <path clip-path=\"url(#pfa272da48e)\" d=\"M 52.257468 52.248154 \n",
       "L 221.494993 49.329688 \n",
       "\" style=\"fill:none;stroke:#737880;stroke-opacity:0.5;stroke-width:2.321928;\"/>\n",
       "    <path clip-path=\"url(#pfa272da48e)\" d=\"M 388.142052 199.980792 \n",
       "L 391.069832 53.127067 \n",
       "\" style=\"fill:none;stroke:#737880;stroke-opacity:0.5;\"/>\n",
       "    <path clip-path=\"url(#pfa272da48e)\" d=\"M 221.494993 49.329688 \n",
       "L 391.069832 53.127067 \n",
       "\" style=\"fill:none;stroke:#737880;stroke-opacity:0.5;stroke-width:2.321928;\"/>\n",
       "   </g>\n",
       "   <g id=\"PathCollection_1\">\n",
       "    <path clip-path=\"url(#pfa272da48e)\" d=\"M 49.329688 207.547218 \n",
       "C 51.569418 207.547218 53.717716 206.657364 55.301444 205.073635 \n",
       "C 56.885173 203.489907 57.775027 201.341609 57.775027 199.101879 \n",
       "C 57.775027 196.862149 56.885173 194.713851 55.301444 193.130123 \n",
       "C 53.717716 191.546395 51.569418 190.656541 49.329688 190.656541 \n",
       "C 47.089958 190.656541 44.94166 191.546395 43.357932 193.130123 \n",
       "C 41.774204 194.713851 40.884349 196.862149 40.884349 199.101879 \n",
       "C 40.884349 201.341609 41.774204 203.489907 43.357932 205.073635 \n",
       "C 44.94166 206.657364 47.089958 207.547218 49.329688 207.547218 \n",
       "z\n",
       "\" style=\"fill:#737880;stroke:#5c6066;stroke-width:3;\"/>\n",
       "    <path clip-path=\"url(#pfa272da48e)\" d=\"M 218.904527 211.344597 \n",
       "C 221.144257 211.344597 223.292555 210.454743 224.876283 208.871015 \n",
       "C 226.460011 207.287286 227.349866 205.138988 227.349866 202.899258 \n",
       "C 227.349866 200.659528 226.460011 198.51123 224.876283 196.927502 \n",
       "C 223.292555 195.343774 221.144257 194.45392 218.904527 194.45392 \n",
       "C 216.664797 194.45392 214.516499 195.343774 212.932771 196.927502 \n",
       "C 211.349042 198.51123 210.459188 200.659528 210.459188 202.899258 \n",
       "C 210.459188 205.138988 211.349042 207.287286 212.932771 208.871015 \n",
       "C 214.516499 210.454743 216.664797 211.344597 218.904527 211.344597 \n",
       "z\n",
       "\" style=\"fill:#737880;stroke:#5c6066;stroke-width:3;\"/>\n",
       "    <path clip-path=\"url(#pfa272da48e)\" d=\"M 52.257468 60.693493 \n",
       "C 54.497198 60.693493 56.645496 59.803639 58.229224 58.219911 \n",
       "C 59.812952 56.636182 60.702806 54.487884 60.702806 52.248154 \n",
       "C 60.702806 50.008424 59.812952 47.860127 58.229224 46.276398 \n",
       "C 56.645496 44.69267 54.497198 43.802816 52.257468 43.802816 \n",
       "C 50.017738 43.802816 47.86944 44.69267 46.285712 46.276398 \n",
       "C 44.701983 47.860127 43.812129 50.008424 43.812129 52.248154 \n",
       "C 43.812129 54.487884 44.701983 56.636182 46.285712 58.219911 \n",
       "C 47.86944 59.803639 50.017738 60.693493 52.257468 60.693493 \n",
       "z\n",
       "\" style=\"fill:#737880;stroke:#5c6066;stroke-width:3;\"/>\n",
       "    <path clip-path=\"url(#pfa272da48e)\" d=\"M 388.142052 208.426131 \n",
       "C 390.381782 208.426131 392.53008 207.536277 394.113808 205.952548 \n",
       "C 395.697537 204.36882 396.587391 202.220522 396.587391 199.980792 \n",
       "C 396.587391 197.741062 395.697537 195.592764 394.113808 194.009036 \n",
       "C 392.53008 192.425308 390.381782 191.535453 388.142052 191.535453 \n",
       "C 385.902322 191.535453 383.754024 192.425308 382.170296 194.009036 \n",
       "C 380.586568 195.592764 379.696714 197.741062 379.696714 199.980792 \n",
       "C 379.696714 202.220522 380.586568 204.36882 382.170296 205.952548 \n",
       "C 383.754024 207.536277 385.902322 208.426131 388.142052 208.426131 \n",
       "z\n",
       "\" style=\"fill:#737880;stroke:#5c6066;stroke-width:3;\"/>\n",
       "    <path clip-path=\"url(#pfa272da48e)\" d=\"M 221.494993 57.775027 \n",
       "C 223.734723 57.775027 225.883021 56.885173 227.466749 55.301444 \n",
       "C 229.050478 53.717716 229.940332 51.569418 229.940332 49.329688 \n",
       "C 229.940332 47.089958 229.050478 44.94166 227.466749 43.357932 \n",
       "C 225.883021 41.774204 223.734723 40.884349 221.494993 40.884349 \n",
       "C 219.255263 40.884349 217.106965 41.774204 215.523237 43.357932 \n",
       "C 213.939509 44.94166 213.049654 47.089958 213.049654 49.329688 \n",
       "C 213.049654 51.569418 213.939509 53.717716 215.523237 55.301444 \n",
       "C 217.106965 56.885173 219.255263 57.775027 221.494993 57.775027 \n",
       "z\n",
       "\" style=\"fill:#737880;stroke:#5c6066;stroke-width:3;\"/>\n",
       "    <path clip-path=\"url(#pfa272da48e)\" d=\"M 391.069832 61.572406 \n",
       "C 393.309562 61.572406 395.45786 60.682552 397.041588 59.098823 \n",
       "C 398.625316 57.515095 399.515171 55.366797 399.515171 53.127067 \n",
       "C 399.515171 50.887337 398.625316 48.739039 397.041588 47.155311 \n",
       "C 395.45786 45.571583 393.309562 44.681729 391.069832 44.681729 \n",
       "C 388.830102 44.681729 386.681804 45.571583 385.098076 47.155311 \n",
       "C 383.514347 48.739039 382.624493 50.887337 382.624493 53.127067 \n",
       "C 382.624493 55.366797 383.514347 57.515095 385.098076 59.098823 \n",
       "C 386.681804 60.682552 388.830102 61.572406 391.069832 61.572406 \n",
       "z\n",
       "\" style=\"fill:#737880;stroke:#5c6066;stroke-width:3;\"/>\n",
       "   </g>\n",
       "   <g id=\"text_1\">\n",
       "    <g clip-path=\"url(#pfa272da48e)\">\n",
       "     <!-- {'I0'} -->\n",
       "     <g transform=\"translate(35.562501 201.861254)scale(0.1 -0.1)\">\n",
       "      <defs>\n",
       "       <path d=\"M 3272 -594 \n",
       "L 3272 -1044 \n",
       "L 3078 -1044 \n",
       "Q 2300 -1044 2036 -812 \n",
       "Q 1772 -581 1772 109 \n",
       "L 1772 856 \n",
       "Q 1772 1328 1603 1509 \n",
       "Q 1434 1691 991 1691 \n",
       "L 800 1691 \n",
       "L 800 2138 \n",
       "L 991 2138 \n",
       "Q 1438 2138 1605 2317 \n",
       "Q 1772 2497 1772 2963 \n",
       "L 1772 3713 \n",
       "Q 1772 4403 2036 4633 \n",
       "Q 2300 4863 3078 4863 \n",
       "L 3272 4863 \n",
       "L 3272 4416 \n",
       "L 3059 4416 \n",
       "Q 2619 4416 2484 4278 \n",
       "Q 2350 4141 2350 3700 \n",
       "L 2350 2925 \n",
       "Q 2350 2434 2208 2212 \n",
       "Q 2066 1991 1722 1913 \n",
       "Q 2069 1828 2209 1606 \n",
       "Q 2350 1384 2350 897 \n",
       "L 2350 122 \n",
       "Q 2350 -319 2484 -456 \n",
       "Q 2619 -594 3059 -594 \n",
       "L 3272 -594 \n",
       "z\n",
       "\" id=\"DejaVuSans-7b\" transform=\"scale(0.015625)\"/>\n",
       "       <path d=\"M 1147 4666 \n",
       "L 1147 2931 \n",
       "L 616 2931 \n",
       "L 616 4666 \n",
       "L 1147 4666 \n",
       "z\n",
       "\" id=\"DejaVuSans-27\" transform=\"scale(0.015625)\"/>\n",
       "       <path d=\"M 628 4666 \n",
       "L 1259 4666 \n",
       "L 1259 0 \n",
       "L 628 0 \n",
       "L 628 4666 \n",
       "z\n",
       "\" id=\"DejaVuSans-49\" transform=\"scale(0.015625)\"/>\n",
       "       <path d=\"M 2034 4250 \n",
       "Q 1547 4250 1301 3770 \n",
       "Q 1056 3291 1056 2328 \n",
       "Q 1056 1369 1301 889 \n",
       "Q 1547 409 2034 409 \n",
       "Q 2525 409 2770 889 \n",
       "Q 3016 1369 3016 2328 \n",
       "Q 3016 3291 2770 3770 \n",
       "Q 2525 4250 2034 4250 \n",
       "z\n",
       "M 2034 4750 \n",
       "Q 2819 4750 3233 4129 \n",
       "Q 3647 3509 3647 2328 \n",
       "Q 3647 1150 3233 529 \n",
       "Q 2819 -91 2034 -91 \n",
       "Q 1250 -91 836 529 \n",
       "Q 422 1150 422 2328 \n",
       "Q 422 3509 836 4129 \n",
       "Q 1250 4750 2034 4750 \n",
       "z\n",
       "\" id=\"DejaVuSans-30\" transform=\"scale(0.015625)\"/>\n",
       "       <path d=\"M 800 -594 \n",
       "L 1019 -594 \n",
       "Q 1456 -594 1589 -459 \n",
       "Q 1722 -325 1722 122 \n",
       "L 1722 897 \n",
       "Q 1722 1384 1862 1606 \n",
       "Q 2003 1828 2350 1913 \n",
       "Q 2003 1991 1862 2212 \n",
       "Q 1722 2434 1722 2925 \n",
       "L 1722 3700 \n",
       "Q 1722 4144 1589 4280 \n",
       "Q 1456 4416 1019 4416 \n",
       "L 800 4416 \n",
       "L 800 4863 \n",
       "L 997 4863 \n",
       "Q 1775 4863 2036 4633 \n",
       "Q 2297 4403 2297 3713 \n",
       "L 2297 2963 \n",
       "Q 2297 2497 2465 2317 \n",
       "Q 2634 2138 3078 2138 \n",
       "L 3272 2138 \n",
       "L 3272 1691 \n",
       "L 3078 1691 \n",
       "Q 2634 1691 2465 1509 \n",
       "Q 2297 1328 2297 856 \n",
       "L 2297 109 \n",
       "Q 2297 -581 2036 -812 \n",
       "Q 1775 -1044 997 -1044 \n",
       "L 800 -1044 \n",
       "L 800 -594 \n",
       "z\n",
       "\" id=\"DejaVuSans-7d\" transform=\"scale(0.015625)\"/>\n",
       "      </defs>\n",
       "      <use xlink:href=\"#DejaVuSans-7b\"/>\n",
       "      <use x=\"63.623047\" xlink:href=\"#DejaVuSans-27\"/>\n",
       "      <use x=\"91.113281\" xlink:href=\"#DejaVuSans-49\"/>\n",
       "      <use x=\"120.605469\" xlink:href=\"#DejaVuSans-30\"/>\n",
       "      <use x=\"184.228516\" xlink:href=\"#DejaVuSans-27\"/>\n",
       "      <use x=\"211.71875\" xlink:href=\"#DejaVuSans-7d\"/>\n",
       "     </g>\n",
       "    </g>\n",
       "   </g>\n",
       "   <g id=\"text_2\">\n",
       "    <g clip-path=\"url(#pfa272da48e)\">\n",
       "     <!-- {'I1'} -->\n",
       "     <g transform=\"translate(205.137339 205.658633)scale(0.1 -0.1)\">\n",
       "      <defs>\n",
       "       <path d=\"M 794 531 \n",
       "L 1825 531 \n",
       "L 1825 4091 \n",
       "L 703 3866 \n",
       "L 703 4441 \n",
       "L 1819 4666 \n",
       "L 2450 4666 \n",
       "L 2450 531 \n",
       "L 3481 531 \n",
       "L 3481 0 \n",
       "L 794 0 \n",
       "L 794 531 \n",
       "z\n",
       "\" id=\"DejaVuSans-31\" transform=\"scale(0.015625)\"/>\n",
       "      </defs>\n",
       "      <use xlink:href=\"#DejaVuSans-7b\"/>\n",
       "      <use x=\"63.623047\" xlink:href=\"#DejaVuSans-27\"/>\n",
       "      <use x=\"91.113281\" xlink:href=\"#DejaVuSans-49\"/>\n",
       "      <use x=\"120.605469\" xlink:href=\"#DejaVuSans-31\"/>\n",
       "      <use x=\"184.228516\" xlink:href=\"#DejaVuSans-27\"/>\n",
       "      <use x=\"211.71875\" xlink:href=\"#DejaVuSans-7d\"/>\n",
       "     </g>\n",
       "    </g>\n",
       "   </g>\n",
       "   <g id=\"text_3\">\n",
       "    <g clip-path=\"url(#pfa272da48e)\">\n",
       "     <!-- {'I2'} -->\n",
       "     <g transform=\"translate(374.374865 202.740167)scale(0.1 -0.1)\">\n",
       "      <defs>\n",
       "       <path d=\"M 1228 531 \n",
       "L 3431 531 \n",
       "L 3431 0 \n",
       "L 469 0 \n",
       "L 469 531 \n",
       "Q 828 903 1448 1529 \n",
       "Q 2069 2156 2228 2338 \n",
       "Q 2531 2678 2651 2914 \n",
       "Q 2772 3150 2772 3378 \n",
       "Q 2772 3750 2511 3984 \n",
       "Q 2250 4219 1831 4219 \n",
       "Q 1534 4219 1204 4116 \n",
       "Q 875 4013 500 3803 \n",
       "L 500 4441 \n",
       "Q 881 4594 1212 4672 \n",
       "Q 1544 4750 1819 4750 \n",
       "Q 2544 4750 2975 4387 \n",
       "Q 3406 4025 3406 3419 \n",
       "Q 3406 3131 3298 2873 \n",
       "Q 3191 2616 2906 2266 \n",
       "Q 2828 2175 2409 1742 \n",
       "Q 1991 1309 1228 531 \n",
       "z\n",
       "\" id=\"DejaVuSans-32\" transform=\"scale(0.015625)\"/>\n",
       "      </defs>\n",
       "      <use xlink:href=\"#DejaVuSans-7b\"/>\n",
       "      <use x=\"63.623047\" xlink:href=\"#DejaVuSans-27\"/>\n",
       "      <use x=\"91.113281\" xlink:href=\"#DejaVuSans-49\"/>\n",
       "      <use x=\"120.605469\" xlink:href=\"#DejaVuSans-32\"/>\n",
       "      <use x=\"184.228516\" xlink:href=\"#DejaVuSans-27\"/>\n",
       "      <use x=\"211.71875\" xlink:href=\"#DejaVuSans-7d\"/>\n",
       "     </g>\n",
       "    </g>\n",
       "   </g>\n",
       "   <g id=\"text_4\">\n",
       "    <g clip-path=\"url(#pfa272da48e)\">\n",
       "     <!-- {'I0'} -->\n",
       "     <g transform=\"translate(38.49028 55.007529)scale(0.1 -0.1)\">\n",
       "      <use xlink:href=\"#DejaVuSans-7b\"/>\n",
       "      <use x=\"63.623047\" xlink:href=\"#DejaVuSans-27\"/>\n",
       "      <use x=\"91.113281\" xlink:href=\"#DejaVuSans-49\"/>\n",
       "      <use x=\"120.605469\" xlink:href=\"#DejaVuSans-30\"/>\n",
       "      <use x=\"184.228516\" xlink:href=\"#DejaVuSans-27\"/>\n",
       "      <use x=\"211.71875\" xlink:href=\"#DejaVuSans-7d\"/>\n",
       "     </g>\n",
       "    </g>\n",
       "   </g>\n",
       "   <g id=\"text_5\">\n",
       "    <g clip-path=\"url(#pfa272da48e)\">\n",
       "     <!-- {'I1'} -->\n",
       "     <g transform=\"translate(207.727806 52.089063)scale(0.1 -0.1)\">\n",
       "      <use xlink:href=\"#DejaVuSans-7b\"/>\n",
       "      <use x=\"63.623047\" xlink:href=\"#DejaVuSans-27\"/>\n",
       "      <use x=\"91.113281\" xlink:href=\"#DejaVuSans-49\"/>\n",
       "      <use x=\"120.605469\" xlink:href=\"#DejaVuSans-31\"/>\n",
       "      <use x=\"184.228516\" xlink:href=\"#DejaVuSans-27\"/>\n",
       "      <use x=\"211.71875\" xlink:href=\"#DejaVuSans-7d\"/>\n",
       "     </g>\n",
       "    </g>\n",
       "   </g>\n",
       "   <g id=\"text_6\">\n",
       "    <g clip-path=\"url(#pfa272da48e)\">\n",
       "     <!-- {'I2'} -->\n",
       "     <g transform=\"translate(377.302644 55.886442)scale(0.1 -0.1)\">\n",
       "      <use xlink:href=\"#DejaVuSans-7b\"/>\n",
       "      <use x=\"63.623047\" xlink:href=\"#DejaVuSans-27\"/>\n",
       "      <use x=\"91.113281\" xlink:href=\"#DejaVuSans-49\"/>\n",
       "      <use x=\"120.605469\" xlink:href=\"#DejaVuSans-32\"/>\n",
       "      <use x=\"184.228516\" xlink:href=\"#DejaVuSans-27\"/>\n",
       "      <use x=\"211.71875\" xlink:href=\"#DejaVuSans-7d\"/>\n",
       "     </g>\n",
       "    </g>\n",
       "   </g>\n",
       "  </g>\n",
       " </g>\n",
       " <defs>\n",
       "  <clipPath id=\"pfa272da48e\">\n",
       "   <rect height=\"237.828947\" width=\"425.99952\" x=\"7.2\" y=\"7.2\"/>\n",
       "  </clipPath>\n",
       " </defs>\n",
       "</svg>\n"
      ],
      "text/plain": [
       "<Figure size 432x432 with 1 Axes>"
      ]
     },
     "metadata": {},
     "output_type": "display_data"
    }
   ],
   "source": [
    "(mps1.H & mps).draw()"
   ]
  },
  {
   "cell_type": "code",
   "execution_count": 46,
   "id": "afe86e20-183b-408a-b414-eb88ff5fcdd3",
   "metadata": {},
   "outputs": [
    {
     "name": "stdout",
     "output_type": "stream",
     "text": [
      "Tensor(shape=(2, 2), inds=('_6b0ad6AAAAg', 'k0'), tags=oset(['I0']), backend='numpy', dtype='float64')\n",
      "\n",
      "U.H_(ij)U_(kj) :\n",
      " [[1. 0.]\n",
      " [0. 1.]]\n",
      "\n",
      " ^Diagonal\n"
     ]
    }
   ],
   "source": [
    "# Contract the leftmost with itself\n",
    "print(mps1.tensors[0])\n",
    "res = np.einsum('ij,kj', mps1.H.tensors[0].data, mps1.tensors[0].data) \n",
    "print('\\nU.H_(ij)U_(kj) :\\n {}'.format(res) )\n",
    "\n",
    "print('\\n ^Diagonal')"
   ]
  },
  {
   "cell_type": "code",
   "execution_count": 47,
   "id": "a1e86f86-7c7a-4adb-9076-e4d9853679b3",
   "metadata": {},
   "outputs": [
    {
     "name": "stdout",
     "output_type": "stream",
     "text": [
      "Tensor(shape=(2, 4, 2), inds=('_6b0ad6AAAAg', '_6b0ad6AAAAh', 'k1'), tags=oset(['I1']), backend='numpy', dtype='float64')\n",
      "\n",
      "U.H_(ik)U_(ij) :\n",
      " [[ 1.00000000e+00  0.00000000e+00  5.55111512e-17 -2.77555756e-17]\n",
      " [ 0.00000000e+00  1.00000000e+00  5.55111512e-17  5.55111512e-17]\n",
      " [ 5.55111512e-17  5.55111512e-17  1.00000000e+00  1.11022302e-16]\n",
      " [-2.77555756e-17  5.55111512e-17  1.11022302e-16  1.00000000e+00]]\n",
      "\n",
      " ^Diagonal\n"
     ]
    }
   ],
   "source": [
    "# Contract the middle one with itself\n",
    "print(mps1.tensors[1])\n",
    "res = np.einsum('abc,aec', mps1.H.tensors[1].data, mps1.tensors[1].data) # first and last index\n",
    "print('\\nU.H_(ik)U_(ij) :\\n {}'.format(res) )\n",
    "\n",
    "print('\\n ^Diagonal')"
   ]
  },
  {
   "cell_type": "markdown",
   "id": "e79634cf-ab27-4eb7-b93f-452937260c51",
   "metadata": {},
   "source": [
    "Canonicalization is useful when computing Z:\n",
    "\n",
    "$$Z = \\sum_{v\\in\\mathcal{V}}{|\\psi(v)|^2} = \\sum_{v\\in\\mathcal{V}} <\\psi|v><v|\\psi> = <\\psi|\\psi>$$\n",
    "\n",
    "Namely the contractionof the full network with itself"
   ]
  },
  {
   "cell_type": "code",
   "execution_count": 48,
   "id": "2ffc370c-3767-416e-81e8-ffeb2cdd4fcb",
   "metadata": {},
   "outputs": [
    {
     "data": {
      "text/plain": [
       "0.37240497575643783"
      ]
     },
     "execution_count": 48,
     "metadata": {},
     "output_type": "execute_result"
    }
   ],
   "source": [
    "mps1.H @ mps1"
   ]
  },
  {
   "cell_type": "code",
   "execution_count": 49,
   "id": "ed8618c6-5aed-43a9-b1dd-b63748d5b175",
   "metadata": {},
   "outputs": [
    {
     "name": "stdout",
     "output_type": "stream",
     "text": [
      "Tensor(shape=(4, 2), inds=('_6b0ad6AAAAh', 'k2'), tags=oset(['I2']), backend='numpy', dtype='float64')\n",
      "\n",
      "U.H_(ik)U_(ij) :\n",
      " 0.37240497575643794\n"
     ]
    }
   ],
   "source": [
    "# Contract the last one with itself\n",
    "print(mps1.tensors[-1])\n",
    "res = np.einsum('ij,ij', mps1.H.tensors[-1].data, mps1.tensors[-1].data)\n",
    "print('\\nU.H_(ik)U_(ij) :\\n {}'.format(res) )\n"
   ]
  },
  {
   "cell_type": "code",
   "execution_count": null,
   "id": "3c727104-fac4-4208-b53b-0df9d26de21d",
   "metadata": {},
   "outputs": [],
   "source": []
  }
 ],
 "metadata": {
  "kernelspec": {
   "display_name": "Python 3 (ipykernel)",
   "language": "python",
   "name": "python3"
  },
  "language_info": {
   "codemirror_mode": {
    "name": "ipython",
    "version": 3
   },
   "file_extension": ".py",
   "mimetype": "text/x-python",
   "name": "python",
   "nbconvert_exporter": "python",
   "pygments_lexer": "ipython3",
   "version": "3.9.7"
  }
 },
 "nbformat": 4,
 "nbformat_minor": 5
}
