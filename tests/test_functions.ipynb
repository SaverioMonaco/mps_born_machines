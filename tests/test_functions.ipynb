{
 "cells": [
  {
   "cell_type": "code",
   "execution_count": null,
   "id": "0dd2b197-51ca-4067-94fa-af00ddace9e7",
   "metadata": {},
   "outputs": [],
   "source": [
    "#################\n",
    "#### IMPORTS ####\n",
    "#################\n",
    "\n",
    "# Arrays\n",
    "import numpy as np\n",
    "\n",
    "# Deep Learning stuff\n",
    "import torch\n",
    "import torchvision\n",
    "import torchvision.transforms as transforms\n",
    "\n",
    "# Images display and plots\n",
    "import matplotlib.pyplot as plt\n",
    "\n",
    "# Fancy progress bars\n",
    "import tqdm.notebook as tq\n",
    "\n",
    "# Tensor Network Stuff\n",
    "%config InlineBackend.figure_formats = ['svg']\n",
    "import quimb.tensor as qtn # Tensor Network library\n",
    "import quimb\n"
   ]
  },
  {
   "cell_type": "code",
   "execution_count": null,
   "id": "6755d698-ef0e-4752-a3b0-42a146f60541",
   "metadata": {},
   "outputs": [],
   "source": [
    "import sys\n",
    "sys.path.insert(0, '../')\n",
    "# My functions\n",
    "from TNutils import *\n"
   ]
  },
  {
   "cell_type": "markdown",
   "id": "3cf6fe56-3014-405a-9f2f-a89959c96b19",
   "metadata": {},
   "source": [
    "### 1. Handling MNIST images"
   ]
  },
  {
   "cell_type": "markdown",
   "id": "abbfcd59-a0f9-47cd-b9c0-c66139c7e2e8",
   "metadata": {},
   "source": [
    "Get MNIST data\n",
    "1. Actually download data\n",
    "2. Flatten each image\n",
    "3. Normalize [0,255] -> [0,1]\n",
    "4. Trasform from grayscale to binary images [0,1] -> {0,1}"
   ]
  },
  {
   "cell_type": "code",
   "execution_count": null,
   "id": "23d49cfd-8647-401d-a030-f564e5dbb8b9",
   "metadata": {},
   "outputs": [],
   "source": [
    "train_set, test_set = get_data()\n"
   ]
  },
  {
   "cell_type": "code",
   "execution_count": null,
   "id": "516f0e99-9072-43cc-b097-4fac2febd18d",
   "metadata": {},
   "outputs": [],
   "source": [
    "print('Shape of the training set: {}'.format(train_set.shape) )\n",
    "print('Shape of the test set:     {}'.format(test_set.shape) )\n"
   ]
  },
  {
   "cell_type": "markdown",
   "id": "eff12766-aed6-4916-a98e-8348cad093b9",
   "metadata": {},
   "source": [
    "Example of an image:"
   ]
  },
  {
   "cell_type": "code",
   "execution_count": null,
   "id": "45e310b3-233c-4f20-bffc-92f99c899a13",
   "metadata": {},
   "outputs": [],
   "source": [
    "plot_img(train_set[1])\n"
   ]
  },
  {
   "cell_type": "markdown",
   "id": "339e0876-76f9-4e07-8501-2b90fade1070",
   "metadata": {},
   "source": [
    "Further on, we will like to get rid parts of the image and reconstruct them.\n",
    "There is a function for partially removing parts of the image in the test set:"
   ]
  },
  {
   "cell_type": "code",
   "execution_count": null,
   "id": "3630a78e-7d20-443f-8f4e-bd46d2251d12",
   "metadata": {},
   "outputs": [],
   "source": [
    "plot_img( partial_removal_img(train_set[1], fraction = .4, axis = 1))"
   ]
  },
  {
   "cell_type": "code",
   "execution_count": null,
   "id": "e2219fd8-38fa-4f57-b98b-0bb454d47831",
   "metadata": {},
   "outputs": [],
   "source": []
  },
  {
   "cell_type": "markdown",
   "id": "24b5a9df-eef7-4271-aa6b-eb046940b2db",
   "metadata": {},
   "source": [
    "### 2. MPS "
   ]
  },
  {
   "cell_type": "markdown",
   "id": "3ad1c4b2-a5a1-4021-81f0-c897771c5caf",
   "metadata": {},
   "source": [
    "1. Create an MPS network\n",
    "2. Canonicalize towards the second tensor\n",
    "3. Rename indexes (in a readable form)"
   ]
  },
  {
   "cell_type": "code",
   "execution_count": null,
   "id": "215aa3e1-8f89-4aea-b99f-e04bbb2a9d9a",
   "metadata": {},
   "outputs": [],
   "source": [
    "toymps = initialize_mps(Ldim=10, bdim=10)"
   ]
  },
  {
   "cell_type": "markdown",
   "id": "c1e014fe-ee0e-41ce-9f3e-49184cb9caef",
   "metadata": {},
   "source": [
    "Inspect shape/canonicalization"
   ]
  },
  {
   "cell_type": "code",
   "execution_count": null,
   "id": "a5736ecd-6731-4ba0-bc35-9082edd20895",
   "metadata": {},
   "outputs": [],
   "source": [
    "toymps.show()"
   ]
  },
  {
   "cell_type": "markdown",
   "id": "4ca81ae6-41e1-46bb-b5d0-bc9ade08d434",
   "metadata": {},
   "source": [
    "Inspect indexes"
   ]
  },
  {
   "cell_type": "code",
   "execution_count": null,
   "id": "01e72f03-fbe5-4773-9d9a-5699e0b95cc1",
   "metadata": {},
   "outputs": [],
   "source": [
    "toymps.tensors"
   ]
  },
  {
   "cell_type": "code",
   "execution_count": null,
   "id": "7095c0fb-521c-4f37-ad6d-657fb6355ade",
   "metadata": {},
   "outputs": [],
   "source": []
  },
  {
   "cell_type": "code",
   "execution_count": null,
   "id": "10d8954f-8ae1-4400-b2ec-9164d0d571af",
   "metadata": {},
   "outputs": [],
   "source": [
    "mps = initialize_mps(bdim=30)"
   ]
  },
  {
   "cell_type": "markdown",
   "id": "8c4b95c4-4850-40c4-9e31-b31d30942bbb",
   "metadata": {},
   "source": [
    "I developed two forms to compute the contraction of the mps and an image \n",
    "\n",
    "namely psi(v)\n",
    "\n",
    "1. (SLOW) actually creates the network of the image and contract it \n",
    "2. einsums\n",
    "\n",
    "the two methods outputs the same result, but the second is way faster"
   ]
  },
  {
   "cell_type": "code",
   "execution_count": null,
   "id": "ce70cb67-c079-47e5-8b2f-dacb65ae1564",
   "metadata": {},
   "outputs": [],
   "source": [
    "%%time\n",
    "\n",
    "slow_psi = quimb_transform_img2state(train_set[0]) @ mps"
   ]
  },
  {
   "cell_type": "code",
   "execution_count": null,
   "id": "2af27cd2-172a-4288-82e7-0c1c3bf2b6e6",
   "metadata": {},
   "outputs": [],
   "source": [
    "%%time \n",
    "\n",
    "fast_psi = computepsi(mps, train_set[0])"
   ]
  },
  {
   "cell_type": "code",
   "execution_count": null,
   "id": "fdbf6be1-0008-41fd-b0c7-415b1422db98",
   "metadata": {},
   "outputs": [],
   "source": []
  },
  {
   "cell_type": "markdown",
   "id": "ba33270c-4da6-4be9-8833-415afd267603",
   "metadata": {},
   "source": [
    "### 3. Learning"
   ]
  },
  {
   "cell_type": "code",
   "execution_count": null,
   "id": "d2237dff-5f55-4d6e-933f-a7c73aac5c5a",
   "metadata": {},
   "outputs": [],
   "source": [
    "imgs = train_set[:2]\n",
    "mps = initialize_mps(bdim=30)\n"
   ]
  },
  {
   "cell_type": "code",
   "execution_count": null,
   "id": "b457af54-92e2-46f4-97c1-5a366a42ae81",
   "metadata": {},
   "outputs": [],
   "source": [
    "# Compute probability of the first image of the training set of the untrained network\n",
    "computepsi(mps,imgs[0])**2"
   ]
  },
  {
   "cell_type": "code",
   "execution_count": null,
   "id": "07ce80a0-8169-4302-b8c9-f47f316c06ca",
   "metadata": {},
   "outputs": [],
   "source": [
    "learning_epoch(mps, imgs, 1, 0.1)\n"
   ]
  },
  {
   "cell_type": "code",
   "execution_count": null,
   "id": "7437a4d4-cbd8-407c-a760-ff88923f3dcc",
   "metadata": {},
   "outputs": [],
   "source": [
    "# YOU CAN GET PROBABILITIES MORE THAN ONE, WE NEED TO RE-NORMALIZE THE MPS\n",
    "mps = mps / mps.norm()\n"
   ]
  },
  {
   "cell_type": "code",
   "execution_count": null,
   "id": "357b28cd-34a8-4157-ae58-e5315dd7c9e0",
   "metadata": {},
   "outputs": [],
   "source": [
    "# Compute probability of the first image of the training set of the trained network\n",
    "computepsi(mps,imgs[0])**2\n"
   ]
  },
  {
   "cell_type": "code",
   "execution_count": null,
   "id": "c7c0eab0-8fae-4e88-a00f-95006eb11ab5",
   "metadata": {},
   "outputs": [],
   "source": [
    "# Compute probability of random noise from the trained network\n",
    "computepsi(mps,np.random.randint(0,2,(784)) )**2\n"
   ]
  },
  {
   "cell_type": "code",
   "execution_count": null,
   "id": "0f0feb5b-0e73-4360-b222-f5851b2ad4ab",
   "metadata": {},
   "outputs": [],
   "source": [
    "computeNLL(mps, imgs)"
   ]
  },
  {
   "cell_type": "code",
   "execution_count": null,
   "id": "2564b4be-41ed-4795-8c11-fa075f6a9638",
   "metadata": {},
   "outputs": [],
   "source": [
    "computepsi(mps,imgs[0])**2"
   ]
  },
  {
   "cell_type": "code",
   "execution_count": null,
   "id": "bc17ac7e-7913-4079-97d9-85f847ac0228",
   "metadata": {},
   "outputs": [],
   "source": []
  },
  {
   "cell_type": "markdown",
   "id": "05c8fcc3-31af-4a3c-91b3-ed321dee3039",
   "metadata": {},
   "source": [
    "### 4. Generation"
   ]
  },
  {
   "cell_type": "code",
   "execution_count": null,
   "id": "a6e27620-2e1f-476f-aa17-ca4dbace0109",
   "metadata": {},
   "outputs": [],
   "source": [
    "gen = generate_sample(mps)\n",
    "gen.appendleft(0) # I didn't bother to apply the last step in the loop of the generation function\n",
    "plot_img(gen)"
   ]
  },
  {
   "cell_type": "code",
   "execution_count": null,
   "id": "121d2c9d-dc13-428e-9a53-84b885f89cfa",
   "metadata": {},
   "outputs": [],
   "source": []
  }
 ],
 "metadata": {
  "kernelspec": {
   "display_name": "Python 3 (ipykernel)",
   "language": "python",
   "name": "python3"
  },
  "language_info": {
   "codemirror_mode": {
    "name": "ipython",
    "version": 3
   },
   "file_extension": ".py",
   "mimetype": "text/x-python",
   "name": "python",
   "nbconvert_exporter": "python",
   "pygments_lexer": "ipython3",
   "version": "3.9.7"
  }
 },
 "nbformat": 4,
 "nbformat_minor": 5
}
