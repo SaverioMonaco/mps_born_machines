{
 "cells": [
  {
   "cell_type": "code",
   "execution_count": 1,
   "id": "0dd2b197-51ca-4067-94fa-af00ddace9e7",
   "metadata": {},
   "outputs": [],
   "source": [
    "#################\n",
    "#### IMPORTS ####\n",
    "#################\n",
    "\n",
    "# Arrays\n",
    "import numpy as np\n",
    "import cytoolz\n",
    "\n",
    "# Deep Learning stuff\n",
    "import torch\n",
    "import torchvision\n",
    "import torchvision.transforms as transforms\n",
    "\n",
    "# Images display and plots\n",
    "import matplotlib.pyplot as plt\n",
    "from matplotlib.colors import LinearSegmentedColormap\n",
    "from matplotlib.colors import ListedColormap\n",
    "import matplotlib.pylab as pl\n",
    "\n",
    "# Fancy progress bars\n",
    "import tqdm.notebook as tq\n",
    "\n",
    "# Tensor Network Stuff\n",
    "%config InlineBackend.figure_formats = ['svg']\n",
    "import quimb.tensor as qtn # Tensor Network library\n",
    "import quimb\n",
    "\n",
    "import collections\n",
    "import opt_einsum as oe\n",
    "import itertools\n",
    "import copy"
   ]
  },
  {
   "cell_type": "code",
   "execution_count": 2,
   "id": "6755d698-ef0e-4752-a3b0-42a146f60541",
   "metadata": {},
   "outputs": [],
   "source": [
    "import sys\n",
    "sys.path.insert(0, '../')\n",
    "# My functions\n",
    "from TNutils import *\n"
   ]
  },
  {
   "cell_type": "markdown",
   "id": "3cf6fe56-3014-405a-9f2f-a89959c96b19",
   "metadata": {},
   "source": [
    "### 1. Handling MNIST images"
   ]
  },
  {
   "cell_type": "markdown",
   "id": "abbfcd59-a0f9-47cd-b9c0-c66139c7e2e8",
   "metadata": {},
   "source": [
    "Get MNIST data\n",
    "1. Actually download data\n",
    "2. Flatten each image\n",
    "3. Normalize [0,255] -> [0,1]\n",
    "4. Trasform from grayscale to binary images [0,1] -> {0,1}"
   ]
  },
  {
   "cell_type": "code",
   "execution_count": 3,
   "id": "23d49cfd-8647-401d-a030-f564e5dbb8b9",
   "metadata": {},
   "outputs": [],
   "source": [
    "train_set, test_set = get_data()\n"
   ]
  },
  {
   "cell_type": "code",
   "execution_count": 4,
   "id": "516f0e99-9072-43cc-b097-4fac2febd18d",
   "metadata": {},
   "outputs": [
    {
     "name": "stdout",
     "output_type": "stream",
     "text": [
      "Shape of the training set: (1000, 784)\n",
      "Shape of the test set:     (100, 784)\n"
     ]
    }
   ],
   "source": [
    "print('Shape of the training set: {}'.format(train_set.shape) )\n",
    "print('Shape of the test set:     {}'.format(test_set.shape) )\n"
   ]
  },
  {
   "cell_type": "markdown",
   "id": "eff12766-aed6-4916-a98e-8348cad093b9",
   "metadata": {},
   "source": [
    "Example of an image:"
   ]
  },
  {
   "cell_type": "code",
   "execution_count": 6,
   "id": "45e310b3-233c-4f20-bffc-92f99c899a13",
   "metadata": {},
   "outputs": [
    {
     "data": {
      "image/svg+xml": [
       "<?xml version=\"1.0\" encoding=\"utf-8\" standalone=\"no\"?>\n",
       "<!DOCTYPE svg PUBLIC \"-//W3C//DTD SVG 1.1//EN\"\n",
       "  \"http://www.w3.org/Graphics/SVG/1.1/DTD/svg11.dtd\">\n",
       "<svg height=\"231.84pt\" version=\"1.1\" viewBox=\"0 0 231.84 231.84\" width=\"231.84pt\" xmlns=\"http://www.w3.org/2000/svg\" xmlns:xlink=\"http://www.w3.org/1999/xlink\">\n",
       " <metadata>\n",
       "  <rdf:RDF xmlns:cc=\"http://creativecommons.org/ns#\" xmlns:dc=\"http://purl.org/dc/elements/1.1/\" xmlns:rdf=\"http://www.w3.org/1999/02/22-rdf-syntax-ns#\">\n",
       "   <cc:Work>\n",
       "    <dc:type rdf:resource=\"http://purl.org/dc/dcmitype/StillImage\"/>\n",
       "    <dc:date>2022-03-19T18:47:54.455712</dc:date>\n",
       "    <dc:format>image/svg+xml</dc:format>\n",
       "    <dc:creator>\n",
       "     <cc:Agent>\n",
       "      <dc:title>Matplotlib v3.4.3, https://matplotlib.org/</dc:title>\n",
       "     </cc:Agent>\n",
       "    </dc:creator>\n",
       "   </cc:Work>\n",
       "  </rdf:RDF>\n",
       " </metadata>\n",
       " <defs>\n",
       "  <style type=\"text/css\">*{stroke-linecap:butt;stroke-linejoin:round;}</style>\n",
       " </defs>\n",
       " <g id=\"figure_1\">\n",
       "  <g id=\"patch_1\">\n",
       "   <path d=\"M 0 231.84 \n",
       "L 231.84 231.84 \n",
       "L 231.84 0 \n",
       "L 0 0 \n",
       "z\n",
       "\" style=\"fill:none;\"/>\n",
       "  </g>\n",
       "  <g id=\"axes_1\">\n",
       "   <g clip-path=\"url(#p11753fedaf)\">\n",
       "    <image height=\"218\" id=\"imagec760e7c36a\" transform=\"scale(1 -1)translate(0 -218)\" width=\"218\" x=\"7.2\" xlink:href=\"data:image/png;base64,\n",
       "iVBORw0KGgoAAAANSUhEUgAAANoAAADaCAYAAADAHVzbAAADGUlEQVR4nO3dwWrCQBRAUVP8/19O1wVpaHVuJplztoKIenmQxyTbvu/7g6ls2/br636y6/k6+wPACoQGAaFBQGgQEBoEhAYBoUHgefYHWNHRnoz7MdEgIDQICA0CQoOA0CAgNAgIDQL2aBNy3ux+TDQICA0CQoOA0CAgNAgIDQIu7w/yzlEYt5u7HxMNAkKDgNAgIDQICA0CQoOA0CCweWxTb/Tt5vyk8zHRICA0CAgNAkKDgNAgIDQICA0CQoOA0CAgNAgIDQJCg4DQICA0CAgNAu7reIKj82Kjz6vRM9EgIDQICA0CQoOA0CAgNAgIDQL2aDfk+WrzMdEgIDQICA0CQoOA0CAgNAh4bNMFjTxG4+8whokGAaFBQGgQEBoEhAYBoUFAaBCwR7she7b5mGgQEBoEhAYBoUFAaBAQGgSEBgGhQUBoEBAaBIQGAaFBQGgQEBoEhAYB59EW5Lxaz0SDgNAgIDQICA0CQoOA0CDg8j4/jLz0/3ise/nfRIOA0CAgNAgIDQJCg4DQICA0CNij8SeO2PyPiQYBoUFAaBAQGgSEBgGhQUBoELBH46Ps2V4z0SAgNAgIDQJCg4DQICA0CAgNAvZopFbds5loEBAaBIQGAaFBQGgQEBoEhAaB58g3f3dnMvNehNdGP1/tqkw0CAgNAkKDgNAgIDQICA0Cpx6TWfVS8NFXvur3cuTK6x4TDQJCg4DQICA0CAgNAkKDgNAgMPXt5uyT1jLxX/FtJhoEhAYBoUFAaBAQGgSEBgGhQWDo7ebedeZexQ7vtTvvukYy0SAgNAgIDQJCg4DQICA0CAgNAlPv0c5kX8QnmWgQEBoEhAYBoUFAaBAQGgSEBgGhQUBoEBAaBIQGAaFBQGgQEBoEhAYBoUFAaBAQGgSEBgGhQUBoEBAaBIQGAaFBQGgQEBoEhAYBoUFAaBAQGgSEBgGhQUBoEBAaBIQGAaFBQGgQEBoEhAYBoUFAaBAQGgSEBgGhQUBoEBAaBIQGAaFBQGgQEBoEhAYBoUFAaBAQGgSEBgGhQUBoEBAaBIQGAaFBQGgQ+AaMD2mOd6xk/wAAAABJRU5ErkJggg==\" y=\"-6.64\"/>\n",
       "   </g>\n",
       "  </g>\n",
       " </g>\n",
       " <defs>\n",
       "  <clipPath id=\"p11753fedaf\">\n",
       "   <rect height=\"217.44\" width=\"217.44\" x=\"7.2\" y=\"7.2\"/>\n",
       "  </clipPath>\n",
       " </defs>\n",
       "</svg>\n"
      ],
      "text/plain": [
       "<Figure size 432x288 with 1 Axes>"
      ]
     },
     "metadata": {
      "needs_background": "light"
     },
     "output_type": "display_data"
    }
   ],
   "source": [
    "plot_img(train_set[1])\n"
   ]
  },
  {
   "cell_type": "markdown",
   "id": "339e0876-76f9-4e07-8501-2b90fade1070",
   "metadata": {},
   "source": [
    "Further on, we will like to get rid parts of the image and reconstruct them.\n",
    "There is a function for partially removing parts of the image in the test set:"
   ]
  },
  {
   "cell_type": "code",
   "execution_count": 6,
   "id": "3630a78e-7d20-443f-8f4e-bd46d2251d12",
   "metadata": {},
   "outputs": [
    {
     "data": {
      "image/svg+xml": [
       "<?xml version=\"1.0\" encoding=\"utf-8\" standalone=\"no\"?>\n",
       "<!DOCTYPE svg PUBLIC \"-//W3C//DTD SVG 1.1//EN\"\n",
       "  \"http://www.w3.org/Graphics/SVG/1.1/DTD/svg11.dtd\">\n",
       "<svg height=\"231.84pt\" version=\"1.1\" viewBox=\"0 0 231.84 231.84\" width=\"231.84pt\" xmlns=\"http://www.w3.org/2000/svg\" xmlns:xlink=\"http://www.w3.org/1999/xlink\">\n",
       " <metadata>\n",
       "  <rdf:RDF xmlns:cc=\"http://creativecommons.org/ns#\" xmlns:dc=\"http://purl.org/dc/elements/1.1/\" xmlns:rdf=\"http://www.w3.org/1999/02/22-rdf-syntax-ns#\">\n",
       "   <cc:Work>\n",
       "    <dc:type rdf:resource=\"http://purl.org/dc/dcmitype/StillImage\"/>\n",
       "    <dc:date>2022-03-17T10:59:49.096455</dc:date>\n",
       "    <dc:format>image/svg+xml</dc:format>\n",
       "    <dc:creator>\n",
       "     <cc:Agent>\n",
       "      <dc:title>Matplotlib v3.4.3, https://matplotlib.org/</dc:title>\n",
       "     </cc:Agent>\n",
       "    </dc:creator>\n",
       "   </cc:Work>\n",
       "  </rdf:RDF>\n",
       " </metadata>\n",
       " <defs>\n",
       "  <style type=\"text/css\">*{stroke-linecap:butt;stroke-linejoin:round;}</style>\n",
       " </defs>\n",
       " <g id=\"figure_1\">\n",
       "  <g id=\"patch_1\">\n",
       "   <path d=\"M 0 231.84 \n",
       "L 231.84 231.84 \n",
       "L 231.84 0 \n",
       "L 0 0 \n",
       "z\n",
       "\" style=\"fill:none;\"/>\n",
       "  </g>\n",
       "  <g id=\"axes_1\">\n",
       "   <g clip-path=\"url(#pa5d90c2de1)\">\n",
       "    <image height=\"218\" id=\"image889cb6c2e0\" transform=\"scale(1 -1)translate(0 -218)\" width=\"218\" x=\"7.2\" xlink:href=\"data:image/png;base64,\n",
       "iVBORw0KGgoAAAANSUhEUgAAANoAAADaCAYAAADAHVzbAAAC70lEQVR4nO3dwWrDMBQAwark/39ZPRV6sqGJV1E8c83FCSwP/JAy5pzzC7jU9+oHgDsQGgSEBgGhQUBoEBAaBIQGAaFBQGgQEBoEhAYBoUFAaBAQGgSEBgGhQUBoEBAaBIQGAaFBQGgQEBoEHqsfgNcbYxx+7obBnokGAaFBQGgQEBoEhAYBoUFAaBAQGgSEBgGhQUBoEBAaBIQGAaFBQGgQcB7tAzlv9n5MNAgIDQJCg4DQICA0CAgNAkKDgNAgIDQICA0CQoOA0CAgNAgIDQJCg4DQICA0CAgNAkKDgNAgIDQICA0CQoOA0CAgNAgIDQJCg4DQICA0CAgNAkKDgNAgIDQICA0CQoOA0CAgNAgIDQKP1Q/A640xDj+fc0ZPwi8TDQJCg4DQICA0CAgNAkKDgNAgsPUe7Wxf9IyVu6YrvxdrmGgQEBoEhAYBoUFAaBAQGgS2fr1/pXd+xe6Yy35MNAgIDQJCg4DQICA0CAgNAkKDgD3aAvZg92OiQUBoEBAaBIQGAaFBQGgQEBoEtt6jPbOPuvq8mV0Zf5loEBAaBIQGAaFBQGgQEBoEhAaBMS18/uWZPZyf/H5MNAgIDQJCg4DQICA0CAgNAkKDgNAgIDQICA0CQoOA0CAgNAgIDQJbXze30tlRl6uvs2MvJhoEhAYBoUFAaBAQGgSEBgGhQcAebYGzHZvr6D6PiQYBoUFAaBAQGgSEBgGhQUBoEBAaBIQGAaFBQGgQEBoEhAYBoUFAaBBwHu0iR2fK3Pl4PyYaBIQGAaFBQGgQEBoEhAYBoUFAaBAQGgSEBgGhQUBoEBAaBIQGAcdkFvC3TPdjokFAaBAQGgSEBgGhQUBoEBAaBIQGAaFBQGgQEBoEhAYBoUFAaBAQGgSEBgGhQUBoEBAaBIQGAaFBQGgQEBoEhAYBoUFAaBAQGgSEBgGhQUBoEBAaBIQGAaFBQGgQEBoEhAYBoUFAaBAQGgSEBgGhQUBoEBAaBIQGAaFBQGgQ+AETXTC40N+ZEgAAAABJRU5ErkJggg==\" y=\"-6.64\"/>\n",
       "   </g>\n",
       "  </g>\n",
       " </g>\n",
       " <defs>\n",
       "  <clipPath id=\"pa5d90c2de1\">\n",
       "   <rect height=\"217.44\" width=\"217.44\" x=\"7.2\" y=\"7.2\"/>\n",
       "  </clipPath>\n",
       " </defs>\n",
       "</svg>\n"
      ],
      "text/plain": [
       "<Figure size 432x288 with 1 Axes>"
      ]
     },
     "metadata": {
      "needs_background": "light"
     },
     "output_type": "display_data"
    }
   ],
   "source": [
    "plot_img( partial_removal_img(train_set[1], fraction = .4, axis = 1))"
   ]
  },
  {
   "cell_type": "code",
   "execution_count": null,
   "id": "e2219fd8-38fa-4f57-b98b-0bb454d47831",
   "metadata": {},
   "outputs": [],
   "source": []
  },
  {
   "cell_type": "markdown",
   "id": "24b5a9df-eef7-4271-aa6b-eb046940b2db",
   "metadata": {},
   "source": [
    "### 2. MPS "
   ]
  },
  {
   "cell_type": "markdown",
   "id": "3ad1c4b2-a5a1-4021-81f0-c897771c5caf",
   "metadata": {},
   "source": [
    "1. Create an MPS network\n",
    "2. Canonicalize towards the second tensor\n",
    "3. Rename indexes (in a readable form)"
   ]
  },
  {
   "cell_type": "code",
   "execution_count": 7,
   "id": "215aa3e1-8f89-4aea-b99f-e04bbb2a9d9a",
   "metadata": {},
   "outputs": [],
   "source": [
    "toymps = initialize_mps(Ldim=10, bdim=10)"
   ]
  },
  {
   "cell_type": "markdown",
   "id": "c1e014fe-ee0e-41ce-9f3e-49184cb9caef",
   "metadata": {},
   "source": [
    "Inspect shape/canonicalization"
   ]
  },
  {
   "cell_type": "code",
   "execution_count": 8,
   "id": "a5736ecd-6731-4ba0-bc35-9082edd20895",
   "metadata": {},
   "outputs": [
    {
     "name": "stdout",
     "output_type": "stream",
     "text": [
      " 2 10 10 10 10 10 8 4 2 \n",
      ">─●──<──<──<──<──<─<─<─<\n",
      "│ │  │  │  │  │  │ │ │ │\n"
     ]
    }
   ],
   "source": [
    "toymps.show()"
   ]
  },
  {
   "cell_type": "markdown",
   "id": "4ca81ae6-41e1-46bb-b5d0-bc9ade08d434",
   "metadata": {},
   "source": [
    "Inspect indexes"
   ]
  },
  {
   "cell_type": "code",
   "execution_count": 9,
   "id": "01e72f03-fbe5-4773-9d9a-5699e0b95cc1",
   "metadata": {},
   "outputs": [
    {
     "data": {
      "text/plain": [
       "(Tensor(shape=(2, 2), inds=('i0', 'v0'), tags=oset(['I0'])),\n",
       " Tensor(shape=(2, 10, 2), inds=('i0', 'i1', 'v1'), tags=oset(['I1'])),\n",
       " Tensor(shape=(10, 10, 2), inds=('i1', 'i2', 'v2'), tags=oset(['I2'])),\n",
       " Tensor(shape=(10, 10, 2), inds=('i2', 'i3', 'v3'), tags=oset(['I3'])),\n",
       " Tensor(shape=(10, 10, 2), inds=('i3', 'i4', 'v4'), tags=oset(['I4'])),\n",
       " Tensor(shape=(10, 10, 2), inds=('i4', 'i5', 'v5'), tags=oset(['I5'])),\n",
       " Tensor(shape=(10, 8, 2), inds=('i5', 'i6', 'v6'), tags=oset(['I6'])),\n",
       " Tensor(shape=(8, 4, 2), inds=('i6', 'i7', 'v7'), tags=oset(['I7'])),\n",
       " Tensor(shape=(4, 2, 2), inds=('i7', 'i9', 'v8'), tags=oset(['I8'])),\n",
       " Tensor(shape=(2, 2), inds=('i9', 'v9'), tags=oset(['I9'])))"
      ]
     },
     "execution_count": 9,
     "metadata": {},
     "output_type": "execute_result"
    }
   ],
   "source": [
    "toymps.tensors"
   ]
  },
  {
   "cell_type": "code",
   "execution_count": null,
   "id": "7095c0fb-521c-4f37-ad6d-657fb6355ade",
   "metadata": {},
   "outputs": [],
   "source": []
  },
  {
   "cell_type": "code",
   "execution_count": 3,
   "id": "10d8954f-8ae1-4400-b2ec-9164d0d571af",
   "metadata": {},
   "outputs": [],
   "source": [
    "mps = initialize_mps(bdim=30)"
   ]
  },
  {
   "cell_type": "markdown",
   "id": "8c4b95c4-4850-40c4-9e31-b31d30942bbb",
   "metadata": {},
   "source": [
    "I developed two forms to compute the contraction of the mps and an image \n",
    "\n",
    "namely psi(v)\n",
    "\n",
    "1. (SLOW) actually creates the network of the image and contract it \n",
    "2. einsums\n",
    "\n",
    "the two methods outputs the same result, but the second is way faster"
   ]
  },
  {
   "cell_type": "code",
   "execution_count": 11,
   "id": "ce70cb67-c079-47e5-8b2f-dacb65ae1564",
   "metadata": {},
   "outputs": [
    {
     "name": "stdout",
     "output_type": "stream",
     "text": [
      "CPU times: user 3.66 s, sys: 3.87 ms, total: 3.66 s\n",
      "Wall time: 3.66 s\n"
     ]
    }
   ],
   "source": [
    "%%time\n",
    "\n",
    "slow_psi = quimb_transform_img2state(train_set[0]) @ mps"
   ]
  },
  {
   "cell_type": "code",
   "execution_count": 12,
   "id": "2af27cd2-172a-4288-82e7-0c1c3bf2b6e6",
   "metadata": {},
   "outputs": [
    {
     "name": "stdout",
     "output_type": "stream",
     "text": [
      "CPU times: user 21.4 ms, sys: 222 µs, total: 21.7 ms\n",
      "Wall time: 19.4 ms\n"
     ]
    }
   ],
   "source": [
    "%%time \n",
    "\n",
    "fast_psi = computepsi(mps, train_set[0])"
   ]
  },
  {
   "cell_type": "code",
   "execution_count": null,
   "id": "fdbf6be1-0008-41fd-b0c7-415b1422db98",
   "metadata": {},
   "outputs": [],
   "source": []
  },
  {
   "cell_type": "markdown",
   "id": "ba33270c-4da6-4be9-8833-415afd267603",
   "metadata": {},
   "source": [
    "### 3. Learning"
   ]
  },
  {
   "cell_type": "code",
   "execution_count": null,
   "id": "d2237dff-5f55-4d6e-933f-a7c73aac5c5a",
   "metadata": {},
   "outputs": [],
   "source": [
    "imgs = train_set[:2]\n",
    "mps = initialize_mps(bdim=30)\n"
   ]
  },
  {
   "cell_type": "code",
   "execution_count": null,
   "id": "fef36635-7c5e-4195-8a57-8a4161065805",
   "metadata": {},
   "outputs": [],
   "source": []
  },
  {
   "cell_type": "code",
   "execution_count": 35,
   "id": "b457af54-92e2-46f4-97c1-5a366a42ae81",
   "metadata": {},
   "outputs": [
    {
     "data": {
      "text/plain": [
       "2.3701908704769463e-253"
      ]
     },
     "execution_count": 35,
     "metadata": {},
     "output_type": "execute_result"
    }
   ],
   "source": [
    "# Compute probability of the first image of the training set of the untrained network\n",
    "computepsi(mps,imgs[0])**2"
   ]
  },
  {
   "cell_type": "code",
   "execution_count": 36,
   "id": "07ce80a0-8169-4302-b8c9-f47f316c06ca",
   "metadata": {},
   "outputs": [
    {
     "data": {
      "application/vnd.jupyter.widget-view+json": {
       "model_id": "50fd60bbf9444ae280b43728e5c2f776",
       "version_major": 2,
       "version_minor": 0
      },
      "text/plain": [
       "  0%|          | 0/1562 [00:00<?, ?it/s]"
      ]
     },
     "metadata": {},
     "output_type": "display_data"
    },
    {
     "data": {
      "application/vnd.jupyter.widget-view+json": {
       "model_id": "5102075aab5a424e86fcd0fd7a04c723",
       "version_major": 2,
       "version_minor": 0
      },
      "text/plain": [
       "  0%|          | 0/1562 [00:00<?, ?it/s]"
      ]
     },
     "metadata": {},
     "output_type": "display_data"
    },
    {
     "data": {
      "application/vnd.jupyter.widget-view+json": {
       "model_id": "15cdad5acb754fbc9b1f2dd57cdbb52d",
       "version_major": 2,
       "version_minor": 0
      },
      "text/plain": [
       "  0%|          | 0/1562 [00:00<?, ?it/s]"
      ]
     },
     "metadata": {},
     "output_type": "display_data"
    }
   ],
   "source": [
    "for epoch in range(3):\n",
    "    learning_epoch_sgd(mps, imgs, 3, 0.1)\n"
   ]
  },
  {
   "cell_type": "code",
   "execution_count": 37,
   "id": "357b28cd-34a8-4157-ae58-e5315dd7c9e0",
   "metadata": {},
   "outputs": [
    {
     "data": {
      "text/plain": [
       "0.38430046322321615"
      ]
     },
     "execution_count": 37,
     "metadata": {},
     "output_type": "execute_result"
    }
   ],
   "source": [
    "# Compute probability of the first image of the training set of the trained network\n",
    "computepsi(mps,imgs[0])**2 / mps.norm()\n"
   ]
  },
  {
   "cell_type": "code",
   "execution_count": 38,
   "id": "c7c0eab0-8fae-4e88-a00f-95006eb11ab5",
   "metadata": {},
   "outputs": [
    {
     "data": {
      "text/plain": [
       "5.101239428870765e-254"
      ]
     },
     "execution_count": 38,
     "metadata": {},
     "output_type": "execute_result"
    }
   ],
   "source": [
    "# Compute probability of random noise from the trained network\n",
    "computepsi(mps,np.random.randint(0,2,(784)) )**2 / mps.norm()"
   ]
  },
  {
   "cell_type": "code",
   "execution_count": 39,
   "id": "0f0feb5b-0e73-4360-b222-f5851b2ad4ab",
   "metadata": {},
   "outputs": [
    {
     "data": {
      "text/plain": [
       "5.357394762688644"
      ]
     },
     "execution_count": 39,
     "metadata": {},
     "output_type": "execute_result"
    }
   ],
   "source": [
    "computeNLL(mps/mps.norm(), imgs)"
   ]
  },
  {
   "cell_type": "code",
   "execution_count": null,
   "id": "bc17ac7e-7913-4079-97d9-85f847ac0228",
   "metadata": {},
   "outputs": [],
   "source": []
  },
  {
   "cell_type": "markdown",
   "id": "05c8fcc3-31af-4a3c-91b3-ed321dee3039",
   "metadata": {},
   "source": [
    "### 4. Generation"
   ]
  },
  {
   "cell_type": "code",
   "execution_count": 12,
   "id": "a6e27620-2e1f-476f-aa17-ca4dbace0109",
   "metadata": {},
   "outputs": [
    {
     "data": {
      "image/svg+xml": [
       "<?xml version=\"1.0\" encoding=\"utf-8\" standalone=\"no\"?>\n",
       "<!DOCTYPE svg PUBLIC \"-//W3C//DTD SVG 1.1//EN\"\n",
       "  \"http://www.w3.org/Graphics/SVG/1.1/DTD/svg11.dtd\">\n",
       "<svg height=\"231.84pt\" version=\"1.1\" viewBox=\"0 0 231.84 231.84\" width=\"231.84pt\" xmlns=\"http://www.w3.org/2000/svg\" xmlns:xlink=\"http://www.w3.org/1999/xlink\">\n",
       " <metadata>\n",
       "  <rdf:RDF xmlns:cc=\"http://creativecommons.org/ns#\" xmlns:dc=\"http://purl.org/dc/elements/1.1/\" xmlns:rdf=\"http://www.w3.org/1999/02/22-rdf-syntax-ns#\">\n",
       "   <cc:Work>\n",
       "    <dc:type rdf:resource=\"http://purl.org/dc/dcmitype/StillImage\"/>\n",
       "    <dc:date>2022-03-17T18:19:02.144352</dc:date>\n",
       "    <dc:format>image/svg+xml</dc:format>\n",
       "    <dc:creator>\n",
       "     <cc:Agent>\n",
       "      <dc:title>Matplotlib v3.4.3, https://matplotlib.org/</dc:title>\n",
       "     </cc:Agent>\n",
       "    </dc:creator>\n",
       "   </cc:Work>\n",
       "  </rdf:RDF>\n",
       " </metadata>\n",
       " <defs>\n",
       "  <style type=\"text/css\">*{stroke-linecap:butt;stroke-linejoin:round;}</style>\n",
       " </defs>\n",
       " <g id=\"figure_1\">\n",
       "  <g id=\"patch_1\">\n",
       "   <path d=\"M 0 231.84 \n",
       "L 231.84 231.84 \n",
       "L 231.84 0 \n",
       "L 0 0 \n",
       "z\n",
       "\" style=\"fill:none;\"/>\n",
       "  </g>\n",
       "  <g id=\"axes_1\">\n",
       "   <g clip-path=\"url(#pefd4744897)\">\n",
       "    <image height=\"218\" id=\"image2126277314\" transform=\"scale(1 -1)translate(0 -218)\" width=\"218\" x=\"7.2\" xlink:href=\"data:image/png;base64,\n",
       "iVBORw0KGgoAAAANSUhEUgAAANoAAADaCAYAAADAHVzbAAAD1klEQVR4nO3dW27bMBQAUavw/rfsfhdIpCQsh7Ryzm8byQ8NCPiC0vF6vV6PE8dxnP3zqYtDX9r53KPHn3nunT+3mee+MvO1XR37z4/PDHyZ0CAgNAgIDQJCg4DQICA0CDyv/sPIbGP2LGr23OXMyHsbmed8xczvbPTcZ8dfObu8Ov7o52JFg4DQICA0CAgNAkKDgNAgIDQIXM7RVs423nUeNGrlnrAru37fj8f4+565X82KBgGhQUBoEBAaBIQGAaFBYOo2mSurt0Wcmb2VZddzX5k5Nlk9kpk5TrKiQUBoEBAaBIQGAaFBQGgQEBoEnrNnFyN/u/IxO6PHH/nb2fPFs+Pv/Nimld/ZKCsaBIQGAaFBQGgQEBoEhAYBoUHguXKW9c5mfi6rb7s2YuR62vl9j742KxoEhAYBoUFAaBAQGgSEBgGhQeB4PB7Lhl2r92WN2Hlm81v3hI1eLx7bBG9OaBAQGgSEBgGhQUBoEBAaBI7XxQBg52d17ezOe/HOjMyyVs7Bro4/emwrGgSEBgGhQUBoEBAaBIQGgcuf9y8PMHD7sJ23XMy08rFMO5v9vj22CW5OaBAQGgSEBgGhQUBoEBAaBIbnaOxn5laVUSOX28r54+hM2IoGAaFBQGgQEBoEhAYBoUFAaBAwR+MfO8/R3pkVDQJCg4DQICA0CAgNAkKDgNAgIDQICA0CQoOA0CAgNAgIDQJCg4DQICA0CAgNAkKDgNAgIDQICA0CQoPAc/UL4Ptm3xJuxG+9ndwVKxoEhAYBoUFAaBAQGgSEBgGhQcAcbUM7z8n4GSsaBIQGAaFBQGgQEBoEhAYBoUHAHG1DV3u6zNnejxUNAkKDgNAgIDQICA0CQoOA0CBwvNyI73Z2nrP91svNigYBoUFAaBAQGgSEBgGhQcDP+/xj5WjgzpeiFQ0CQoOA0CAgNAgIDQJCg4DQIGCOxreYs/2MFQ0CQoOA0CAgNAgIDQJCg4DQIOCxTXyLR0r9jBUNAkKDgNAgIDQICA0CQoOA0CBgjsZ/Zc72MSsaBIQGAaFBQGgQEBoEhAYBoUHAHO0TO897dr6/4c6f20pWNAgIDQJCg4DQICA0CAgNAn7e/8Sdt3u882t/V1Y0CAgNAkKDgNAgIDQICA0CQoPA8dp5z8VNmWN97M6XohUNAkKDgNAgIDQICA0CQoOA0CBgP9oCd54X8TErGgSEBgGhQUBoEBAaBIQGAaFBQGgQEBoEhAYBoUFAaBAQGgSEBgGhQUBoEBAaBIQGAaFBQGgQEBoEhAYBoUFAaBAQGgSEBgGhQUBoEBAaBIQGgb81wAevB1st9AAAAABJRU5ErkJggg==\" y=\"-6.64\"/>\n",
       "   </g>\n",
       "  </g>\n",
       " </g>\n",
       " <defs>\n",
       "  <clipPath id=\"pefd4744897\">\n",
       "   <rect height=\"217.44\" width=\"217.44\" x=\"7.2\" y=\"7.2\"/>\n",
       "  </clipPath>\n",
       " </defs>\n",
       "</svg>\n"
      ],
      "text/plain": [
       "<Figure size 432x288 with 1 Axes>"
      ]
     },
     "metadata": {
      "needs_background": "light"
     },
     "output_type": "display_data"
    }
   ],
   "source": [
    "gen = generate_sample(mps)\n",
    "plot_img(gen)"
   ]
  },
  {
   "cell_type": "code",
   "execution_count": null,
   "id": "19010f35-f4bc-420c-9823-69cb00add01f",
   "metadata": {},
   "outputs": [],
   "source": []
  },
  {
   "cell_type": "markdown",
   "id": "58dc53a8-846e-43b0-ac67-db35a8b3183b",
   "metadata": {},
   "source": [
    "### 5. MPS Saving and Loading"
   ]
  },
  {
   "cell_type": "code",
   "execution_count": null,
   "id": "121d2c9d-dc13-428e-9a53-84b885f89cfa",
   "metadata": {},
   "outputs": [
    {
     "data": {
      "text/plain": [
       "['./testmps']"
      ]
     },
     "execution_count": 41,
     "metadata": {},
     "output_type": "execute_result"
    }
   ],
   "source": [
    "quimb.utils.save_to_disk(mps, './testmps')"
   ]
  },
  {
   "cell_type": "code",
   "execution_count": null,
   "id": "9186e453-ed02-4259-a937-4acffa574a67",
   "metadata": {},
   "outputs": [],
   "source": [
    "mps = quimb.utils.load_from_disk('./testmps')"
   ]
  },
  {
   "cell_type": "code",
   "execution_count": null,
   "id": "6fa1c4d1-94f8-4b03-872e-564553551715",
   "metadata": {},
   "outputs": [
    {
     "data": {
      "text/plain": [
       "5.357394762688636"
      ]
     },
     "execution_count": 44,
     "metadata": {},
     "output_type": "execute_result"
    }
   ],
   "source": [
    "computeNLL(loaded_mps/loaded_mps.norm(), imgs)"
   ]
  },
  {
   "cell_type": "code",
   "execution_count": null,
   "id": "826d92b2-90f0-44d0-b06d-68281c173924",
   "metadata": {},
   "outputs": [
    {
     "data": {
      "image/svg+xml": [
       "<?xml version=\"1.0\" encoding=\"utf-8\" standalone=\"no\"?>\n",
       "<!DOCTYPE svg PUBLIC \"-//W3C//DTD SVG 1.1//EN\"\n",
       "  \"http://www.w3.org/Graphics/SVG/1.1/DTD/svg11.dtd\">\n",
       "<svg height=\"231.84pt\" version=\"1.1\" viewBox=\"0 0 231.84 231.84\" width=\"231.84pt\" xmlns=\"http://www.w3.org/2000/svg\" xmlns:xlink=\"http://www.w3.org/1999/xlink\">\n",
       " <metadata>\n",
       "  <rdf:RDF xmlns:cc=\"http://creativecommons.org/ns#\" xmlns:dc=\"http://purl.org/dc/elements/1.1/\" xmlns:rdf=\"http://www.w3.org/1999/02/22-rdf-syntax-ns#\">\n",
       "   <cc:Work>\n",
       "    <dc:type rdf:resource=\"http://purl.org/dc/dcmitype/StillImage\"/>\n",
       "    <dc:date>2022-03-17T18:19:11.635357</dc:date>\n",
       "    <dc:format>image/svg+xml</dc:format>\n",
       "    <dc:creator>\n",
       "     <cc:Agent>\n",
       "      <dc:title>Matplotlib v3.4.3, https://matplotlib.org/</dc:title>\n",
       "     </cc:Agent>\n",
       "    </dc:creator>\n",
       "   </cc:Work>\n",
       "  </rdf:RDF>\n",
       " </metadata>\n",
       " <defs>\n",
       "  <style type=\"text/css\">*{stroke-linecap:butt;stroke-linejoin:round;}</style>\n",
       " </defs>\n",
       " <g id=\"figure_1\">\n",
       "  <g id=\"patch_1\">\n",
       "   <path d=\"M 0 231.84 \n",
       "L 231.84 231.84 \n",
       "L 231.84 0 \n",
       "L 0 0 \n",
       "z\n",
       "\" style=\"fill:none;\"/>\n",
       "  </g>\n",
       "  <g id=\"axes_1\">\n",
       "   <g clip-path=\"url(#pae3b2e3568)\">\n",
       "    <image height=\"218\" id=\"image02e418c11b\" transform=\"scale(1 -1)translate(0 -218)\" width=\"218\" x=\"7.2\" xlink:href=\"data:image/png;base64,\n",
       "iVBORw0KGgoAAAANSUhEUgAAANoAAADaCAYAAADAHVzbAAADyUlEQVR4nO3d0Y7aMBRAQVLx/7+cPq/Eki6pj+PszOtWEChHlnJlZ3s8HvvjjX1/++e3tm17+/czr332vY+cvbaz7z/Su882+v/s3esfvfbo73Tkb/3Px68M/DOhQUBoEBAaBIQGAaFBQGgQeI6cZZ11ZqYz+nONnDedfe2ZM7wz7z179jnyva1oEBAaBIQGAaFBQGgQEBoEhAaB58ozm1XN3lc1ck/YyPnhTGevzYoGAaFBQGgQEBoEhAYBoUFg2wfuLZh53NxoZ273rnyU3czj5mZyex8WIDQICA0CQoOA0CAgNAgIDQKHc7RVZzazZ3gjv7eVty6t+qguczRYgNAgIDQICA0CQoOA0CAgNAg8j/7BzKPLZu75urKZRwTOnOGtfDSiFQ0CQoOA0CAgNAgIDQJCg4DQIHA4Rzszuxi5P+ismdc2e96z6oxx9COlRs6ErWgQEBoEhAYBoUFAaBAQGgSEBoHDOdpIK8/Jrnx24pGR86KRs6ojV/49WdEgIDQICA0CQoOA0CAgNAgMPW5utJG3qY/M/F5G3gY/e90zt1Udmbk9yIoGAaFBQGgQEBoEhAYBoUFAaBDY9lXPHuNbM2d4Mx+1deXPbUWDgNAgIDQICA0CQoOA0CAgNAiYo/HFnfeEzWRFg4DQICA0CAgNAkKDgNAgIDQICA0CQoOA0CAgNAgIDQJCg4DQICA0CAgNAkKDgNAgIDQICA0CQoOA0CDwnH0B/NzoI+HO+K3HyR2xokFAaBAQGgSEBgGhQUBoEBAaBMzRLujKczI+Y0WDgNAgIDQICA0CQoOA0CAgNAiYo13Q0Z4uc7b1WNEgIDQICA0CQoOA0CAgNAgIDQLb7iC+27nynO23/tysaBAQGgSEBgGhQUBoEBAaBNze54uZo4E7/xStaBAQGgSEBgGhQUBoEBAaBIQGAXM0fsSc7TNWNAgIDQJCg4DQICA0CAgNAkKDgMc28SMeKfUZKxoEhAYBoUFAaBAQGgSEBgGhQcAcjf/KnO01KxoEhAYBoUFAaBAQGgSEBgGhQcAc7RtXnvdc+XzDK39vM1nRICA0CAgNAkKDgNAgIDQIuL3/jTtv91j52ldlRYOA0CAgNAgIDQJCg4DQICA0CGz7lfdc3JQ51mt3/ila0SAgNAgIDQJCg4DQICA0CAgNAvajTXDneRGvWdEgIDQICA0CQoOA0CAgNAgIDQJCg4DQICA0CAgNAkKDgNAgIDQICA0CQoOA0CAgNAgIDQJCg4DQICA0CAgNAkKDgNAgIDQICA0CQoOA0CAgNAj8BdlI8b+IWO7gAAAAAElFTkSuQmCC\" y=\"-6.64\"/>\n",
       "   </g>\n",
       "  </g>\n",
       " </g>\n",
       " <defs>\n",
       "  <clipPath id=\"pae3b2e3568\">\n",
       "   <rect height=\"217.44\" width=\"217.44\" x=\"7.2\" y=\"7.2\"/>\n",
       "  </clipPath>\n",
       " </defs>\n",
       "</svg>\n"
      ],
      "text/plain": [
       "<Figure size 432x288 with 1 Axes>"
      ]
     },
     "metadata": {
      "needs_background": "light"
     },
     "output_type": "display_data"
    }
   ],
   "source": [
    "gen = generate_sample(mps)\n",
    "plot_img(gen)"
   ]
  },
  {
   "cell_type": "code",
   "execution_count": null,
   "id": "cb674187-4d90-48a4-83b6-090a322a2d24",
   "metadata": {},
   "outputs": [],
   "source": []
  },
  {
   "cell_type": "markdown",
   "id": "24557c77-f759-422a-b219-bf6dfdf9a964",
   "metadata": {},
   "source": [
    "### 6. Optimizations"
   ]
  },
  {
   "cell_type": "code",
   "execution_count": 4,
   "id": "14f285a7-7e56-4ef2-9748-51c5ecccc886",
   "metadata": {},
   "outputs": [],
   "source": [
    "vector = np.random.rand(30,)\n",
    "tensor = np.random.rand(30,30,10)\n",
    "\n",
    "tvector = qtn.Tensor(data=vector, inds=('a'))\n",
    "ttensor = qtn.Tensor(data=tensor, inds=('a','b','c'))"
   ]
  },
  {
   "cell_type": "code",
   "execution_count": 24,
   "id": "0c021773-8a06-4b36-b76c-95967550af09",
   "metadata": {},
   "outputs": [
    {
     "name": "stdout",
     "output_type": "stream",
     "text": [
      "41.6 µs ± 519 ns per loop (mean ± std. dev. of 7 runs, 10000 loops each)\n"
     ]
    }
   ],
   "source": [
    "%%timeit\n",
    "tvector @ ttensor"
   ]
  },
  {
   "cell_type": "code",
   "execution_count": 25,
   "id": "513f7f78-4732-4b22-be27-de8a2d4a8836",
   "metadata": {},
   "outputs": [
    {
     "name": "stdout",
     "output_type": "stream",
     "text": [
      "5.66 µs ± 92.8 ns per loop (mean ± std. dev. of 7 runs, 100000 loops each)\n"
     ]
    }
   ],
   "source": [
    "%%timeit\n",
    "\n",
    "data = np.einsum('a,abc',tvector.data,ttensor.data)\n",
    "\n",
    "tn = qtn.Tensor(data=data, inds=('b','c'))"
   ]
  },
  {
   "cell_type": "code",
   "execution_count": 26,
   "id": "a110f02b-ac4c-4f85-9801-9561b06f1169",
   "metadata": {},
   "outputs": [
    {
     "name": "stdout",
     "output_type": "stream",
     "text": [
      "39.3 µs ± 630 ns per loop (mean ± std. dev. of 7 runs, 10000 loops each)\n"
     ]
    }
   ],
   "source": [
    "%%timeit\n",
    "qtn.tensor_contract(tvector, ttensor, backend='numpy')"
   ]
  },
  {
   "cell_type": "code",
   "execution_count": 5,
   "id": "05f9ecb6-480f-4132-affb-b399f0f5dfe2",
   "metadata": {},
   "outputs": [
    {
     "name": "stdout",
     "output_type": "stream",
     "text": [
      "6.49 µs ± 33.6 ns per loop (mean ± std. dev. of 7 runs, 100000 loops each)\n"
     ]
    }
   ],
   "source": [
    "%%timeit\n",
    "\n",
    "tneinsum(tvector, ttensor)"
   ]
  },
  {
   "cell_type": "code",
   "execution_count": 6,
   "id": "bd06c6c9-c9a7-4faa-860f-0511aad80c97",
   "metadata": {},
   "outputs": [
    {
     "name": "stdout",
     "output_type": "stream",
     "text": [
      "6.6 µs ± 27.9 ns per loop (mean ± std. dev. of 7 runs, 100000 loops each)\n"
     ]
    }
   ],
   "source": [
    "%%timeit\n",
    "\n",
    "tneinsum2(tvector, ttensor)"
   ]
  },
  {
   "cell_type": "code",
   "execution_count": 29,
   "id": "f27e3dca-52ea-4afa-8c9e-cb37f7baddae",
   "metadata": {},
   "outputs": [
    {
     "name": "stdout",
     "output_type": "stream",
     "text": [
      "14.2 µs ± 318 ns per loop (mean ± std. dev. of 7 runs, 100000 loops each)\n"
     ]
    }
   ],
   "source": [
    "%%timeit\n",
    "\n",
    "data = np.tensordot(tvector.data,ttensor.data, (0,0))\n",
    "\n",
    "tn = qtn.Tensor(data=data, inds=('b','c'))"
   ]
  },
  {
   "cell_type": "code",
   "execution_count": null,
   "id": "5429e332-7935-4fbe-8a66-e2fc0b52800d",
   "metadata": {},
   "outputs": [],
   "source": []
  },
  {
   "cell_type": "markdown",
   "id": "857428e8-4f67-4d1c-baa0-1f1eb5c0a33a",
   "metadata": {},
   "source": [
    "### 7. Cache"
   ]
  },
  {
   "cell_type": "code",
   "execution_count": 4,
   "id": "a2e90626-be1c-4ab0-b528-04547023eb95",
   "metadata": {},
   "outputs": [],
   "source": [
    "mps = initialize_mps()"
   ]
  },
  {
   "cell_type": "code",
   "execution_count": 5,
   "id": "f1a193ea-940c-4829-a214-8628d7bbf6aa",
   "metadata": {},
   "outputs": [],
   "source": [
    "imgs = train_set[:10]\n",
    "\n",
    "_imgs = []\n",
    "for img in imgs:\n",
    "    _imgs.append( tens_picture(img) )\n",
    "\n",
    "img_cache = left_right_cache(mps, _imgs)\n"
   ]
  },
  {
   "cell_type": "code",
   "execution_count": 6,
   "id": "ebe5e156-043f-4857-aab3-bebe28fd2d90",
   "metadata": {},
   "outputs": [
    {
     "name": "stdout",
     "output_type": "stream",
     "text": [
      "NLL: 570.6073830605292 | Baseline: 2.302585092994046\n",
      "epoch 1/2\n"
     ]
    },
    {
     "data": {
      "application/vnd.jupyter.widget-view+json": {
       "model_id": "dde6ddd113d24a7ebf03bac777b5a0b3",
       "version_major": 2,
       "version_minor": 0
      },
      "text/plain": [
       "  0%|          | 0/1564 [00:00<?, ?it/s]"
      ]
     },
     "metadata": {},
     "output_type": "display_data"
    },
    {
     "name": "stdout",
     "output_type": "stream",
     "text": [
      "NLL: 27.306562084258907 | Baseline: 2.302585092994046\n",
      "epoch 2/2\n"
     ]
    },
    {
     "data": {
      "application/vnd.jupyter.widget-view+json": {
       "model_id": "547de482a4c94aab92bb011857626b22",
       "version_major": 2,
       "version_minor": 0
      },
      "text/plain": [
       "  0%|          | 0/1564 [00:00<?, ?it/s]"
      ]
     },
     "metadata": {},
     "output_type": "display_data"
    },
    {
     "name": "stdout",
     "output_type": "stream",
     "text": [
      "NLL: 10.63495077193076 | Baseline: 2.302585092994046\n"
     ]
    }
   ],
   "source": [
    "NLLs = learning_epoch_cached(mps, _imgs, 2, 0.08, img_cache)"
   ]
  },
  {
   "cell_type": "markdown",
   "id": "139d5ecc-2b07-4321-95bb-f5d112168663",
   "metadata": {
    "tags": []
   },
   "source": [
    "### 8. Generation and Reconstruction"
   ]
  },
  {
   "cell_type": "code",
   "execution_count": 7,
   "id": "a96f09c7-e700-42cb-8b6e-fa11ccd3e4c3",
   "metadata": {},
   "outputs": [
    {
     "data": {
      "image/svg+xml": [
       "<?xml version=\"1.0\" encoding=\"utf-8\" standalone=\"no\"?>\n",
       "<!DOCTYPE svg PUBLIC \"-//W3C//DTD SVG 1.1//EN\"\n",
       "  \"http://www.w3.org/Graphics/SVG/1.1/DTD/svg11.dtd\">\n",
       "<svg height=\"231.84pt\" version=\"1.1\" viewBox=\"0 0 231.84 231.84\" width=\"231.84pt\" xmlns=\"http://www.w3.org/2000/svg\" xmlns:xlink=\"http://www.w3.org/1999/xlink\">\n",
       " <metadata>\n",
       "  <rdf:RDF xmlns:cc=\"http://creativecommons.org/ns#\" xmlns:dc=\"http://purl.org/dc/elements/1.1/\" xmlns:rdf=\"http://www.w3.org/1999/02/22-rdf-syntax-ns#\">\n",
       "   <cc:Work>\n",
       "    <dc:type rdf:resource=\"http://purl.org/dc/dcmitype/StillImage\"/>\n",
       "    <dc:date>2022-03-23T19:17:08.895224</dc:date>\n",
       "    <dc:format>image/svg+xml</dc:format>\n",
       "    <dc:creator>\n",
       "     <cc:Agent>\n",
       "      <dc:title>Matplotlib v3.4.3, https://matplotlib.org/</dc:title>\n",
       "     </cc:Agent>\n",
       "    </dc:creator>\n",
       "   </cc:Work>\n",
       "  </rdf:RDF>\n",
       " </metadata>\n",
       " <defs>\n",
       "  <style type=\"text/css\">*{stroke-linecap:butt;stroke-linejoin:round;}</style>\n",
       " </defs>\n",
       " <g id=\"figure_1\">\n",
       "  <g id=\"patch_1\">\n",
       "   <path d=\"M 0 231.84 \n",
       "L 231.84 231.84 \n",
       "L 231.84 0 \n",
       "L 0 0 \n",
       "z\n",
       "\" style=\"fill:none;\"/>\n",
       "  </g>\n",
       "  <g id=\"axes_1\">\n",
       "   <g clip-path=\"url(#p17fb9daf95)\">\n",
       "    <image height=\"218\" id=\"image2b32dfb5d1\" transform=\"scale(1 -1)translate(0 -218)\" width=\"218\" x=\"7.2\" xlink:href=\"data:image/png;base64,\n",
       "iVBORw0KGgoAAAANSUhEUgAAANoAAADaCAYAAADAHVzbAAADpklEQVR4nO3dQW7bQBAAQSnw/7+snAMkIuzN9JJi1d0UY6cxgAZLPh+Px+sx5PV6f+nn8zn280c/e2Ty3qZd+d4+1a/dNwB3IDQICA0CQoOA0CAgNAgIDQLPx+Ie7ax7kZ27olU792DTn/3u+rv/ZpP/l000CAgNAkKDgNAgIDQICA0CQoPA4R5tZbcwfaZrciczuVPZvS9aMXnOb/cZwkkmGgSEBgGhQUBoEBAaBIQGga/Ji9/5sWcr/7adj+lbtfPaZz5eZKJBQGgQEBoEhAYBoUFAaBAQGgS+pnc2K1auvfOxaavOfNzjyve2k4kGAaFBQGgQEBoEhAYBoUFAaBAYPY+2uteY3NlMP9ps8rMnOUM4w0SDgNAgIDQICA0CQoOA0CAgNAgsv7Zp8jU8R3Z+9pGde7ZP3nWd1dHv3ESDgNAgIDQICA0CQoOA0CAgNAgcPtdxxfQ+5929736X1s590uTu88rvP1v5m6xe20SDgNAgIDQICA0CQoOA0CDwfN31XMOFXXn1cOYjPJNHm0w0CAgNAkKDgNAgIDQICA0CQoPA6Gub2OPMq9G73puJBgGhQUBoEBAaBIQGAaFBQGgQsEe7oJ3nqvgZEw0CQoOA0CAgNAgIDQJCg4DQIGCPxh8mX310ZyYaBIQGAaFBQGgQEBoEhAYBoUFAaBAQGgSEBgGhQUBoEBAaBIQGAcdkPtDk4+j4GRMNAkKDgNAgIDQICA0CQoOA0CBgj8a3eBzdz5hoEBAaBIQGAaFBQGgQEBoEhAaBU+/RJs9N2fdQMtEgIDQICA0CQoOA0CAgNAgIDQKn3qNNPp9w57kqz1W8HxMNAkKDgNAgIDQICA0CQoPAqb/eP/LuK/jVr9B9Bc//ZKJBQGgQEBoEhAYBoUFAaBAQGgQuvUe7q8njQ6u81unvTDQICA0CQoOA0CAgNAgIDQJCg8DzddfFxoG7vjJq5w7uzL+XVSYaBIQGAaFBQGgQEBoEhAYBoUHAebR/+OSdzjtnPut2ZSYaBIQGAaFBQGgQEBoEhAYBoUHAHo1vuet+cZWJBgGhQUBoEBAaBIQGAaFBQGgQEBoEhAYBoUFAaBAQGgSEBgGhQUBoEBAaBIQGAaFBQGgQEBoEhAYBoUFAaBAQGgSEBgGhQUBoEBAaBIQGAaFBQGgQEBoEhAYBoUFAaBAQGgSEBgGhQUBoEBAaBIQGAaFBQGgQEBoEhAYBoUFAaBAQGgSEBgGhQUBoEBAaBIQGgd+aKeWmj75JFgAAAABJRU5ErkJggg==\" y=\"-6.64\"/>\n",
       "   </g>\n",
       "  </g>\n",
       " </g>\n",
       " <defs>\n",
       "  <clipPath id=\"p17fb9daf95\">\n",
       "   <rect height=\"217.44\" width=\"217.44\" x=\"7.2\" y=\"7.2\"/>\n",
       "  </clipPath>\n",
       " </defs>\n",
       "</svg>\n"
      ],
      "text/plain": [
       "<Figure size 432x288 with 1 Axes>"
      ]
     },
     "metadata": {
      "needs_background": "light"
     },
     "output_type": "display_data"
    }
   ],
   "source": [
    "gen = generate_sample(mps)\n",
    "plot_img(gen)"
   ]
  },
  {
   "cell_type": "code",
   "execution_count": 13,
   "id": "d2f3f22e-832e-4eaa-9ee9-0ffb2111172f",
   "metadata": {},
   "outputs": [
    {
     "data": {
      "image/svg+xml": [
       "<?xml version=\"1.0\" encoding=\"utf-8\" standalone=\"no\"?>\n",
       "<!DOCTYPE svg PUBLIC \"-//W3C//DTD SVG 1.1//EN\"\n",
       "  \"http://www.w3.org/Graphics/SVG/1.1/DTD/svg11.dtd\">\n",
       "<svg height=\"231.84pt\" version=\"1.1\" viewBox=\"0 0 231.84 231.84\" width=\"231.84pt\" xmlns=\"http://www.w3.org/2000/svg\" xmlns:xlink=\"http://www.w3.org/1999/xlink\">\n",
       " <metadata>\n",
       "  <rdf:RDF xmlns:cc=\"http://creativecommons.org/ns#\" xmlns:dc=\"http://purl.org/dc/elements/1.1/\" xmlns:rdf=\"http://www.w3.org/1999/02/22-rdf-syntax-ns#\">\n",
       "   <cc:Work>\n",
       "    <dc:type rdf:resource=\"http://purl.org/dc/dcmitype/StillImage\"/>\n",
       "    <dc:date>2022-03-23T19:17:53.145540</dc:date>\n",
       "    <dc:format>image/svg+xml</dc:format>\n",
       "    <dc:creator>\n",
       "     <cc:Agent>\n",
       "      <dc:title>Matplotlib v3.4.3, https://matplotlib.org/</dc:title>\n",
       "     </cc:Agent>\n",
       "    </dc:creator>\n",
       "   </cc:Work>\n",
       "  </rdf:RDF>\n",
       " </metadata>\n",
       " <defs>\n",
       "  <style type=\"text/css\">*{stroke-linecap:butt;stroke-linejoin:round;}</style>\n",
       " </defs>\n",
       " <g id=\"figure_1\">\n",
       "  <g id=\"patch_1\">\n",
       "   <path d=\"M 0 231.84 \n",
       "L 231.84 231.84 \n",
       "L 231.84 0 \n",
       "L 0 0 \n",
       "z\n",
       "\" style=\"fill:none;\"/>\n",
       "  </g>\n",
       "  <g id=\"axes_1\">\n",
       "   <g clip-path=\"url(#p478dd58554)\">\n",
       "    <image height=\"218\" id=\"imagefc19e02bbb\" transform=\"scale(1 -1)translate(0 -218)\" width=\"218\" x=\"7.2\" xlink:href=\"data:image/png;base64,\n",
       "iVBORw0KGgoAAAANSUhEUgAAANoAAADaCAYAAADAHVzbAAADE0lEQVR4nO3dwWqDQBRA0Vr6/79s14VUSYzXMXPOPhASLg/mMbqs67p+Aaf6vvoLwAyEBgGhQUBoEBAaBIQGAaFB4OfqLzCjZVkOfd7q835MNAgIDQJCg4DQICA0CAgNAkKDgNAgIDQICA0CQoOA0CAgNAgIDQJCg4DQICA0CAgNAkKDgNAgIDQICA0CQoOA0CAgNAgIDQJCg4DQICA0CAgNAl7bdEN7r33yWqfxmGgQEBoEhAYBoUFAaBAQGgSEBgGhQUBoEBAaBIQGAaFBQGgQEBoEhAaBZXV5aTh7982O8pf3TDQICA0CQoOA0CAgNAgIDQIeNzegveP3s4//eT8TDQJCg4DQICA0CAgNAkKDgNAgYI82oa09nCs05zDRICA0CAgNAkKDgNAgIDQICA0C9mg35L7a/ZhoEBAaBIQGAaFBQGgQEBoEhAYBezT+2NvBua/2GhMNAkKDgNAgIDQICA0CQoOA0CAgNAgIDQJCg4DQICA0CAgNAkKDgGsyH8jj6MZjokFAaBAQGgSEBgGhQUBoEBAaBOzReIrH0b3GRIOA0CAgNAgIDQJCg4DQICA0CAy9Rzvz3pR9DyUTDQJCg4DQICA0CAgNAkKDgNAgMPQe7cznE155r8pzFedjokFAaBAQGgSEBgGhQUBoEBj6eH/P1hH80SN0R/C8k4kGAaFBQGgQEBoEhAYBoUFAaBC49R5tVmdeHzrKa50eM9EgIDQICA0CQoOA0CAgNAgIDQLLOutiY8esr4y6cgc38u9ylIkGAaFBQGgQEBoEhAYBoUFAaBBwH+0fn7zT2TLyXbc7M9EgIDQICA0CQoOA0CAgNAgIDQL2aDxl1v3iUSYaBIQGAaFBQGgQEBoEhAYBoUFAaBAQGgSEBgGhQUBoEBAaBIQGAaFBQGgQEBoEhAYBoUFAaBAQGgSEBgGhQUBoEBAaBIQGAaFBQGgQEBoEhAYBoUFAaBAQGgSEBgGhQUBoEBAaBIQGAaFBQGgQEBoEhAYBoUFAaBAQGgSEBgGhQUBoEBAaBIQGAaFBQGgQEBoEfgHiiknCkJCUcAAAAABJRU5ErkJggg==\" y=\"-6.64\"/>\n",
       "   </g>\n",
       "  </g>\n",
       " </g>\n",
       " <defs>\n",
       "  <clipPath id=\"p478dd58554\">\n",
       "   <rect height=\"217.44\" width=\"217.44\" x=\"7.2\" y=\"7.2\"/>\n",
       "  </clipPath>\n",
       " </defs>\n",
       "</svg>\n"
      ],
      "text/plain": [
       "<Figure size 432x288 with 1 Axes>"
      ]
     },
     "metadata": {
      "needs_background": "light"
     },
     "output_type": "display_data"
    }
   ],
   "source": [
    "plot_img(train_set[2])"
   ]
  },
  {
   "cell_type": "code",
   "execution_count": 14,
   "id": "e8aef751-0545-4bbc-8638-f80e20108cb3",
   "metadata": {},
   "outputs": [
    {
     "data": {
      "image/svg+xml": [
       "<?xml version=\"1.0\" encoding=\"utf-8\" standalone=\"no\"?>\n",
       "<!DOCTYPE svg PUBLIC \"-//W3C//DTD SVG 1.1//EN\"\n",
       "  \"http://www.w3.org/Graphics/SVG/1.1/DTD/svg11.dtd\">\n",
       "<svg height=\"231.84pt\" version=\"1.1\" viewBox=\"0 0 231.84 231.84\" width=\"231.84pt\" xmlns=\"http://www.w3.org/2000/svg\" xmlns:xlink=\"http://www.w3.org/1999/xlink\">\n",
       " <metadata>\n",
       "  <rdf:RDF xmlns:cc=\"http://creativecommons.org/ns#\" xmlns:dc=\"http://purl.org/dc/elements/1.1/\" xmlns:rdf=\"http://www.w3.org/1999/02/22-rdf-syntax-ns#\">\n",
       "   <cc:Work>\n",
       "    <dc:type rdf:resource=\"http://purl.org/dc/dcmitype/StillImage\"/>\n",
       "    <dc:date>2022-03-23T19:17:58.481049</dc:date>\n",
       "    <dc:format>image/svg+xml</dc:format>\n",
       "    <dc:creator>\n",
       "     <cc:Agent>\n",
       "      <dc:title>Matplotlib v3.4.3, https://matplotlib.org/</dc:title>\n",
       "     </cc:Agent>\n",
       "    </dc:creator>\n",
       "   </cc:Work>\n",
       "  </rdf:RDF>\n",
       " </metadata>\n",
       " <defs>\n",
       "  <style type=\"text/css\">*{stroke-linecap:butt;stroke-linejoin:round;}</style>\n",
       " </defs>\n",
       " <g id=\"figure_1\">\n",
       "  <g id=\"patch_1\">\n",
       "   <path d=\"M 0 231.84 \n",
       "L 231.84 231.84 \n",
       "L 231.84 0 \n",
       "L 0 0 \n",
       "z\n",
       "\" style=\"fill:none;\"/>\n",
       "  </g>\n",
       "  <g id=\"axes_1\">\n",
       "   <g clip-path=\"url(#p2a28bb04eb)\">\n",
       "    <image height=\"218\" id=\"image2c81e6d9e7\" transform=\"scale(1 -1)translate(0 -218)\" width=\"218\" x=\"7.2\" xlink:href=\"data:image/png;base64,\n",
       "iVBORw0KGgoAAAANSUhEUgAAANoAAADaCAYAAADAHVzbAAACvElEQVR4nO3dMQ6CQBQAUdZ4/yuvtQlqIDJEea+l2YLJLzYfxpxzLsChbmcfAK5AaBAQGgSEBgGhQUBoEBAaBIQGAaFBQGgQEBoEhAYBoUFAaBAQGgSEBgGhQUBoEBAaBIQGAaFBQGgQEBoEhAYBoUFAaBAQGgSEBgGhQUBoEBAaBIQGAaFBQGgQEBoEhAYBoUFAaBAQGgSEBgGhQUBoEBAaBIQGAaFBQGgQEBoEhAYBoUFAaBAQGgSEBgGhQUBoEBAaBIQGAaFBQGgQEBoEhAYBoUFAaBAQGgSEBgGhQUBoEBAaBIQGAaFB4H72AeiNMV4+m3OGJ7kOEw0CQoOA0CAgNAgIDQJCg4DQICA0CAgNAkKDgNAgIDQICA0CQoOA0CBgH40n73bVlsW+2l4mGgSEBgGhQUBoEBAaBIQGAaFBQGgQEBoEhAYBoUFAaBAQGgSEBgGhQUBoEBAaBIQGAaFBQGgQEBoEhAYBn5tjE5+j28dEg4DQICA0CAgNAkKDgNAgIDQICA0CQoOA0CAgNAgIDQJCg4DQICA0CAgNAkKDgNAgIDQICA0CQoOA0CAgNAgIDQJCg4DQICA0CAgNAkKDgNAg4LdNfJXfOq0z0SAgNAgIDQJCg4DQICA0CAgNAmNe9WKDVZ/uwY70z6+iiQYBoUFAaBAQGgSEBgGhQUBoELCPxpNPd1ln3rP9MhMNAkKDgNAgIDQICA0CQoOA0CDgHo1N/nln7EgmGgSEBgGhQUBoEBAaBIQGAaFBQGgQEBoEhAYBoUFAaBAQGgSEBgGhQUBoEBAaBIQGAaFBQGgQEBoEhAYBoUFAaBAQGgSEBgGhQUBoEBAaBIQGAaFBQGgQEBoEhAYBoUFAaBAQGgSEBgGhQUBoEBAaBIQGAaFBQGgQEBoEhAYBoUFAaBAQGgSEBgGhQUBoEBAaBB4GiR60vokXdQAAAABJRU5ErkJggg==\" y=\"-6.64\"/>\n",
       "   </g>\n",
       "  </g>\n",
       " </g>\n",
       " <defs>\n",
       "  <clipPath id=\"p2a28bb04eb\">\n",
       "   <rect height=\"217.44\" width=\"217.44\" x=\"7.2\" y=\"7.2\"/>\n",
       "  </clipPath>\n",
       " </defs>\n",
       "</svg>\n"
      ],
      "text/plain": [
       "<Figure size 432x288 with 1 Axes>"
      ]
     },
     "metadata": {
      "needs_background": "light"
     },
     "output_type": "display_data"
    }
   ],
   "source": [
    "corr_img = partial_removal_img(train_set[2], fraction = .4, axis = 1)\n",
    "plot_img(corr_img)\n"
   ]
  },
  {
   "cell_type": "code",
   "execution_count": 15,
   "id": "a86e0fee-46bb-49b1-98e7-7454607a0a48",
   "metadata": {},
   "outputs": [],
   "source": [
    "recc = reconstruct(mps, corr_img)"
   ]
  },
  {
   "cell_type": "code",
   "execution_count": 16,
   "id": "0b317f7c-67d5-4223-810d-5dc71ab487e5",
   "metadata": {},
   "outputs": [
    {
     "data": {
      "image/svg+xml": [
       "<?xml version=\"1.0\" encoding=\"utf-8\" standalone=\"no\"?>\n",
       "<!DOCTYPE svg PUBLIC \"-//W3C//DTD SVG 1.1//EN\"\n",
       "  \"http://www.w3.org/Graphics/SVG/1.1/DTD/svg11.dtd\">\n",
       "<svg height=\"123.12pt\" version=\"1.1\" viewBox=\"0 0 123.12 123.12\" width=\"123.12pt\" xmlns=\"http://www.w3.org/2000/svg\" xmlns:xlink=\"http://www.w3.org/1999/xlink\">\n",
       " <metadata>\n",
       "  <rdf:RDF xmlns:cc=\"http://creativecommons.org/ns#\" xmlns:dc=\"http://purl.org/dc/elements/1.1/\" xmlns:rdf=\"http://www.w3.org/1999/02/22-rdf-syntax-ns#\">\n",
       "   <cc:Work>\n",
       "    <dc:type rdf:resource=\"http://purl.org/dc/dcmitype/StillImage\"/>\n",
       "    <dc:date>2022-03-23T19:18:06.874419</dc:date>\n",
       "    <dc:format>image/svg+xml</dc:format>\n",
       "    <dc:creator>\n",
       "     <cc:Agent>\n",
       "      <dc:title>Matplotlib v3.4.3, https://matplotlib.org/</dc:title>\n",
       "     </cc:Agent>\n",
       "    </dc:creator>\n",
       "   </cc:Work>\n",
       "  </rdf:RDF>\n",
       " </metadata>\n",
       " <defs>\n",
       "  <style type=\"text/css\">*{stroke-linecap:butt;stroke-linejoin:round;}</style>\n",
       " </defs>\n",
       " <g id=\"figure_1\">\n",
       "  <g id=\"patch_1\">\n",
       "   <path d=\"M 0 123.12 \n",
       "L 123.12 123.12 \n",
       "L 123.12 0 \n",
       "L 0 0 \n",
       "z\n",
       "\" style=\"fill:none;\"/>\n",
       "  </g>\n",
       "  <g id=\"axes_1\">\n",
       "   <g clip-path=\"url(#pbb8ab96429)\">\n",
       "    <image height=\"109\" id=\"imagef5152cf2ef\" transform=\"scale(1 -1)translate(0 -109)\" width=\"109\" x=\"7\" xlink:href=\"data:image/png;base64,\n",
       "iVBORw0KGgoAAAANSUhEUgAAAG0AAABtCAYAAACr+O9WAAABtklEQVR4nO3cS07DQBBAQYy4/5XNkshCoJHjeGryasUGFPPUafwh277v+8cZ2/bz9eiPevzeVzt52Hf6vPsFZFzRQEUDbad32p3+2onwYf2nSQMVDVQ0UNFARQMVDVQ0UNFARQMVDVQ0UNFARQMVDfR19wu4zPG2zUK3apo0UNFARQMVDVQ0UNFARQPZj9AdjTxmDh92kwYqGqhooLWuPT7uqTv/jepiTRqoaKCigdbaaQO2w86TTlebNFDRQEUDrbvTjjtqofO2Jg1UNFDRQOvutEHSeVuTBioaqGigooGKBioaqGig9zlPW+haZJMGKhqoaKD32WmDZr4W2aSBigZ67tvj6J/RE73lSJo0UNFARQM9d6eNXio6+1FI8KWoM5o0UNFARQNdexnr7I7Lr5o0UNFARQOte2vmyY8XzHSrpkkDFQ1UNNBcHx144/24484a9cpfY5MGKhqoaKC5ztNuXK/HnXR2x12pSQMVDVQ00Fw7bSIznb4eNWmgooGKBioaqGigooGKBioaqGigooGKBioaqGigooGKBioaqGigooGKBioaqGigooGKBioaqGigooG+AXI3Q+DzKOd0AAAAAElFTkSuQmCC\" y=\"-7.12\"/>\n",
       "   </g>\n",
       "  </g>\n",
       " </g>\n",
       " <defs>\n",
       "  <clipPath id=\"pbb8ab96429\">\n",
       "   <rect height=\"108.72\" width=\"108.72\" x=\"7.2\" y=\"7.2\"/>\n",
       "  </clipPath>\n",
       " </defs>\n",
       "</svg>\n"
      ],
      "text/plain": [
       "<Figure size 144x144 with 1 Axes>"
      ]
     },
     "metadata": {
      "needs_background": "light"
     },
     "output_type": "display_data"
    }
   ],
   "source": [
    "plot_rec(corr_img, recc)"
   ]
  },
  {
   "cell_type": "code",
   "execution_count": null,
   "id": "638ad96b-0aee-4c7e-8987-b5f01c71e6d9",
   "metadata": {},
   "outputs": [],
   "source": []
  }
 ],
 "metadata": {
  "kernelspec": {
   "display_name": "Python 3 (ipykernel)",
   "language": "python",
   "name": "python3"
  },
  "language_info": {
   "codemirror_mode": {
    "name": "ipython",
    "version": 3
   },
   "file_extension": ".py",
   "mimetype": "text/x-python",
   "name": "python",
   "nbconvert_exporter": "python",
   "pygments_lexer": "ipython3",
   "version": "3.9.7"
  }
 },
 "nbformat": 4,
 "nbformat_minor": 5
}
