{
 "cells": [
  {
   "cell_type": "code",
   "execution_count": 1,
   "id": "0dd2b197-51ca-4067-94fa-af00ddace9e7",
   "metadata": {},
   "outputs": [],
   "source": [
    "#################\n",
    "#### IMPORTS ####\n",
    "#################\n",
    "\n",
    "# Arrays\n",
    "import numpy as np\n",
    "import cytoolz\n",
    "\n",
    "# Deep Learning stuff\n",
    "import torch\n",
    "import torchvision\n",
    "import torchvision.transforms as transforms\n",
    "\n",
    "# Images display and plots\n",
    "import matplotlib.pyplot as plt\n",
    "\n",
    "# Fancy progress bars\n",
    "import tqdm.notebook as tq\n",
    "\n",
    "# Tensor Network Stuff\n",
    "%config InlineBackend.figure_formats = ['svg']\n",
    "import quimb.tensor as qtn # Tensor Network library\n",
    "import quimb\n",
    "\n",
    "import collections\n",
    "import opt_einsum as oe\n",
    "import itertools"
   ]
  },
  {
   "cell_type": "code",
   "execution_count": 2,
   "id": "6755d698-ef0e-4752-a3b0-42a146f60541",
   "metadata": {},
   "outputs": [],
   "source": [
    "import sys\n",
    "sys.path.insert(0, '../')\n",
    "# My functions\n",
    "from TNutils import *\n"
   ]
  },
  {
   "cell_type": "markdown",
   "id": "3cf6fe56-3014-405a-9f2f-a89959c96b19",
   "metadata": {},
   "source": [
    "### 1. Handling MNIST images"
   ]
  },
  {
   "cell_type": "markdown",
   "id": "abbfcd59-a0f9-47cd-b9c0-c66139c7e2e8",
   "metadata": {},
   "source": [
    "Get MNIST data\n",
    "1. Actually download data\n",
    "2. Flatten each image\n",
    "3. Normalize [0,255] -> [0,1]\n",
    "4. Trasform from grayscale to binary images [0,1] -> {0,1}"
   ]
  },
  {
   "cell_type": "code",
   "execution_count": 3,
   "id": "23d49cfd-8647-401d-a030-f564e5dbb8b9",
   "metadata": {},
   "outputs": [],
   "source": [
    "train_set, test_set = get_data()\n"
   ]
  },
  {
   "cell_type": "code",
   "execution_count": 4,
   "id": "516f0e99-9072-43cc-b097-4fac2febd18d",
   "metadata": {},
   "outputs": [
    {
     "name": "stdout",
     "output_type": "stream",
     "text": [
      "Shape of the training set: (1000, 784)\n",
      "Shape of the test set:     (100, 784)\n"
     ]
    }
   ],
   "source": [
    "print('Shape of the training set: {}'.format(train_set.shape) )\n",
    "print('Shape of the test set:     {}'.format(test_set.shape) )\n"
   ]
  },
  {
   "cell_type": "markdown",
   "id": "eff12766-aed6-4916-a98e-8348cad093b9",
   "metadata": {},
   "source": [
    "Example of an image:"
   ]
  },
  {
   "cell_type": "code",
   "execution_count": 6,
   "id": "45e310b3-233c-4f20-bffc-92f99c899a13",
   "metadata": {},
   "outputs": [
    {
     "data": {
      "image/svg+xml": [
       "<?xml version=\"1.0\" encoding=\"utf-8\" standalone=\"no\"?>\n",
       "<!DOCTYPE svg PUBLIC \"-//W3C//DTD SVG 1.1//EN\"\n",
       "  \"http://www.w3.org/Graphics/SVG/1.1/DTD/svg11.dtd\">\n",
       "<svg height=\"231.84pt\" version=\"1.1\" viewBox=\"0 0 231.84 231.84\" width=\"231.84pt\" xmlns=\"http://www.w3.org/2000/svg\" xmlns:xlink=\"http://www.w3.org/1999/xlink\">\n",
       " <metadata>\n",
       "  <rdf:RDF xmlns:cc=\"http://creativecommons.org/ns#\" xmlns:dc=\"http://purl.org/dc/elements/1.1/\" xmlns:rdf=\"http://www.w3.org/1999/02/22-rdf-syntax-ns#\">\n",
       "   <cc:Work>\n",
       "    <dc:type rdf:resource=\"http://purl.org/dc/dcmitype/StillImage\"/>\n",
       "    <dc:date>2022-03-19T18:47:54.455712</dc:date>\n",
       "    <dc:format>image/svg+xml</dc:format>\n",
       "    <dc:creator>\n",
       "     <cc:Agent>\n",
       "      <dc:title>Matplotlib v3.4.3, https://matplotlib.org/</dc:title>\n",
       "     </cc:Agent>\n",
       "    </dc:creator>\n",
       "   </cc:Work>\n",
       "  </rdf:RDF>\n",
       " </metadata>\n",
       " <defs>\n",
       "  <style type=\"text/css\">*{stroke-linecap:butt;stroke-linejoin:round;}</style>\n",
       " </defs>\n",
       " <g id=\"figure_1\">\n",
       "  <g id=\"patch_1\">\n",
       "   <path d=\"M 0 231.84 \n",
       "L 231.84 231.84 \n",
       "L 231.84 0 \n",
       "L 0 0 \n",
       "z\n",
       "\" style=\"fill:none;\"/>\n",
       "  </g>\n",
       "  <g id=\"axes_1\">\n",
       "   <g clip-path=\"url(#p11753fedaf)\">\n",
       "    <image height=\"218\" id=\"imagec760e7c36a\" transform=\"scale(1 -1)translate(0 -218)\" width=\"218\" x=\"7.2\" xlink:href=\"data:image/png;base64,\n",
       "iVBORw0KGgoAAAANSUhEUgAAANoAAADaCAYAAADAHVzbAAADGUlEQVR4nO3dwWrCQBRAUVP8/19O1wVpaHVuJplztoKIenmQxyTbvu/7g6ls2/br636y6/k6+wPACoQGAaFBQGgQEBoEhAYBoUHgefYHWNHRnoz7MdEgIDQICA0CQoOA0CAgNAgIDQL2aBNy3ux+TDQICA0CQoOA0CAgNAgIDQIu7w/yzlEYt5u7HxMNAkKDgNAgIDQICA0CQoOA0CCweWxTb/Tt5vyk8zHRICA0CAgNAkKDgNAgIDQICA0CQoOA0CAgNAgIDQJCg4DQICA0CAgNAu7reIKj82Kjz6vRM9EgIDQICA0CQoOA0CAgNAgIDQL2aDfk+WrzMdEgIDQICA0CQoOA0CAgNAh4bNMFjTxG4+8whokGAaFBQGgQEBoEhAYBoUFAaBCwR7she7b5mGgQEBoEhAYBoUFAaBAQGgSEBgGhQUBoEBAaBIQGAaFBQGgQEBoEhAYB59EW5Lxaz0SDgNAgIDQICA0CQoOA0CDg8j4/jLz0/3ise/nfRIOA0CAgNAgIDQJCg4DQICA0CNij8SeO2PyPiQYBoUFAaBAQGgSEBgGhQUBoELBH46Ps2V4z0SAgNAgIDQJCg4DQICA0CAgNAvZopFbds5loEBAaBIQGAaFBQGgQEBoEhAaB58g3f3dnMvNehNdGP1/tqkw0CAgNAkKDgNAgIDQICA0Cpx6TWfVS8NFXvur3cuTK6x4TDQJCg4DQICA0CAgNAkKDgNAgMPXt5uyT1jLxX/FtJhoEhAYBoUFAaBAQGgSEBgGhQWDo7ebedeZexQ7vtTvvukYy0SAgNAgIDQJCg4DQICA0CAgNAlPv0c5kX8QnmWgQEBoEhAYBoUFAaBAQGgSEBgGhQUBoEBAaBIQGAaFBQGgQEBoEhAYBoUFAaBAQGgSEBgGhQUBoEBAaBIQGAaFBQGgQEBoEhAYBoUFAaBAQGgSEBgGhQUBoEBAaBIQGAaFBQGgQEBoEhAYBoUFAaBAQGgSEBgGhQUBoEBAaBIQGAaFBQGgQEBoEhAYBoUFAaBAQGgSEBgGhQUBoEBAaBIQGAaFBQGgQ+AaMD2mOd6xk/wAAAABJRU5ErkJggg==\" y=\"-6.64\"/>\n",
       "   </g>\n",
       "  </g>\n",
       " </g>\n",
       " <defs>\n",
       "  <clipPath id=\"p11753fedaf\">\n",
       "   <rect height=\"217.44\" width=\"217.44\" x=\"7.2\" y=\"7.2\"/>\n",
       "  </clipPath>\n",
       " </defs>\n",
       "</svg>\n"
      ],
      "text/plain": [
       "<Figure size 432x288 with 1 Axes>"
      ]
     },
     "metadata": {
      "needs_background": "light"
     },
     "output_type": "display_data"
    }
   ],
   "source": [
    "plot_img(train_set[1])\n"
   ]
  },
  {
   "cell_type": "markdown",
   "id": "339e0876-76f9-4e07-8501-2b90fade1070",
   "metadata": {},
   "source": [
    "Further on, we will like to get rid parts of the image and reconstruct them.\n",
    "There is a function for partially removing parts of the image in the test set:"
   ]
  },
  {
   "cell_type": "code",
   "execution_count": 6,
   "id": "3630a78e-7d20-443f-8f4e-bd46d2251d12",
   "metadata": {},
   "outputs": [
    {
     "data": {
      "image/svg+xml": [
       "<?xml version=\"1.0\" encoding=\"utf-8\" standalone=\"no\"?>\n",
       "<!DOCTYPE svg PUBLIC \"-//W3C//DTD SVG 1.1//EN\"\n",
       "  \"http://www.w3.org/Graphics/SVG/1.1/DTD/svg11.dtd\">\n",
       "<svg height=\"231.84pt\" version=\"1.1\" viewBox=\"0 0 231.84 231.84\" width=\"231.84pt\" xmlns=\"http://www.w3.org/2000/svg\" xmlns:xlink=\"http://www.w3.org/1999/xlink\">\n",
       " <metadata>\n",
       "  <rdf:RDF xmlns:cc=\"http://creativecommons.org/ns#\" xmlns:dc=\"http://purl.org/dc/elements/1.1/\" xmlns:rdf=\"http://www.w3.org/1999/02/22-rdf-syntax-ns#\">\n",
       "   <cc:Work>\n",
       "    <dc:type rdf:resource=\"http://purl.org/dc/dcmitype/StillImage\"/>\n",
       "    <dc:date>2022-03-17T10:59:49.096455</dc:date>\n",
       "    <dc:format>image/svg+xml</dc:format>\n",
       "    <dc:creator>\n",
       "     <cc:Agent>\n",
       "      <dc:title>Matplotlib v3.4.3, https://matplotlib.org/</dc:title>\n",
       "     </cc:Agent>\n",
       "    </dc:creator>\n",
       "   </cc:Work>\n",
       "  </rdf:RDF>\n",
       " </metadata>\n",
       " <defs>\n",
       "  <style type=\"text/css\">*{stroke-linecap:butt;stroke-linejoin:round;}</style>\n",
       " </defs>\n",
       " <g id=\"figure_1\">\n",
       "  <g id=\"patch_1\">\n",
       "   <path d=\"M 0 231.84 \n",
       "L 231.84 231.84 \n",
       "L 231.84 0 \n",
       "L 0 0 \n",
       "z\n",
       "\" style=\"fill:none;\"/>\n",
       "  </g>\n",
       "  <g id=\"axes_1\">\n",
       "   <g clip-path=\"url(#pa5d90c2de1)\">\n",
       "    <image height=\"218\" id=\"image889cb6c2e0\" transform=\"scale(1 -1)translate(0 -218)\" width=\"218\" x=\"7.2\" xlink:href=\"data:image/png;base64,\n",
       "iVBORw0KGgoAAAANSUhEUgAAANoAAADaCAYAAADAHVzbAAAC70lEQVR4nO3dwWrDMBQAwark/39ZPRV6sqGJV1E8c83FCSwP/JAy5pzzC7jU9+oHgDsQGgSEBgGhQUBoEBAaBIQGAaFBQGgQEBoEhAYBoUFAaBAQGgSEBgGhQUBoEBAaBIQGAaFBQGgQEBoEHqsfgNcbYxx+7obBnokGAaFBQGgQEBoEhAYBoUFAaBAQGgSEBgGhQUBoEBAaBIQGAaFBQGgQcB7tAzlv9n5MNAgIDQJCg4DQICA0CAgNAkKDgNAgIDQICA0CQoOA0CAgNAgIDQJCg4DQICA0CAgNAkKDgNAgIDQICA0CQoOA0CAgNAgIDQJCg4DQICA0CAgNAkKDgNAgIDQICA0CQoOA0CAgNAgIDQKP1Q/A640xDj+fc0ZPwi8TDQJCg4DQICA0CAgNAkKDgNAgsPUe7Wxf9IyVu6YrvxdrmGgQEBoEhAYBoUFAaBAQGgS2fr1/pXd+xe6Yy35MNAgIDQJCg4DQICA0CAgNAkKDgD3aAvZg92OiQUBoEBAaBIQGAaFBQGgQEBoEtt6jPbOPuvq8mV0Zf5loEBAaBIQGAaFBQGgQEBoEhAaBMS18/uWZPZyf/H5MNAgIDQJCg4DQICA0CAgNAkKDgNAgIDQICA0CQoOA0CAgNAgIDQJbXze30tlRl6uvs2MvJhoEhAYBoUFAaBAQGgSEBgGhQcAebYGzHZvr6D6PiQYBoUFAaBAQGgSEBgGhQUBoEBAaBIQGAaFBQGgQEBoEhAYBoUFAaBBwHu0iR2fK3Pl4PyYaBIQGAaFBQGgQEBoEhAYBoUFAaBAQGgSEBgGhQUBoEBAaBIQGAcdkFvC3TPdjokFAaBAQGgSEBgGhQUBoEBAaBIQGAaFBQGgQEBoEhAYBoUFAaBAQGgSEBgGhQUBoEBAaBIQGAaFBQGgQEBoEhAYBoUFAaBAQGgSEBgGhQUBoEBAaBIQGAaFBQGgQEBoEhAYBoUFAaBAQGgSEBgGhQUBoEBAaBIQGAaFBQGgQ+AETXTC40N+ZEgAAAABJRU5ErkJggg==\" y=\"-6.64\"/>\n",
       "   </g>\n",
       "  </g>\n",
       " </g>\n",
       " <defs>\n",
       "  <clipPath id=\"pa5d90c2de1\">\n",
       "   <rect height=\"217.44\" width=\"217.44\" x=\"7.2\" y=\"7.2\"/>\n",
       "  </clipPath>\n",
       " </defs>\n",
       "</svg>\n"
      ],
      "text/plain": [
       "<Figure size 432x288 with 1 Axes>"
      ]
     },
     "metadata": {
      "needs_background": "light"
     },
     "output_type": "display_data"
    }
   ],
   "source": [
    "plot_img( partial_removal_img(train_set[1], fraction = .4, axis = 1))"
   ]
  },
  {
   "cell_type": "code",
   "execution_count": null,
   "id": "e2219fd8-38fa-4f57-b98b-0bb454d47831",
   "metadata": {},
   "outputs": [],
   "source": []
  },
  {
   "cell_type": "markdown",
   "id": "24b5a9df-eef7-4271-aa6b-eb046940b2db",
   "metadata": {},
   "source": [
    "### 2. MPS "
   ]
  },
  {
   "cell_type": "markdown",
   "id": "3ad1c4b2-a5a1-4021-81f0-c897771c5caf",
   "metadata": {},
   "source": [
    "1. Create an MPS network\n",
    "2. Canonicalize towards the second tensor\n",
    "3. Rename indexes (in a readable form)"
   ]
  },
  {
   "cell_type": "code",
   "execution_count": 7,
   "id": "215aa3e1-8f89-4aea-b99f-e04bbb2a9d9a",
   "metadata": {},
   "outputs": [],
   "source": [
    "toymps = initialize_mps(Ldim=10, bdim=10)"
   ]
  },
  {
   "cell_type": "markdown",
   "id": "c1e014fe-ee0e-41ce-9f3e-49184cb9caef",
   "metadata": {},
   "source": [
    "Inspect shape/canonicalization"
   ]
  },
  {
   "cell_type": "code",
   "execution_count": 8,
   "id": "a5736ecd-6731-4ba0-bc35-9082edd20895",
   "metadata": {},
   "outputs": [
    {
     "name": "stdout",
     "output_type": "stream",
     "text": [
      " 2 10 10 10 10 10 8 4 2 \n",
      ">─●──<──<──<──<──<─<─<─<\n",
      "│ │  │  │  │  │  │ │ │ │\n"
     ]
    }
   ],
   "source": [
    "toymps.show()"
   ]
  },
  {
   "cell_type": "markdown",
   "id": "4ca81ae6-41e1-46bb-b5d0-bc9ade08d434",
   "metadata": {},
   "source": [
    "Inspect indexes"
   ]
  },
  {
   "cell_type": "code",
   "execution_count": 9,
   "id": "01e72f03-fbe5-4773-9d9a-5699e0b95cc1",
   "metadata": {},
   "outputs": [
    {
     "data": {
      "text/plain": [
       "(Tensor(shape=(2, 2), inds=('i0', 'v0'), tags=oset(['I0'])),\n",
       " Tensor(shape=(2, 10, 2), inds=('i0', 'i1', 'v1'), tags=oset(['I1'])),\n",
       " Tensor(shape=(10, 10, 2), inds=('i1', 'i2', 'v2'), tags=oset(['I2'])),\n",
       " Tensor(shape=(10, 10, 2), inds=('i2', 'i3', 'v3'), tags=oset(['I3'])),\n",
       " Tensor(shape=(10, 10, 2), inds=('i3', 'i4', 'v4'), tags=oset(['I4'])),\n",
       " Tensor(shape=(10, 10, 2), inds=('i4', 'i5', 'v5'), tags=oset(['I5'])),\n",
       " Tensor(shape=(10, 8, 2), inds=('i5', 'i6', 'v6'), tags=oset(['I6'])),\n",
       " Tensor(shape=(8, 4, 2), inds=('i6', 'i7', 'v7'), tags=oset(['I7'])),\n",
       " Tensor(shape=(4, 2, 2), inds=('i7', 'i9', 'v8'), tags=oset(['I8'])),\n",
       " Tensor(shape=(2, 2), inds=('i9', 'v9'), tags=oset(['I9'])))"
      ]
     },
     "execution_count": 9,
     "metadata": {},
     "output_type": "execute_result"
    }
   ],
   "source": [
    "toymps.tensors"
   ]
  },
  {
   "cell_type": "code",
   "execution_count": null,
   "id": "7095c0fb-521c-4f37-ad6d-657fb6355ade",
   "metadata": {},
   "outputs": [],
   "source": []
  },
  {
   "cell_type": "code",
   "execution_count": 3,
   "id": "10d8954f-8ae1-4400-b2ec-9164d0d571af",
   "metadata": {},
   "outputs": [],
   "source": [
    "mps = initialize_mps(bdim=30)"
   ]
  },
  {
   "cell_type": "markdown",
   "id": "8c4b95c4-4850-40c4-9e31-b31d30942bbb",
   "metadata": {},
   "source": [
    "I developed two forms to compute the contraction of the mps and an image \n",
    "\n",
    "namely psi(v)\n",
    "\n",
    "1. (SLOW) actually creates the network of the image and contract it \n",
    "2. einsums\n",
    "\n",
    "the two methods outputs the same result, but the second is way faster"
   ]
  },
  {
   "cell_type": "code",
   "execution_count": 11,
   "id": "ce70cb67-c079-47e5-8b2f-dacb65ae1564",
   "metadata": {},
   "outputs": [
    {
     "name": "stdout",
     "output_type": "stream",
     "text": [
      "CPU times: user 3.66 s, sys: 3.87 ms, total: 3.66 s\n",
      "Wall time: 3.66 s\n"
     ]
    }
   ],
   "source": [
    "%%time\n",
    "\n",
    "slow_psi = quimb_transform_img2state(train_set[0]) @ mps"
   ]
  },
  {
   "cell_type": "code",
   "execution_count": 12,
   "id": "2af27cd2-172a-4288-82e7-0c1c3bf2b6e6",
   "metadata": {},
   "outputs": [
    {
     "name": "stdout",
     "output_type": "stream",
     "text": [
      "CPU times: user 21.4 ms, sys: 222 µs, total: 21.7 ms\n",
      "Wall time: 19.4 ms\n"
     ]
    }
   ],
   "source": [
    "%%time \n",
    "\n",
    "fast_psi = computepsi(mps, train_set[0])"
   ]
  },
  {
   "cell_type": "code",
   "execution_count": null,
   "id": "fdbf6be1-0008-41fd-b0c7-415b1422db98",
   "metadata": {},
   "outputs": [],
   "source": []
  },
  {
   "cell_type": "markdown",
   "id": "ba33270c-4da6-4be9-8833-415afd267603",
   "metadata": {},
   "source": [
    "### 3. Learning"
   ]
  },
  {
   "cell_type": "code",
   "execution_count": null,
   "id": "d2237dff-5f55-4d6e-933f-a7c73aac5c5a",
   "metadata": {},
   "outputs": [],
   "source": [
    "imgs = train_set[:2]\n",
    "mps = initialize_mps(bdim=30)\n"
   ]
  },
  {
   "cell_type": "code",
   "execution_count": null,
   "id": "fef36635-7c5e-4195-8a57-8a4161065805",
   "metadata": {},
   "outputs": [],
   "source": []
  },
  {
   "cell_type": "code",
   "execution_count": 35,
   "id": "b457af54-92e2-46f4-97c1-5a366a42ae81",
   "metadata": {},
   "outputs": [
    {
     "data": {
      "text/plain": [
       "2.3701908704769463e-253"
      ]
     },
     "execution_count": 35,
     "metadata": {},
     "output_type": "execute_result"
    }
   ],
   "source": [
    "# Compute probability of the first image of the training set of the untrained network\n",
    "computepsi(mps,imgs[0])**2"
   ]
  },
  {
   "cell_type": "code",
   "execution_count": 36,
   "id": "07ce80a0-8169-4302-b8c9-f47f316c06ca",
   "metadata": {},
   "outputs": [
    {
     "data": {
      "application/vnd.jupyter.widget-view+json": {
       "model_id": "50fd60bbf9444ae280b43728e5c2f776",
       "version_major": 2,
       "version_minor": 0
      },
      "text/plain": [
       "  0%|          | 0/1562 [00:00<?, ?it/s]"
      ]
     },
     "metadata": {},
     "output_type": "display_data"
    },
    {
     "data": {
      "application/vnd.jupyter.widget-view+json": {
       "model_id": "5102075aab5a424e86fcd0fd7a04c723",
       "version_major": 2,
       "version_minor": 0
      },
      "text/plain": [
       "  0%|          | 0/1562 [00:00<?, ?it/s]"
      ]
     },
     "metadata": {},
     "output_type": "display_data"
    },
    {
     "data": {
      "application/vnd.jupyter.widget-view+json": {
       "model_id": "15cdad5acb754fbc9b1f2dd57cdbb52d",
       "version_major": 2,
       "version_minor": 0
      },
      "text/plain": [
       "  0%|          | 0/1562 [00:00<?, ?it/s]"
      ]
     },
     "metadata": {},
     "output_type": "display_data"
    }
   ],
   "source": [
    "for epoch in range(3):\n",
    "    learning_epoch_sgd(mps, imgs, 3, 0.1)\n"
   ]
  },
  {
   "cell_type": "code",
   "execution_count": 37,
   "id": "357b28cd-34a8-4157-ae58-e5315dd7c9e0",
   "metadata": {},
   "outputs": [
    {
     "data": {
      "text/plain": [
       "0.38430046322321615"
      ]
     },
     "execution_count": 37,
     "metadata": {},
     "output_type": "execute_result"
    }
   ],
   "source": [
    "# Compute probability of the first image of the training set of the trained network\n",
    "computepsi(mps,imgs[0])**2 / mps.norm()\n"
   ]
  },
  {
   "cell_type": "code",
   "execution_count": 38,
   "id": "c7c0eab0-8fae-4e88-a00f-95006eb11ab5",
   "metadata": {},
   "outputs": [
    {
     "data": {
      "text/plain": [
       "5.101239428870765e-254"
      ]
     },
     "execution_count": 38,
     "metadata": {},
     "output_type": "execute_result"
    }
   ],
   "source": [
    "# Compute probability of random noise from the trained network\n",
    "computepsi(mps,np.random.randint(0,2,(784)) )**2 / mps.norm()"
   ]
  },
  {
   "cell_type": "code",
   "execution_count": 39,
   "id": "0f0feb5b-0e73-4360-b222-f5851b2ad4ab",
   "metadata": {},
   "outputs": [
    {
     "data": {
      "text/plain": [
       "5.357394762688644"
      ]
     },
     "execution_count": 39,
     "metadata": {},
     "output_type": "execute_result"
    }
   ],
   "source": [
    "computeNLL(mps/mps.norm(), imgs)"
   ]
  },
  {
   "cell_type": "code",
   "execution_count": null,
   "id": "bc17ac7e-7913-4079-97d9-85f847ac0228",
   "metadata": {},
   "outputs": [],
   "source": []
  },
  {
   "cell_type": "markdown",
   "id": "05c8fcc3-31af-4a3c-91b3-ed321dee3039",
   "metadata": {},
   "source": [
    "### 4. Generation"
   ]
  },
  {
   "cell_type": "code",
   "execution_count": 12,
   "id": "a6e27620-2e1f-476f-aa17-ca4dbace0109",
   "metadata": {},
   "outputs": [
    {
     "data": {
      "image/svg+xml": [
       "<?xml version=\"1.0\" encoding=\"utf-8\" standalone=\"no\"?>\n",
       "<!DOCTYPE svg PUBLIC \"-//W3C//DTD SVG 1.1//EN\"\n",
       "  \"http://www.w3.org/Graphics/SVG/1.1/DTD/svg11.dtd\">\n",
       "<svg height=\"231.84pt\" version=\"1.1\" viewBox=\"0 0 231.84 231.84\" width=\"231.84pt\" xmlns=\"http://www.w3.org/2000/svg\" xmlns:xlink=\"http://www.w3.org/1999/xlink\">\n",
       " <metadata>\n",
       "  <rdf:RDF xmlns:cc=\"http://creativecommons.org/ns#\" xmlns:dc=\"http://purl.org/dc/elements/1.1/\" xmlns:rdf=\"http://www.w3.org/1999/02/22-rdf-syntax-ns#\">\n",
       "   <cc:Work>\n",
       "    <dc:type rdf:resource=\"http://purl.org/dc/dcmitype/StillImage\"/>\n",
       "    <dc:date>2022-03-17T18:19:02.144352</dc:date>\n",
       "    <dc:format>image/svg+xml</dc:format>\n",
       "    <dc:creator>\n",
       "     <cc:Agent>\n",
       "      <dc:title>Matplotlib v3.4.3, https://matplotlib.org/</dc:title>\n",
       "     </cc:Agent>\n",
       "    </dc:creator>\n",
       "   </cc:Work>\n",
       "  </rdf:RDF>\n",
       " </metadata>\n",
       " <defs>\n",
       "  <style type=\"text/css\">*{stroke-linecap:butt;stroke-linejoin:round;}</style>\n",
       " </defs>\n",
       " <g id=\"figure_1\">\n",
       "  <g id=\"patch_1\">\n",
       "   <path d=\"M 0 231.84 \n",
       "L 231.84 231.84 \n",
       "L 231.84 0 \n",
       "L 0 0 \n",
       "z\n",
       "\" style=\"fill:none;\"/>\n",
       "  </g>\n",
       "  <g id=\"axes_1\">\n",
       "   <g clip-path=\"url(#pefd4744897)\">\n",
       "    <image height=\"218\" id=\"image2126277314\" transform=\"scale(1 -1)translate(0 -218)\" width=\"218\" x=\"7.2\" xlink:href=\"data:image/png;base64,\n",
       "iVBORw0KGgoAAAANSUhEUgAAANoAAADaCAYAAADAHVzbAAAD1klEQVR4nO3dW27bMBQAUavw/rfsfhdIpCQsh7Ryzm8byQ8NCPiC0vF6vV6PE8dxnP3zqYtDX9r53KPHn3nunT+3mee+MvO1XR37z4/PDHyZ0CAgNAgIDQJCg4DQICA0CDyv/sPIbGP2LGr23OXMyHsbmed8xczvbPTcZ8dfObu8Ov7o52JFg4DQICA0CAgNAkKDgNAgIDQIXM7RVs423nUeNGrlnrAru37fj8f4+565X82KBgGhQUBoEBAaBIQGAaFBYOo2mSurt0Wcmb2VZddzX5k5Nlk9kpk5TrKiQUBoEBAaBIQGAaFBQGgQEBoEnrNnFyN/u/IxO6PHH/nb2fPFs+Pv/Nimld/ZKCsaBIQGAaFBQGgQEBoEhAYBoUHguXKW9c5mfi6rb7s2YuR62vl9j742KxoEhAYBoUFAaBAQGgSEBgGhQeB4PB7Lhl2r92WN2Hlm81v3hI1eLx7bBG9OaBAQGgSEBgGhQUBoEBAaBI7XxQBg52d17ezOe/HOjMyyVs7Bro4/emwrGgSEBgGhQUBoEBAaBIQGgcuf9y8PMHD7sJ23XMy08rFMO5v9vj22CW5OaBAQGgSEBgGhQUBoEBAaBIbnaOxn5laVUSOX28r54+hM2IoGAaFBQGgQEBoEhAYBoUFAaBAwR+MfO8/R3pkVDQJCg4DQICA0CAgNAkKDgNAgIDQICA0CQoOA0CAgNAgIDQJCg4DQICA0CAgNAkKDgNAgIDQICA0CQoPAc/UL4Ptm3xJuxG+9ndwVKxoEhAYBoUFAaBAQGgSEBgGhQcAcbUM7z8n4GSsaBIQGAaFBQGgQEBoEhAYBoUHAHG1DV3u6zNnejxUNAkKDgNAgIDQICA0CQoOA0CBwvNyI73Z2nrP91svNigYBoUFAaBAQGgSEBgGhQcDP+/xj5WjgzpeiFQ0CQoOA0CAgNAgIDQJCg4DQIGCOxreYs/2MFQ0CQoOA0CAgNAgIDQJCg4DQIOCxTXyLR0r9jBUNAkKDgNAgIDQICA0CQoOA0CBgjsZ/Zc72MSsaBIQGAaFBQGgQEBoEhAYBoUHAHO0TO897dr6/4c6f20pWNAgIDQJCg4DQICA0CAgNAn7e/8Sdt3u882t/V1Y0CAgNAkKDgNAgIDQICA0CQoPA8dp5z8VNmWN97M6XohUNAkKDgNAgIDQICA0CQoOA0CBgP9oCd54X8TErGgSEBgGhQUBoEBAaBIQGAaFBQGgQEBoEhAYBoUFAaBAQGgSEBgGhQUBoEBAaBIQGAaFBQGgQEBoEhAYBoUFAaBAQGgSEBgGhQUBoEBAaBIQGgb81wAevB1st9AAAAABJRU5ErkJggg==\" y=\"-6.64\"/>\n",
       "   </g>\n",
       "  </g>\n",
       " </g>\n",
       " <defs>\n",
       "  <clipPath id=\"pefd4744897\">\n",
       "   <rect height=\"217.44\" width=\"217.44\" x=\"7.2\" y=\"7.2\"/>\n",
       "  </clipPath>\n",
       " </defs>\n",
       "</svg>\n"
      ],
      "text/plain": [
       "<Figure size 432x288 with 1 Axes>"
      ]
     },
     "metadata": {
      "needs_background": "light"
     },
     "output_type": "display_data"
    }
   ],
   "source": [
    "gen = generate_sample(mps)\n",
    "plot_img(gen)"
   ]
  },
  {
   "cell_type": "code",
   "execution_count": null,
   "id": "19010f35-f4bc-420c-9823-69cb00add01f",
   "metadata": {},
   "outputs": [],
   "source": []
  },
  {
   "cell_type": "markdown",
   "id": "58dc53a8-846e-43b0-ac67-db35a8b3183b",
   "metadata": {},
   "source": [
    "### 5. MPS Saving and Loading"
   ]
  },
  {
   "cell_type": "code",
   "execution_count": null,
   "id": "121d2c9d-dc13-428e-9a53-84b885f89cfa",
   "metadata": {},
   "outputs": [
    {
     "data": {
      "text/plain": [
       "['./testmps']"
      ]
     },
     "execution_count": 41,
     "metadata": {},
     "output_type": "execute_result"
    }
   ],
   "source": [
    "quimb.utils.save_to_disk(mps, './testmps')"
   ]
  },
  {
   "cell_type": "code",
   "execution_count": null,
   "id": "9186e453-ed02-4259-a937-4acffa574a67",
   "metadata": {},
   "outputs": [],
   "source": [
    "mps = quimb.utils.load_from_disk('./testmps')"
   ]
  },
  {
   "cell_type": "code",
   "execution_count": null,
   "id": "6fa1c4d1-94f8-4b03-872e-564553551715",
   "metadata": {},
   "outputs": [
    {
     "data": {
      "text/plain": [
       "5.357394762688636"
      ]
     },
     "execution_count": 44,
     "metadata": {},
     "output_type": "execute_result"
    }
   ],
   "source": [
    "computeNLL(loaded_mps/loaded_mps.norm(), imgs)"
   ]
  },
  {
   "cell_type": "code",
   "execution_count": null,
   "id": "826d92b2-90f0-44d0-b06d-68281c173924",
   "metadata": {},
   "outputs": [
    {
     "data": {
      "image/svg+xml": [
       "<?xml version=\"1.0\" encoding=\"utf-8\" standalone=\"no\"?>\n",
       "<!DOCTYPE svg PUBLIC \"-//W3C//DTD SVG 1.1//EN\"\n",
       "  \"http://www.w3.org/Graphics/SVG/1.1/DTD/svg11.dtd\">\n",
       "<svg height=\"231.84pt\" version=\"1.1\" viewBox=\"0 0 231.84 231.84\" width=\"231.84pt\" xmlns=\"http://www.w3.org/2000/svg\" xmlns:xlink=\"http://www.w3.org/1999/xlink\">\n",
       " <metadata>\n",
       "  <rdf:RDF xmlns:cc=\"http://creativecommons.org/ns#\" xmlns:dc=\"http://purl.org/dc/elements/1.1/\" xmlns:rdf=\"http://www.w3.org/1999/02/22-rdf-syntax-ns#\">\n",
       "   <cc:Work>\n",
       "    <dc:type rdf:resource=\"http://purl.org/dc/dcmitype/StillImage\"/>\n",
       "    <dc:date>2022-03-17T18:19:11.635357</dc:date>\n",
       "    <dc:format>image/svg+xml</dc:format>\n",
       "    <dc:creator>\n",
       "     <cc:Agent>\n",
       "      <dc:title>Matplotlib v3.4.3, https://matplotlib.org/</dc:title>\n",
       "     </cc:Agent>\n",
       "    </dc:creator>\n",
       "   </cc:Work>\n",
       "  </rdf:RDF>\n",
       " </metadata>\n",
       " <defs>\n",
       "  <style type=\"text/css\">*{stroke-linecap:butt;stroke-linejoin:round;}</style>\n",
       " </defs>\n",
       " <g id=\"figure_1\">\n",
       "  <g id=\"patch_1\">\n",
       "   <path d=\"M 0 231.84 \n",
       "L 231.84 231.84 \n",
       "L 231.84 0 \n",
       "L 0 0 \n",
       "z\n",
       "\" style=\"fill:none;\"/>\n",
       "  </g>\n",
       "  <g id=\"axes_1\">\n",
       "   <g clip-path=\"url(#pae3b2e3568)\">\n",
       "    <image height=\"218\" id=\"image02e418c11b\" transform=\"scale(1 -1)translate(0 -218)\" width=\"218\" x=\"7.2\" xlink:href=\"data:image/png;base64,\n",
       "iVBORw0KGgoAAAANSUhEUgAAANoAAADaCAYAAADAHVzbAAADyUlEQVR4nO3d0Y7aMBRAQVLx/7+cPq/Eki6pj+PszOtWEChHlnJlZ3s8HvvjjX1/++e3tm17+/czr332vY+cvbaz7z/Su882+v/s3esfvfbo73Tkb/3Px68M/DOhQUBoEBAaBIQGAaFBQGgQeI6cZZ11ZqYz+nONnDedfe2ZM7wz7z179jnyva1oEBAaBIQGAaFBQGgQEBoEhAaB58ozm1XN3lc1ck/YyPnhTGevzYoGAaFBQGgQEBoEhAYBoUFg2wfuLZh53NxoZ273rnyU3czj5mZyex8WIDQICA0CQoOA0CAgNAgIDQKHc7RVZzazZ3gjv7eVty6t+qguczRYgNAgIDQICA0CQoOA0CAgNAg8j/7BzKPLZu75urKZRwTOnOGtfDSiFQ0CQoOA0CAgNAgIDQJCg4DQIHA4Rzszuxi5P+ismdc2e96z6oxx9COlRs6ErWgQEBoEhAYBoUFAaBAQGgSEBoHDOdpIK8/Jrnx24pGR86KRs6ojV/49WdEgIDQICA0CQoOA0CAgNAgMPW5utJG3qY/M/F5G3gY/e90zt1Udmbk9yIoGAaFBQGgQEBoEhAYBoUFAaBDY9lXPHuNbM2d4Mx+1deXPbUWDgNAgIDQICA0CQoOA0CAgNAiYo/HFnfeEzWRFg4DQICA0CAgNAkKDgNAgIDQICA0CQoOA0CAgNAgIDQJCg4DQICA0CAgNAkKDgNAgIDQICA0CQoOA0CDwnH0B/NzoI+HO+K3HyR2xokFAaBAQGgSEBgGhQUBoEBAaBMzRLujKczI+Y0WDgNAgIDQICA0CQoOA0CAgNAiYo13Q0Z4uc7b1WNEgIDQICA0CQoOA0CAgNAgIDQLb7iC+27nynO23/tysaBAQGgSEBgGhQUBoEBAaBNze54uZo4E7/xStaBAQGgSEBgGhQUBoEBAaBIQGAXM0fsSc7TNWNAgIDQJCg4DQICA0CAgNAkKDgMc28SMeKfUZKxoEhAYBoUFAaBAQGgSEBgGhQcAcjf/KnO01KxoEhAYBoUFAaBAQGgSEBgGhQcAc7RtXnvdc+XzDK39vM1nRICA0CAgNAkKDgNAgIDQIuL3/jTtv91j52ldlRYOA0CAgNAgIDQJCg4DQICA0CGz7lfdc3JQ51mt3/ila0SAgNAgIDQJCg4DQICA0CAgNAvajTXDneRGvWdEgIDQICA0CQoOA0CAgNAgIDQJCg4DQICA0CAgNAkKDgNAgIDQICA0CQoOA0CAgNAgIDQJCg4DQICA0CAgNAkKDgNAgIDQICA0CQoOA0CAgNAj8BdlI8b+IWO7gAAAAAElFTkSuQmCC\" y=\"-6.64\"/>\n",
       "   </g>\n",
       "  </g>\n",
       " </g>\n",
       " <defs>\n",
       "  <clipPath id=\"pae3b2e3568\">\n",
       "   <rect height=\"217.44\" width=\"217.44\" x=\"7.2\" y=\"7.2\"/>\n",
       "  </clipPath>\n",
       " </defs>\n",
       "</svg>\n"
      ],
      "text/plain": [
       "<Figure size 432x288 with 1 Axes>"
      ]
     },
     "metadata": {
      "needs_background": "light"
     },
     "output_type": "display_data"
    }
   ],
   "source": [
    "gen = generate_sample(mps)\n",
    "plot_img(gen)"
   ]
  },
  {
   "cell_type": "code",
   "execution_count": null,
   "id": "cb674187-4d90-48a4-83b6-090a322a2d24",
   "metadata": {},
   "outputs": [],
   "source": []
  },
  {
   "cell_type": "markdown",
   "id": "24557c77-f759-422a-b219-bf6dfdf9a964",
   "metadata": {},
   "source": [
    "### 6. Optimizations"
   ]
  },
  {
   "cell_type": "code",
   "execution_count": 4,
   "id": "14f285a7-7e56-4ef2-9748-51c5ecccc886",
   "metadata": {},
   "outputs": [],
   "source": [
    "vector = np.random.rand(30,)\n",
    "tensor = np.random.rand(30,30,10)\n",
    "\n",
    "tvector = qtn.Tensor(data=vector, inds=('a'))\n",
    "ttensor = qtn.Tensor(data=tensor, inds=('a','b','c'))"
   ]
  },
  {
   "cell_type": "code",
   "execution_count": 24,
   "id": "0c021773-8a06-4b36-b76c-95967550af09",
   "metadata": {},
   "outputs": [
    {
     "name": "stdout",
     "output_type": "stream",
     "text": [
      "41.6 µs ± 519 ns per loop (mean ± std. dev. of 7 runs, 10000 loops each)\n"
     ]
    }
   ],
   "source": [
    "%%timeit\n",
    "tvector @ ttensor"
   ]
  },
  {
   "cell_type": "code",
   "execution_count": 25,
   "id": "513f7f78-4732-4b22-be27-de8a2d4a8836",
   "metadata": {},
   "outputs": [
    {
     "name": "stdout",
     "output_type": "stream",
     "text": [
      "5.66 µs ± 92.8 ns per loop (mean ± std. dev. of 7 runs, 100000 loops each)\n"
     ]
    }
   ],
   "source": [
    "%%timeit\n",
    "\n",
    "data = np.einsum('a,abc',tvector.data,ttensor.data)\n",
    "\n",
    "tn = qtn.Tensor(data=data, inds=('b','c'))"
   ]
  },
  {
   "cell_type": "code",
   "execution_count": 26,
   "id": "a110f02b-ac4c-4f85-9801-9561b06f1169",
   "metadata": {},
   "outputs": [
    {
     "name": "stdout",
     "output_type": "stream",
     "text": [
      "39.3 µs ± 630 ns per loop (mean ± std. dev. of 7 runs, 10000 loops each)\n"
     ]
    }
   ],
   "source": [
    "%%timeit\n",
    "qtn.tensor_contract(tvector, ttensor, backend='numpy')"
   ]
  },
  {
   "cell_type": "code",
   "execution_count": 5,
   "id": "05f9ecb6-480f-4132-affb-b399f0f5dfe2",
   "metadata": {},
   "outputs": [
    {
     "name": "stdout",
     "output_type": "stream",
     "text": [
      "6.49 µs ± 33.6 ns per loop (mean ± std. dev. of 7 runs, 100000 loops each)\n"
     ]
    }
   ],
   "source": [
    "%%timeit\n",
    "\n",
    "tneinsum(tvector, ttensor)"
   ]
  },
  {
   "cell_type": "code",
   "execution_count": 6,
   "id": "bd06c6c9-c9a7-4faa-860f-0511aad80c97",
   "metadata": {},
   "outputs": [
    {
     "name": "stdout",
     "output_type": "stream",
     "text": [
      "6.6 µs ± 27.9 ns per loop (mean ± std. dev. of 7 runs, 100000 loops each)\n"
     ]
    }
   ],
   "source": [
    "%%timeit\n",
    "\n",
    "tneinsum2(tvector, ttensor)"
   ]
  },
  {
   "cell_type": "code",
   "execution_count": 29,
   "id": "f27e3dca-52ea-4afa-8c9e-cb37f7baddae",
   "metadata": {},
   "outputs": [
    {
     "name": "stdout",
     "output_type": "stream",
     "text": [
      "14.2 µs ± 318 ns per loop (mean ± std. dev. of 7 runs, 100000 loops each)\n"
     ]
    }
   ],
   "source": [
    "%%timeit\n",
    "\n",
    "data = np.tensordot(tvector.data,ttensor.data, (0,0))\n",
    "\n",
    "tn = qtn.Tensor(data=data, inds=('b','c'))"
   ]
  },
  {
   "cell_type": "code",
   "execution_count": null,
   "id": "5429e332-7935-4fbe-8a66-e2fc0b52800d",
   "metadata": {},
   "outputs": [],
   "source": []
  },
  {
   "cell_type": "markdown",
   "id": "857428e8-4f67-4d1c-baa0-1f1eb5c0a33a",
   "metadata": {},
   "source": [
    "### 7. Cache"
   ]
  },
  {
   "cell_type": "code",
   "execution_count": 4,
   "id": "16f0b501-f861-469a-ad93-7a7dcbab8436",
   "metadata": {},
   "outputs": [],
   "source": [
    "imgs = train_set[:2]\n"
   ]
  },
  {
   "cell_type": "code",
   "execution_count": 5,
   "id": "37981747-bb33-437f-a51a-be91c1e874c2",
   "metadata": {},
   "outputs": [],
   "source": [
    "mps = initialize_mps()"
   ]
  },
  {
   "cell_type": "code",
   "execution_count": 6,
   "id": "ca321093-bd2c-4f5f-8ac7-245bb66cbc4b",
   "metadata": {},
   "outputs": [],
   "source": [
    "timgs = []\n",
    "for img in imgs:\n",
    "    timgs.append( tens_picture(img) )\n"
   ]
  },
  {
   "cell_type": "code",
   "execution_count": 7,
   "id": "ba035f6f-bbf2-4373-87ff-62a3f8343342",
   "metadata": {},
   "outputs": [],
   "source": [
    "img_cache = left_right_cache(mps, timgs)\n"
   ]
  },
  {
   "cell_type": "code",
   "execution_count": 8,
   "id": "21119771-e3a2-4015-bec3-1dcb9bd00061",
   "metadata": {},
   "outputs": [
    {
     "name": "stdout",
     "output_type": "stream",
     "text": [
      "NLL: 567.8563520597061 | Baseline: 0.6931471805599453\n",
      "epoch 1/1\n"
     ]
    },
    {
     "data": {
      "application/vnd.jupyter.widget-view+json": {
       "model_id": "c630a986eab647d4b38b389e4beaf73f",
       "version_major": 2,
       "version_minor": 0
      },
      "text/plain": [
       "  0%|          | 0/1562 [00:00<?, ?it/s]"
      ]
     },
     "metadata": {},
     "output_type": "display_data"
    },
    {
     "name": "stdout",
     "output_type": "stream",
     "text": [
      "NLL: 23.230485509501968 | Baseline: 0.6931471805599453\n"
     ]
    }
   ],
   "source": [
    "learning_epoch_cached(mps, timgs, 1, 0.1, img_cache)"
   ]
  },
  {
   "cell_type": "code",
   "execution_count": 9,
   "id": "5d8f6218-31e2-4f97-8fdc-c596e1ad4970",
   "metadata": {},
   "outputs": [
    {
     "data": {
      "text/plain": [
       "28079888.044583548"
      ]
     },
     "execution_count": 9,
     "metadata": {},
     "output_type": "execute_result"
    }
   ],
   "source": [
    "mps @ mps"
   ]
  },
  {
   "cell_type": "code",
   "execution_count": 10,
   "id": "d12695a9-b0d8-4f5f-a9ba-428076916e1a",
   "metadata": {},
   "outputs": [
    {
     "data": {
      "image/svg+xml": [
       "<?xml version=\"1.0\" encoding=\"utf-8\" standalone=\"no\"?>\n",
       "<!DOCTYPE svg PUBLIC \"-//W3C//DTD SVG 1.1//EN\"\n",
       "  \"http://www.w3.org/Graphics/SVG/1.1/DTD/svg11.dtd\">\n",
       "<svg height=\"231.84pt\" version=\"1.1\" viewBox=\"0 0 231.84 231.84\" width=\"231.84pt\" xmlns=\"http://www.w3.org/2000/svg\" xmlns:xlink=\"http://www.w3.org/1999/xlink\">\n",
       " <metadata>\n",
       "  <rdf:RDF xmlns:cc=\"http://creativecommons.org/ns#\" xmlns:dc=\"http://purl.org/dc/elements/1.1/\" xmlns:rdf=\"http://www.w3.org/1999/02/22-rdf-syntax-ns#\">\n",
       "   <cc:Work>\n",
       "    <dc:type rdf:resource=\"http://purl.org/dc/dcmitype/StillImage\"/>\n",
       "    <dc:date>2022-03-20T16:20:43.345284</dc:date>\n",
       "    <dc:format>image/svg+xml</dc:format>\n",
       "    <dc:creator>\n",
       "     <cc:Agent>\n",
       "      <dc:title>Matplotlib v3.4.3, https://matplotlib.org/</dc:title>\n",
       "     </cc:Agent>\n",
       "    </dc:creator>\n",
       "   </cc:Work>\n",
       "  </rdf:RDF>\n",
       " </metadata>\n",
       " <defs>\n",
       "  <style type=\"text/css\">*{stroke-linecap:butt;stroke-linejoin:round;}</style>\n",
       " </defs>\n",
       " <g id=\"figure_1\">\n",
       "  <g id=\"patch_1\">\n",
       "   <path d=\"M 0 231.84 \n",
       "L 231.84 231.84 \n",
       "L 231.84 0 \n",
       "L 0 0 \n",
       "z\n",
       "\" style=\"fill:none;\"/>\n",
       "  </g>\n",
       "  <g id=\"axes_1\">\n",
       "   <g clip-path=\"url(#p6bf0cd7969)\">\n",
       "    <image height=\"218\" id=\"image8175ce1c15\" transform=\"scale(1 -1)translate(0 -218)\" width=\"218\" x=\"7.2\" xlink:href=\"data:image/png;base64,\n",
       "iVBORw0KGgoAAAANSUhEUgAAANoAAADaCAYAAADAHVzbAAADgklEQVR4nO3d0W6bQBBAUaj6/79MXyO1Nko3e83COa9RUhv3aiRGi/fjOI5tkn3fh37/7KWN/P2Jb/vU6HWZafS6zHxvs1/bu78/8rvbtm2/3v4U+BFCg4DQICA0CAgNAkKDgNAgsM/co41aed9kx/d9n/6v+O69j37eJhoEhAYBoUFAaBAQGgSEBgGhQeDSezS4CxMNAkKDgNAgIDQICA0CQoOA0CAgNAgIDQJCg4DQICA0CAgNAkKDwO9PvwD+tvJj9vg3Ew0CQoOA0CAgNAgIDQJCg4DQIGCP9p+uvOuaafR9P3UPZ6JBQGgQEBoEhAYBoUFAaBAQGgTs0V6YuSd76i5p28au68rXzUSDgNAgIDQICA0CQoOA0CAgNAjsx8rLiQGzz5M99LIOufNZNxMNAkKDgNAgIDQICA0CQoPAbW/vu31/Pyvf/jfRICA0CAgNAkKDgNAgIDQICA0CHjf3gj3Z9Zx9Jmd7trOfz/zMTTQICA0CQoOA0CAgNAgIDQJCg8Bj92j2ZPczumebyUSDgNAgIDQICA0CQoOA0CAgNAgIDQJCg4DQICA0CAgNAkKDgNAgsPQxmU8ee4DvMNEgIDQICA0CQoOA0CAgNAgIDQJL79HgqyvvVU00CAgNAkKDgNAgIDQICA0CQoPA0nu0d1/Tc+WdCs9jokFAaBAQGgSEBgGhQUBoEBAaBJbeo40427O929Gxpk9+piYaBIQGAaFBQGgQEBoEhAYBoUHgsXs01rPy7tNEg4DQICA0CAgNAkKDgNAg4PY+l3HnRwSaaBAQGgSEBgGhQUBoEBAaBIQGgdvu0c6OTJztbFY+knFXK19zEw0CQoOA0CAgNAgIDQJCg4DQIHDbPRqfMXKmbOU92RkTDQJCg4DQICA0CAgNAkKDgNAgsB93Xl4MGH3G4KqXdfazFVe9LqNMNAgIDQJCg4DQICA0CAgNAkKDgPNok9z1u76eugcbZaJBQGgQEBoEhAYBoUFAaBBwe/+F0a99mvlvsx4TDQJCg4DQICA0CAgNAkKDgNAg4HFzk9iz8ZWJBgGhQUBoEBAaBIQGAaFBQGgQcB5tErsuvjLRICA0CAgNAkKDgNAgIDQICA0CQoOA0CAgNAgIDQJCg4DQICA0CAgNAkKDgNAgIDQICA0CQoOA0CAgNAgIDQJCg4DQICA0CAgNAkKDgNAgIDQI/AGqR4+vDYSXYQAAAABJRU5ErkJggg==\" y=\"-6.64\"/>\n",
       "   </g>\n",
       "  </g>\n",
       " </g>\n",
       " <defs>\n",
       "  <clipPath id=\"p6bf0cd7969\">\n",
       "   <rect height=\"217.44\" width=\"217.44\" x=\"7.2\" y=\"7.2\"/>\n",
       "  </clipPath>\n",
       " </defs>\n",
       "</svg>\n"
      ],
      "text/plain": [
       "<Figure size 432x288 with 1 Axes>"
      ]
     },
     "metadata": {
      "needs_background": "light"
     },
     "output_type": "display_data"
    }
   ],
   "source": [
    "gen = generate_sample(mps)\n",
    "plot_img(gen)"
   ]
  },
  {
   "cell_type": "code",
   "execution_count": 17,
   "id": "ab5fb19c-ae25-4788-ad99-0e656de45bc7",
   "metadata": {},
   "outputs": [
    {
     "data": {
      "image/svg+xml": [
       "<?xml version=\"1.0\" encoding=\"utf-8\" standalone=\"no\"?>\n",
       "<!DOCTYPE svg PUBLIC \"-//W3C//DTD SVG 1.1//EN\"\n",
       "  \"http://www.w3.org/Graphics/SVG/1.1/DTD/svg11.dtd\">\n",
       "<svg height=\"231.84pt\" version=\"1.1\" viewBox=\"0 0 231.84 231.84\" width=\"231.84pt\" xmlns=\"http://www.w3.org/2000/svg\" xmlns:xlink=\"http://www.w3.org/1999/xlink\">\n",
       " <metadata>\n",
       "  <rdf:RDF xmlns:cc=\"http://creativecommons.org/ns#\" xmlns:dc=\"http://purl.org/dc/elements/1.1/\" xmlns:rdf=\"http://www.w3.org/1999/02/22-rdf-syntax-ns#\">\n",
       "   <cc:Work>\n",
       "    <dc:type rdf:resource=\"http://purl.org/dc/dcmitype/StillImage\"/>\n",
       "    <dc:date>2022-03-20T16:24:45.471607</dc:date>\n",
       "    <dc:format>image/svg+xml</dc:format>\n",
       "    <dc:creator>\n",
       "     <cc:Agent>\n",
       "      <dc:title>Matplotlib v3.4.3, https://matplotlib.org/</dc:title>\n",
       "     </cc:Agent>\n",
       "    </dc:creator>\n",
       "   </cc:Work>\n",
       "  </rdf:RDF>\n",
       " </metadata>\n",
       " <defs>\n",
       "  <style type=\"text/css\">*{stroke-linecap:butt;stroke-linejoin:round;}</style>\n",
       " </defs>\n",
       " <g id=\"figure_1\">\n",
       "  <g id=\"patch_1\">\n",
       "   <path d=\"M 0 231.84 \n",
       "L 231.84 231.84 \n",
       "L 231.84 0 \n",
       "L 0 0 \n",
       "z\n",
       "\" style=\"fill:none;\"/>\n",
       "  </g>\n",
       "  <g id=\"axes_1\">\n",
       "   <g clip-path=\"url(#pcaa3abec9f)\">\n",
       "    <image height=\"218\" id=\"image55aa15aee2\" transform=\"scale(1 -1)translate(0 -218)\" width=\"218\" x=\"7.2\" xlink:href=\"data:image/png;base64,\n",
       "iVBORw0KGgoAAAANSUhEUgAAANoAAADaCAYAAADAHVzbAAADM0lEQVR4nO3dAU6EMBBA0cV4/yvjBVTiIp+2vHcAs7r8TMKkddv3fX8Bl/q4+wPAEwgNAkKDgNAgIDQICA0CQoOA0CAgNAgIDQJCg4DQICA0CAgNAkKDwOfdH4D/t23bZT/b8cX3mGgQEBoEhAYBoUFAaBAQGgSEBgGhQUBoEBAaBIQGAaFBQGgQEBoEhAYBoUFAaBAQGgSEBgGhQUBoEBAaBFw3x58cXWXnOrrvmWgQEBoEhAYBoUFAaBAQGgSEBgGhQUBoEBAaBIQGAaFBQGgQEBoEhAYBoUFAaBAQGgSEBgGhQUBoEBAaBKa+bu7o6rNRuZLteUw0CAgNAkKDgNAgIDQICA0CQoPAtk+81Jl1j3bW2a/szr/bxI/bKSYaBIQGAaFBQGgQEBoEhAYBoUFg6vNoT/XU/eHMTDQICA0CQoOA0CAgNAgIDQJCg8DQezT7ovX89p2ufFbNRIOA0CAgNAgIDQJCg4DQIDD06/2j171PvTZt5rXHyq/wf2OiQUBoEBAaBIQGAaFBQGgQEBoEht6jsR7HZIDLCA0CQoOA0CAgNAgIDQJCg8C2L7q8uPvMlvNqf7foo/h6vUw0SAgNAkKDgNAgIDQICA0CQoOA82gXufPc1cj3YT6ViQYBoUFAaBAQGgSEBgGhQUBoEFj2PNqRkXdJTz3LtvKjaKJBQGgQEBoEhAYBoUFAaBB47Ov9IyO//j9y5isd+fee+VE10SAgNAgIDQJCg4DQICA0CAgNAq6b+8HMV7aN/NmeykSDgNAgIDQICA0CQoOA0CAgNAjYo71p5j0bPRMNAkKDgNAgIDQICA0CQoOA0CBgj3aRVe9W5D0mGgSEBgGhQUBoEBAaBIQGAaFBwB5tQGf/D9iVe7iZ/0fZnUw0CAgNAkKDgNAgIDQICA0CXu8vyCv48ZhoEBAaBIQGAaFBQGgQEBoEhAYBoUFAaBAQGgSEBgGhQUBoEBAaBIQGAaFBQGgQEBoEhAYBoUFAaBAQGgSEBgGhQUBoEBAaBIQGAaFBQGgQEBoEhAYBoUFAaBAQGgSEBgGhQUBoEBAaBIQGAaFBQGgQEBoEhAYBoUFAaBAQGgS+AIKJXbZrjap/AAAAAElFTkSuQmCC\" y=\"-6.64\"/>\n",
       "   </g>\n",
       "  </g>\n",
       " </g>\n",
       " <defs>\n",
       "  <clipPath id=\"pcaa3abec9f\">\n",
       "   <rect height=\"217.44\" width=\"217.44\" x=\"7.2\" y=\"7.2\"/>\n",
       "  </clipPath>\n",
       " </defs>\n",
       "</svg>\n"
      ],
      "text/plain": [
       "<Figure size 432x288 with 1 Axes>"
      ]
     },
     "metadata": {
      "needs_background": "light"
     },
     "output_type": "display_data"
    }
   ],
   "source": [
    "plot_img(train_set[101])"
   ]
  },
  {
   "cell_type": "code",
   "execution_count": 11,
   "id": "6ce41d89-4803-4c32-b3ca-af859c0eebfa",
   "metadata": {},
   "outputs": [
    {
     "data": {
      "text/plain": [
       "0.9999999999999568"
      ]
     },
     "execution_count": 11,
     "metadata": {},
     "output_type": "execute_result"
    }
   ],
   "source": [
    "mps @ mps"
   ]
  },
  {
   "cell_type": "code",
   "execution_count": 12,
   "id": "8893c753-a010-420c-95ee-42832f8e9660",
   "metadata": {},
   "outputs": [
    {
     "data": {
      "text/plain": [
       "(Tensor(shape=(2, 2), inds=('i0', 'v0'), tags=oset(['I0'])),\n",
       " Tensor(shape=(2, 4, 2), inds=('i0', 'i1', 'v1'), tags=oset(['I1'])),\n",
       " Tensor(shape=(4, 8, 2), inds=('i1', 'i2', 'v2'), tags=oset(['I2'])),\n",
       " Tensor(shape=(8, 16, 2), inds=('i2', 'i3', 'v3'), tags=oset(['I3'])),\n",
       " Tensor(shape=(16, 31, 2), inds=('i3', 'i4', 'v4'), tags=oset(['I4'])),\n",
       " Tensor(shape=(31, 31, 2), inds=('i4', 'i5', 'v5'), tags=oset(['I5'])),\n",
       " Tensor(shape=(31, 31, 2), inds=('i5', 'i6', 'v6'), tags=oset(['I6'])),\n",
       " Tensor(shape=(31, 31, 2), inds=('i6', 'i7', 'v7'), tags=oset(['I7'])),\n",
       " Tensor(shape=(31, 31, 2), inds=('i7', 'i8', 'v8'), tags=oset(['I8'])),\n",
       " Tensor(shape=(31, 31, 2), inds=('i8', 'i9', 'v9'), tags=oset(['I9'])),\n",
       " Tensor(shape=(31, 31, 2), inds=('i9', 'i10', 'v10'), tags=oset(['I10'])),\n",
       " Tensor(shape=(31, 31, 2), inds=('i10', 'i11', 'v11'), tags=oset(['I11'])),\n",
       " Tensor(shape=(31, 31, 2), inds=('i11', 'i12', 'v12'), tags=oset(['I12'])),\n",
       " Tensor(shape=(31, 31, 2), inds=('i12', 'i13', 'v13'), tags=oset(['I13'])),\n",
       " Tensor(shape=(31, 31, 2), inds=('i13', 'i14', 'v14'), tags=oset(['I14'])),\n",
       " Tensor(shape=(31, 31, 2), inds=('i14', 'i15', 'v15'), tags=oset(['I15'])),\n",
       " Tensor(shape=(31, 31, 2), inds=('i15', 'i16', 'v16'), tags=oset(['I16'])),\n",
       " Tensor(shape=(31, 31, 2), inds=('i16', 'i17', 'v17'), tags=oset(['I17'])),\n",
       " Tensor(shape=(31, 31, 2), inds=('i17', 'i18', 'v18'), tags=oset(['I18'])),\n",
       " Tensor(shape=(31, 31, 2), inds=('i18', 'i19', 'v19'), tags=oset(['I19'])),\n",
       " Tensor(shape=(31, 31, 2), inds=('i19', 'i20', 'v20'), tags=oset(['I20'])),\n",
       " Tensor(shape=(31, 31, 2), inds=('i20', 'i21', 'v21'), tags=oset(['I21'])),\n",
       " Tensor(shape=(31, 31, 2), inds=('i21', 'i22', 'v22'), tags=oset(['I22'])),\n",
       " Tensor(shape=(31, 31, 2), inds=('i22', 'i23', 'v23'), tags=oset(['I23'])),\n",
       " Tensor(shape=(31, 31, 2), inds=('i23', 'i24', 'v24'), tags=oset(['I24'])),\n",
       " Tensor(shape=(31, 31, 2), inds=('i24', 'i25', 'v25'), tags=oset(['I25'])),\n",
       " Tensor(shape=(31, 31, 2), inds=('i25', 'i26', 'v26'), tags=oset(['I26'])),\n",
       " Tensor(shape=(31, 31, 2), inds=('i26', 'i27', 'v27'), tags=oset(['I27'])),\n",
       " Tensor(shape=(31, 31, 2), inds=('i27', 'i28', 'v28'), tags=oset(['I28'])),\n",
       " Tensor(shape=(31, 31, 2), inds=('i28', 'i29', 'v29'), tags=oset(['I29'])),\n",
       " Tensor(shape=(31, 31, 2), inds=('i29', 'i30', 'v30'), tags=oset(['I30'])),\n",
       " Tensor(shape=(31, 31, 2), inds=('i30', 'i31', 'v31'), tags=oset(['I31'])),\n",
       " Tensor(shape=(31, 31, 2), inds=('i31', 'i32', 'v32'), tags=oset(['I32'])),\n",
       " Tensor(shape=(31, 31, 2), inds=('i32', 'i33', 'v33'), tags=oset(['I33'])),\n",
       " Tensor(shape=(31, 31, 2), inds=('i33', 'i34', 'v34'), tags=oset(['I34'])),\n",
       " Tensor(shape=(31, 31, 2), inds=('i34', 'i35', 'v35'), tags=oset(['I35'])),\n",
       " Tensor(shape=(31, 31, 2), inds=('i35', 'i36', 'v36'), tags=oset(['I36'])),\n",
       " Tensor(shape=(31, 31, 2), inds=('i36', 'i37', 'v37'), tags=oset(['I37'])),\n",
       " Tensor(shape=(31, 31, 2), inds=('i37', 'i38', 'v38'), tags=oset(['I38'])),\n",
       " Tensor(shape=(31, 31, 2), inds=('i38', 'i39', 'v39'), tags=oset(['I39'])),\n",
       " Tensor(shape=(31, 31, 2), inds=('i39', 'i40', 'v40'), tags=oset(['I40'])),\n",
       " Tensor(shape=(31, 31, 2), inds=('i40', 'i41', 'v41'), tags=oset(['I41'])),\n",
       " Tensor(shape=(31, 31, 2), inds=('i41', 'i42', 'v42'), tags=oset(['I42'])),\n",
       " Tensor(shape=(31, 31, 2), inds=('i42', 'i43', 'v43'), tags=oset(['I43'])),\n",
       " Tensor(shape=(31, 31, 2), inds=('i43', 'i44', 'v44'), tags=oset(['I44'])),\n",
       " Tensor(shape=(31, 31, 2), inds=('i44', 'i45', 'v45'), tags=oset(['I45'])),\n",
       " Tensor(shape=(31, 31, 2), inds=('i45', 'i46', 'v46'), tags=oset(['I46'])),\n",
       " Tensor(shape=(31, 31, 2), inds=('i46', 'i47', 'v47'), tags=oset(['I47'])),\n",
       " Tensor(shape=(31, 31, 2), inds=('i47', 'i48', 'v48'), tags=oset(['I48'])),\n",
       " Tensor(shape=(31, 31, 2), inds=('i48', 'i49', 'v49'), tags=oset(['I49'])),\n",
       " Tensor(shape=(31, 31, 2), inds=('i49', 'i50', 'v50'), tags=oset(['I50'])),\n",
       " Tensor(shape=(31, 31, 2), inds=('i50', 'i51', 'v51'), tags=oset(['I51'])),\n",
       " Tensor(shape=(31, 31, 2), inds=('i51', 'i52', 'v52'), tags=oset(['I52'])),\n",
       " Tensor(shape=(31, 31, 2), inds=('i52', 'i53', 'v53'), tags=oset(['I53'])),\n",
       " Tensor(shape=(31, 31, 2), inds=('i53', 'i54', 'v54'), tags=oset(['I54'])),\n",
       " Tensor(shape=(31, 31, 2), inds=('i54', 'i55', 'v55'), tags=oset(['I55'])),\n",
       " Tensor(shape=(31, 31, 2), inds=('i55', 'i56', 'v56'), tags=oset(['I56'])),\n",
       " Tensor(shape=(31, 31, 2), inds=('i56', 'i57', 'v57'), tags=oset(['I57'])),\n",
       " Tensor(shape=(31, 31, 2), inds=('i57', 'i58', 'v58'), tags=oset(['I58'])),\n",
       " Tensor(shape=(31, 31, 2), inds=('i58', 'i59', 'v59'), tags=oset(['I59'])),\n",
       " Tensor(shape=(31, 31, 2), inds=('i59', 'i60', 'v60'), tags=oset(['I60'])),\n",
       " Tensor(shape=(31, 31, 2), inds=('i60', 'i61', 'v61'), tags=oset(['I61'])),\n",
       " Tensor(shape=(31, 31, 2), inds=('i61', 'i62', 'v62'), tags=oset(['I62'])),\n",
       " Tensor(shape=(31, 31, 2), inds=('i62', 'i63', 'v63'), tags=oset(['I63'])),\n",
       " Tensor(shape=(31, 31, 2), inds=('i63', 'i64', 'v64'), tags=oset(['I64'])),\n",
       " Tensor(shape=(31, 31, 2), inds=('i64', 'i65', 'v65'), tags=oset(['I65'])),\n",
       " Tensor(shape=(31, 31, 2), inds=('i65', 'i66', 'v66'), tags=oset(['I66'])),\n",
       " Tensor(shape=(31, 31, 2), inds=('i66', 'i67', 'v67'), tags=oset(['I67'])),\n",
       " Tensor(shape=(31, 31, 2), inds=('i67', 'i68', 'v68'), tags=oset(['I68'])),\n",
       " Tensor(shape=(31, 31, 2), inds=('i68', 'i69', 'v69'), tags=oset(['I69'])),\n",
       " Tensor(shape=(31, 31, 2), inds=('i69', 'i70', 'v70'), tags=oset(['I70'])),\n",
       " Tensor(shape=(31, 31, 2), inds=('i70', 'i71', 'v71'), tags=oset(['I71'])),\n",
       " Tensor(shape=(31, 31, 2), inds=('i71', 'i72', 'v72'), tags=oset(['I72'])),\n",
       " Tensor(shape=(31, 31, 2), inds=('i72', 'i73', 'v73'), tags=oset(['I73'])),\n",
       " Tensor(shape=(31, 31, 2), inds=('i73', 'i74', 'v74'), tags=oset(['I74'])),\n",
       " Tensor(shape=(31, 31, 2), inds=('i74', 'i75', 'v75'), tags=oset(['I75'])),\n",
       " Tensor(shape=(31, 31, 2), inds=('i75', 'i76', 'v76'), tags=oset(['I76'])),\n",
       " Tensor(shape=(31, 31, 2), inds=('i76', 'i77', 'v77'), tags=oset(['I77'])),\n",
       " Tensor(shape=(31, 31, 2), inds=('i77', 'i78', 'v78'), tags=oset(['I78'])),\n",
       " Tensor(shape=(31, 31, 2), inds=('i78', 'i79', 'v79'), tags=oset(['I79'])),\n",
       " Tensor(shape=(31, 31, 2), inds=('i79', 'i80', 'v80'), tags=oset(['I80'])),\n",
       " Tensor(shape=(31, 31, 2), inds=('i80', 'i81', 'v81'), tags=oset(['I81'])),\n",
       " Tensor(shape=(31, 31, 2), inds=('i81', 'i82', 'v82'), tags=oset(['I82'])),\n",
       " Tensor(shape=(31, 31, 2), inds=('i82', 'i83', 'v83'), tags=oset(['I83'])),\n",
       " Tensor(shape=(31, 31, 2), inds=('i83', 'i84', 'v84'), tags=oset(['I84'])),\n",
       " Tensor(shape=(31, 31, 2), inds=('i84', 'i85', 'v85'), tags=oset(['I85'])),\n",
       " Tensor(shape=(31, 31, 2), inds=('i85', 'i86', 'v86'), tags=oset(['I86'])),\n",
       " Tensor(shape=(31, 31, 2), inds=('i86', 'i87', 'v87'), tags=oset(['I87'])),\n",
       " Tensor(shape=(31, 31, 2), inds=('i87', 'i88', 'v88'), tags=oset(['I88'])),\n",
       " Tensor(shape=(31, 31, 2), inds=('i88', 'i89', 'v89'), tags=oset(['I89'])),\n",
       " Tensor(shape=(31, 31, 2), inds=('i89', 'i90', 'v90'), tags=oset(['I90'])),\n",
       " Tensor(shape=(31, 31, 2), inds=('i90', 'i91', 'v91'), tags=oset(['I91'])),\n",
       " Tensor(shape=(31, 31, 2), inds=('i91', 'i92', 'v92'), tags=oset(['I92'])),\n",
       " Tensor(shape=(31, 31, 2), inds=('i92', 'i93', 'v93'), tags=oset(['I93'])),\n",
       " Tensor(shape=(31, 31, 2), inds=('i93', 'i94', 'v94'), tags=oset(['I94'])),\n",
       " Tensor(shape=(31, 31, 2), inds=('i94', 'i95', 'v95'), tags=oset(['I95'])),\n",
       " Tensor(shape=(31, 31, 2), inds=('i95', 'i96', 'v96'), tags=oset(['I96'])),\n",
       " Tensor(shape=(31, 31, 2), inds=('i96', 'i97', 'v97'), tags=oset(['I97'])),\n",
       " Tensor(shape=(31, 31, 2), inds=('i97', 'i98', 'v98'), tags=oset(['I98'])),\n",
       " Tensor(shape=(31, 31, 2), inds=('i98', 'i99', 'v99'), tags=oset(['I99'])),\n",
       " Tensor(shape=(31, 31, 2), inds=('i99', 'i100', 'v100'), tags=oset(['I100'])),\n",
       " Tensor(shape=(31, 31, 2), inds=('i100', 'i101', 'v101'), tags=oset(['I101'])),\n",
       " Tensor(shape=(31, 31, 2), inds=('i101', 'i102', 'v102'), tags=oset(['I102'])),\n",
       " Tensor(shape=(31, 31, 2), inds=('i102', 'i103', 'v103'), tags=oset(['I103'])),\n",
       " Tensor(shape=(31, 31, 2), inds=('i103', 'i104', 'v104'), tags=oset(['I104'])),\n",
       " Tensor(shape=(31, 31, 2), inds=('i104', 'i105', 'v105'), tags=oset(['I105'])),\n",
       " Tensor(shape=(31, 31, 2), inds=('i105', 'i106', 'v106'), tags=oset(['I106'])),\n",
       " Tensor(shape=(31, 31, 2), inds=('i106', 'i107', 'v107'), tags=oset(['I107'])),\n",
       " Tensor(shape=(31, 31, 2), inds=('i107', 'i108', 'v108'), tags=oset(['I108'])),\n",
       " Tensor(shape=(31, 31, 2), inds=('i108', 'i109', 'v109'), tags=oset(['I109'])),\n",
       " Tensor(shape=(31, 31, 2), inds=('i109', 'i110', 'v110'), tags=oset(['I110'])),\n",
       " Tensor(shape=(31, 31, 2), inds=('i110', 'i111', 'v111'), tags=oset(['I111'])),\n",
       " Tensor(shape=(31, 31, 2), inds=('i111', 'i112', 'v112'), tags=oset(['I112'])),\n",
       " Tensor(shape=(31, 31, 2), inds=('i112', 'i113', 'v113'), tags=oset(['I113'])),\n",
       " Tensor(shape=(31, 31, 2), inds=('i113', 'i114', 'v114'), tags=oset(['I114'])),\n",
       " Tensor(shape=(31, 31, 2), inds=('i114', 'i115', 'v115'), tags=oset(['I115'])),\n",
       " Tensor(shape=(31, 31, 2), inds=('i115', 'i116', 'v116'), tags=oset(['I116'])),\n",
       " Tensor(shape=(31, 31, 2), inds=('i116', 'i117', 'v117'), tags=oset(['I117'])),\n",
       " Tensor(shape=(31, 31, 2), inds=('i117', 'i118', 'v118'), tags=oset(['I118'])),\n",
       " Tensor(shape=(31, 31, 2), inds=('i118', 'i119', 'v119'), tags=oset(['I119'])),\n",
       " Tensor(shape=(31, 31, 2), inds=('i119', 'i120', 'v120'), tags=oset(['I120'])),\n",
       " Tensor(shape=(31, 31, 2), inds=('i120', 'i121', 'v121'), tags=oset(['I121'])),\n",
       " Tensor(shape=(31, 31, 2), inds=('i121', 'i122', 'v122'), tags=oset(['I122'])),\n",
       " Tensor(shape=(31, 32, 2), inds=('i122', 'i123', 'v123'), tags=oset(['I123'])),\n",
       " Tensor(shape=(32, 32, 2), inds=('i123', 'i124', 'v124'), tags=oset(['I124'])),\n",
       " Tensor(shape=(32, 32, 2), inds=('i124', 'i125', 'v125'), tags=oset(['I125'])),\n",
       " Tensor(shape=(32, 32, 2), inds=('i125', 'i126', 'v126'), tags=oset(['I126'])),\n",
       " Tensor(shape=(32, 32, 2), inds=('i126', 'i127', 'v127'), tags=oset(['I127'])),\n",
       " Tensor(shape=(32, 32, 2), inds=('i127', 'i128', 'v128'), tags=oset(['I128'])),\n",
       " Tensor(shape=(32, 32, 2), inds=('i128', 'i129', 'v129'), tags=oset(['I129'])),\n",
       " Tensor(shape=(32, 32, 2), inds=('i129', 'i130', 'v130'), tags=oset(['I130'])),\n",
       " Tensor(shape=(32, 32, 2), inds=('i130', 'i131', 'v131'), tags=oset(['I131'])),\n",
       " Tensor(shape=(32, 32, 2), inds=('i131', 'i132', 'v132'), tags=oset(['I132'])),\n",
       " Tensor(shape=(32, 32, 2), inds=('i132', 'i133', 'v133'), tags=oset(['I133'])),\n",
       " Tensor(shape=(32, 32, 2), inds=('i133', 'i134', 'v134'), tags=oset(['I134'])),\n",
       " Tensor(shape=(32, 32, 2), inds=('i134', 'i135', 'v135'), tags=oset(['I135'])),\n",
       " Tensor(shape=(32, 32, 2), inds=('i135', 'i136', 'v136'), tags=oset(['I136'])),\n",
       " Tensor(shape=(32, 32, 2), inds=('i136', 'i137', 'v137'), tags=oset(['I137'])),\n",
       " Tensor(shape=(32, 32, 2), inds=('i137', 'i138', 'v138'), tags=oset(['I138'])),\n",
       " Tensor(shape=(32, 32, 2), inds=('i138', 'i139', 'v139'), tags=oset(['I139'])),\n",
       " Tensor(shape=(32, 32, 2), inds=('i139', 'i140', 'v140'), tags=oset(['I140'])),\n",
       " Tensor(shape=(32, 32, 2), inds=('i140', 'i141', 'v141'), tags=oset(['I141'])),\n",
       " Tensor(shape=(32, 32, 2), inds=('i141', 'i142', 'v142'), tags=oset(['I142'])),\n",
       " Tensor(shape=(32, 32, 2), inds=('i142', 'i143', 'v143'), tags=oset(['I143'])),\n",
       " Tensor(shape=(32, 32, 2), inds=('i143', 'i144', 'v144'), tags=oset(['I144'])),\n",
       " Tensor(shape=(32, 32, 2), inds=('i144', 'i145', 'v145'), tags=oset(['I145'])),\n",
       " Tensor(shape=(32, 32, 2), inds=('i145', 'i146', 'v146'), tags=oset(['I146'])),\n",
       " Tensor(shape=(32, 32, 2), inds=('i146', 'i147', 'v147'), tags=oset(['I147'])),\n",
       " Tensor(shape=(32, 32, 2), inds=('i147', 'i148', 'v148'), tags=oset(['I148'])),\n",
       " Tensor(shape=(32, 32, 2), inds=('i148', 'i149', 'v149'), tags=oset(['I149'])),\n",
       " Tensor(shape=(32, 32, 2), inds=('i149', 'i150', 'v150'), tags=oset(['I150'])),\n",
       " Tensor(shape=(32, 32, 2), inds=('i150', 'i151', 'v151'), tags=oset(['I151'])),\n",
       " Tensor(shape=(32, 32, 2), inds=('i151', 'i152', 'v152'), tags=oset(['I152'])),\n",
       " Tensor(shape=(32, 32, 2), inds=('i152', 'i153', 'v153'), tags=oset(['I153'])),\n",
       " Tensor(shape=(32, 32, 2), inds=('i153', 'i154', 'v154'), tags=oset(['I154'])),\n",
       " Tensor(shape=(32, 32, 2), inds=('i154', 'i155', 'v155'), tags=oset(['I155'])),\n",
       " Tensor(shape=(32, 32, 2), inds=('i155', 'i156', 'v156'), tags=oset(['I156'])),\n",
       " Tensor(shape=(32, 32, 2), inds=('i156', 'i157', 'v157'), tags=oset(['I157'])),\n",
       " Tensor(shape=(32, 32, 2), inds=('i157', 'i158', 'v158'), tags=oset(['I158'])),\n",
       " Tensor(shape=(32, 32, 2), inds=('i158', 'i159', 'v159'), tags=oset(['I159'])),\n",
       " Tensor(shape=(32, 32, 2), inds=('i159', 'i160', 'v160'), tags=oset(['I160'])),\n",
       " Tensor(shape=(32, 32, 2), inds=('i160', 'i161', 'v161'), tags=oset(['I161'])),\n",
       " Tensor(shape=(32, 32, 2), inds=('i161', 'i162', 'v162'), tags=oset(['I162'])),\n",
       " Tensor(shape=(32, 32, 2), inds=('i162', 'i163', 'v163'), tags=oset(['I163'])),\n",
       " Tensor(shape=(32, 32, 2), inds=('i163', 'i164', 'v164'), tags=oset(['I164'])),\n",
       " Tensor(shape=(32, 32, 2), inds=('i164', 'i165', 'v165'), tags=oset(['I165'])),\n",
       " Tensor(shape=(32, 32, 2), inds=('i165', 'i166', 'v166'), tags=oset(['I166'])),\n",
       " Tensor(shape=(32, 32, 2), inds=('i166', 'i167', 'v167'), tags=oset(['I167'])),\n",
       " Tensor(shape=(32, 32, 2), inds=('i167', 'i168', 'v168'), tags=oset(['I168'])),\n",
       " Tensor(shape=(32, 32, 2), inds=('i168', 'i169', 'v169'), tags=oset(['I169'])),\n",
       " Tensor(shape=(32, 32, 2), inds=('i169', 'i170', 'v170'), tags=oset(['I170'])),\n",
       " Tensor(shape=(32, 32, 2), inds=('i170', 'i171', 'v171'), tags=oset(['I171'])),\n",
       " Tensor(shape=(32, 32, 2), inds=('i171', 'i172', 'v172'), tags=oset(['I172'])),\n",
       " Tensor(shape=(32, 32, 2), inds=('i172', 'i173', 'v173'), tags=oset(['I173'])),\n",
       " Tensor(shape=(32, 32, 2), inds=('i173', 'i174', 'v174'), tags=oset(['I174'])),\n",
       " Tensor(shape=(32, 32, 2), inds=('i174', 'i175', 'v175'), tags=oset(['I175'])),\n",
       " Tensor(shape=(32, 32, 2), inds=('i175', 'i176', 'v176'), tags=oset(['I176'])),\n",
       " Tensor(shape=(32, 32, 2), inds=('i176', 'i177', 'v177'), tags=oset(['I177'])),\n",
       " Tensor(shape=(32, 32, 2), inds=('i177', 'i178', 'v178'), tags=oset(['I178'])),\n",
       " Tensor(shape=(32, 32, 2), inds=('i178', 'i179', 'v179'), tags=oset(['I179'])),\n",
       " Tensor(shape=(32, 32, 2), inds=('i179', 'i180', 'v180'), tags=oset(['I180'])),\n",
       " Tensor(shape=(32, 32, 2), inds=('i180', 'i181', 'v181'), tags=oset(['I181'])),\n",
       " Tensor(shape=(32, 32, 2), inds=('i181', 'i182', 'v182'), tags=oset(['I182'])),\n",
       " Tensor(shape=(32, 32, 2), inds=('i182', 'i183', 'v183'), tags=oset(['I183'])),\n",
       " Tensor(shape=(32, 32, 2), inds=('i183', 'i184', 'v184'), tags=oset(['I184'])),\n",
       " Tensor(shape=(32, 32, 2), inds=('i184', 'i185', 'v185'), tags=oset(['I185'])),\n",
       " Tensor(shape=(32, 32, 2), inds=('i185', 'i186', 'v186'), tags=oset(['I186'])),\n",
       " Tensor(shape=(32, 32, 2), inds=('i186', 'i187', 'v187'), tags=oset(['I187'])),\n",
       " Tensor(shape=(32, 32, 2), inds=('i187', 'i188', 'v188'), tags=oset(['I188'])),\n",
       " Tensor(shape=(32, 32, 2), inds=('i188', 'i189', 'v189'), tags=oset(['I189'])),\n",
       " Tensor(shape=(32, 32, 2), inds=('i189', 'i190', 'v190'), tags=oset(['I190'])),\n",
       " Tensor(shape=(32, 32, 2), inds=('i190', 'i191', 'v191'), tags=oset(['I191'])),\n",
       " Tensor(shape=(32, 32, 2), inds=('i191', 'i192', 'v192'), tags=oset(['I192'])),\n",
       " Tensor(shape=(32, 32, 2), inds=('i192', 'i193', 'v193'), tags=oset(['I193'])),\n",
       " Tensor(shape=(32, 32, 2), inds=('i193', 'i194', 'v194'), tags=oset(['I194'])),\n",
       " Tensor(shape=(32, 32, 2), inds=('i194', 'i195', 'v195'), tags=oset(['I195'])),\n",
       " Tensor(shape=(32, 32, 2), inds=('i195', 'i196', 'v196'), tags=oset(['I196'])),\n",
       " Tensor(shape=(32, 32, 2), inds=('i196', 'i197', 'v197'), tags=oset(['I197'])),\n",
       " Tensor(shape=(32, 32, 2), inds=('i197', 'i198', 'v198'), tags=oset(['I198'])),\n",
       " Tensor(shape=(32, 32, 2), inds=('i198', 'i199', 'v199'), tags=oset(['I199'])),\n",
       " Tensor(shape=(32, 32, 2), inds=('i199', 'i200', 'v200'), tags=oset(['I200'])),\n",
       " Tensor(shape=(32, 32, 2), inds=('i200', 'i201', 'v201'), tags=oset(['I201'])),\n",
       " Tensor(shape=(32, 32, 2), inds=('i201', 'i202', 'v202'), tags=oset(['I202'])),\n",
       " Tensor(shape=(32, 32, 2), inds=('i202', 'i203', 'v203'), tags=oset(['I203'])),\n",
       " Tensor(shape=(32, 32, 2), inds=('i203', 'i204', 'v204'), tags=oset(['I204'])),\n",
       " Tensor(shape=(32, 32, 2), inds=('i204', 'i205', 'v205'), tags=oset(['I205'])),\n",
       " Tensor(shape=(32, 32, 2), inds=('i205', 'i206', 'v206'), tags=oset(['I206'])),\n",
       " Tensor(shape=(32, 32, 2), inds=('i206', 'i207', 'v207'), tags=oset(['I207'])),\n",
       " Tensor(shape=(32, 32, 2), inds=('i207', 'i208', 'v208'), tags=oset(['I208'])),\n",
       " Tensor(shape=(32, 32, 2), inds=('i208', 'i209', 'v209'), tags=oset(['I209'])),\n",
       " Tensor(shape=(32, 32, 2), inds=('i209', 'i210', 'v210'), tags=oset(['I210'])),\n",
       " Tensor(shape=(32, 32, 2), inds=('i210', 'i211', 'v211'), tags=oset(['I211'])),\n",
       " Tensor(shape=(32, 32, 2), inds=('i211', 'i212', 'v212'), tags=oset(['I212'])),\n",
       " Tensor(shape=(32, 32, 2), inds=('i212', 'i213', 'v213'), tags=oset(['I213'])),\n",
       " Tensor(shape=(32, 32, 2), inds=('i213', 'i214', 'v214'), tags=oset(['I214'])),\n",
       " Tensor(shape=(32, 32, 2), inds=('i214', 'i215', 'v215'), tags=oset(['I215'])),\n",
       " Tensor(shape=(32, 32, 2), inds=('i215', 'i216', 'v216'), tags=oset(['I216'])),\n",
       " Tensor(shape=(32, 32, 2), inds=('i216', 'i217', 'v217'), tags=oset(['I217'])),\n",
       " Tensor(shape=(32, 32, 2), inds=('i217', 'i218', 'v218'), tags=oset(['I218'])),\n",
       " Tensor(shape=(32, 32, 2), inds=('i218', 'i219', 'v219'), tags=oset(['I219'])),\n",
       " Tensor(shape=(32, 32, 2), inds=('i219', 'i220', 'v220'), tags=oset(['I220'])),\n",
       " Tensor(shape=(32, 32, 2), inds=('i220', 'i221', 'v221'), tags=oset(['I221'])),\n",
       " Tensor(shape=(32, 32, 2), inds=('i221', 'i222', 'v222'), tags=oset(['I222'])),\n",
       " Tensor(shape=(32, 32, 2), inds=('i222', 'i223', 'v223'), tags=oset(['I223'])),\n",
       " Tensor(shape=(32, 32, 2), inds=('i223', 'i224', 'v224'), tags=oset(['I224'])),\n",
       " Tensor(shape=(32, 32, 2), inds=('i224', 'i225', 'v225'), tags=oset(['I225'])),\n",
       " Tensor(shape=(32, 32, 2), inds=('i225', 'i226', 'v226'), tags=oset(['I226'])),\n",
       " Tensor(shape=(32, 32, 2), inds=('i226', 'i227', 'v227'), tags=oset(['I227'])),\n",
       " Tensor(shape=(32, 32, 2), inds=('i227', 'i228', 'v228'), tags=oset(['I228'])),\n",
       " Tensor(shape=(32, 32, 2), inds=('i228', 'i229', 'v229'), tags=oset(['I229'])),\n",
       " Tensor(shape=(32, 32, 2), inds=('i229', 'i230', 'v230'), tags=oset(['I230'])),\n",
       " Tensor(shape=(32, 32, 2), inds=('i230', 'i231', 'v231'), tags=oset(['I231'])),\n",
       " Tensor(shape=(32, 32, 2), inds=('i231', 'i232', 'v232'), tags=oset(['I232'])),\n",
       " Tensor(shape=(32, 32, 2), inds=('i232', 'i233', 'v233'), tags=oset(['I233'])),\n",
       " Tensor(shape=(32, 32, 2), inds=('i233', 'i234', 'v234'), tags=oset(['I234'])),\n",
       " Tensor(shape=(32, 32, 2), inds=('i234', 'i235', 'v235'), tags=oset(['I235'])),\n",
       " Tensor(shape=(32, 32, 2), inds=('i235', 'i236', 'v236'), tags=oset(['I236'])),\n",
       " Tensor(shape=(32, 32, 2), inds=('i236', 'i237', 'v237'), tags=oset(['I237'])),\n",
       " Tensor(shape=(32, 32, 2), inds=('i237', 'i238', 'v238'), tags=oset(['I238'])),\n",
       " Tensor(shape=(32, 32, 2), inds=('i238', 'i239', 'v239'), tags=oset(['I239'])),\n",
       " Tensor(shape=(32, 32, 2), inds=('i239', 'i240', 'v240'), tags=oset(['I240'])),\n",
       " Tensor(shape=(32, 32, 2), inds=('i240', 'i241', 'v241'), tags=oset(['I241'])),\n",
       " Tensor(shape=(32, 32, 2), inds=('i241', 'i242', 'v242'), tags=oset(['I242'])),\n",
       " Tensor(shape=(32, 32, 2), inds=('i242', 'i243', 'v243'), tags=oset(['I243'])),\n",
       " Tensor(shape=(32, 32, 2), inds=('i243', 'i244', 'v244'), tags=oset(['I244'])),\n",
       " Tensor(shape=(32, 32, 2), inds=('i244', 'i245', 'v245'), tags=oset(['I245'])),\n",
       " Tensor(shape=(32, 32, 2), inds=('i245', 'i246', 'v246'), tags=oset(['I246'])),\n",
       " Tensor(shape=(32, 32, 2), inds=('i246', 'i247', 'v247'), tags=oset(['I247'])),\n",
       " Tensor(shape=(32, 32, 2), inds=('i247', 'i248', 'v248'), tags=oset(['I248'])),\n",
       " Tensor(shape=(32, 32, 2), inds=('i248', 'i249', 'v249'), tags=oset(['I249'])),\n",
       " Tensor(shape=(32, 32, 2), inds=('i249', 'i250', 'v250'), tags=oset(['I250'])),\n",
       " Tensor(shape=(32, 32, 2), inds=('i250', 'i251', 'v251'), tags=oset(['I251'])),\n",
       " Tensor(shape=(32, 32, 2), inds=('i251', 'i252', 'v252'), tags=oset(['I252'])),\n",
       " Tensor(shape=(32, 32, 2), inds=('i252', 'i253', 'v253'), tags=oset(['I253'])),\n",
       " Tensor(shape=(32, 32, 2), inds=('i253', 'i254', 'v254'), tags=oset(['I254'])),\n",
       " Tensor(shape=(32, 32, 2), inds=('i254', 'i255', 'v255'), tags=oset(['I255'])),\n",
       " Tensor(shape=(32, 32, 2), inds=('i255', 'i256', 'v256'), tags=oset(['I256'])),\n",
       " Tensor(shape=(32, 32, 2), inds=('i256', 'i257', 'v257'), tags=oset(['I257'])),\n",
       " Tensor(shape=(32, 32, 2), inds=('i257', 'i258', 'v258'), tags=oset(['I258'])),\n",
       " Tensor(shape=(32, 32, 2), inds=('i258', 'i259', 'v259'), tags=oset(['I259'])),\n",
       " Tensor(shape=(32, 32, 2), inds=('i259', 'i260', 'v260'), tags=oset(['I260'])),\n",
       " Tensor(shape=(32, 32, 2), inds=('i260', 'i261', 'v261'), tags=oset(['I261'])),\n",
       " Tensor(shape=(32, 32, 2), inds=('i261', 'i262', 'v262'), tags=oset(['I262'])),\n",
       " Tensor(shape=(32, 32, 2), inds=('i262', 'i263', 'v263'), tags=oset(['I263'])),\n",
       " Tensor(shape=(32, 32, 2), inds=('i263', 'i264', 'v264'), tags=oset(['I264'])),\n",
       " Tensor(shape=(32, 32, 2), inds=('i264', 'i265', 'v265'), tags=oset(['I265'])),\n",
       " Tensor(shape=(32, 32, 2), inds=('i265', 'i266', 'v266'), tags=oset(['I266'])),\n",
       " Tensor(shape=(32, 32, 2), inds=('i266', 'i267', 'v267'), tags=oset(['I267'])),\n",
       " Tensor(shape=(32, 32, 2), inds=('i267', 'i268', 'v268'), tags=oset(['I268'])),\n",
       " Tensor(shape=(32, 32, 2), inds=('i268', 'i269', 'v269'), tags=oset(['I269'])),\n",
       " Tensor(shape=(32, 32, 2), inds=('i269', 'i270', 'v270'), tags=oset(['I270'])),\n",
       " Tensor(shape=(32, 32, 2), inds=('i270', 'i271', 'v271'), tags=oset(['I271'])),\n",
       " Tensor(shape=(32, 32, 2), inds=('i271', 'i272', 'v272'), tags=oset(['I272'])),\n",
       " Tensor(shape=(32, 32, 2), inds=('i272', 'i273', 'v273'), tags=oset(['I273'])),\n",
       " Tensor(shape=(32, 32, 2), inds=('i273', 'i274', 'v274'), tags=oset(['I274'])),\n",
       " Tensor(shape=(32, 32, 2), inds=('i274', 'i275', 'v275'), tags=oset(['I275'])),\n",
       " Tensor(shape=(32, 32, 2), inds=('i275', 'i276', 'v276'), tags=oset(['I276'])),\n",
       " Tensor(shape=(32, 32, 2), inds=('i276', 'i277', 'v277'), tags=oset(['I277'])),\n",
       " Tensor(shape=(32, 32, 2), inds=('i277', 'i278', 'v278'), tags=oset(['I278'])),\n",
       " Tensor(shape=(32, 32, 2), inds=('i278', 'i279', 'v279'), tags=oset(['I279'])),\n",
       " Tensor(shape=(32, 32, 2), inds=('i279', 'i280', 'v280'), tags=oset(['I280'])),\n",
       " Tensor(shape=(32, 32, 2), inds=('i280', 'i281', 'v281'), tags=oset(['I281'])),\n",
       " Tensor(shape=(32, 32, 2), inds=('i281', 'i282', 'v282'), tags=oset(['I282'])),\n",
       " Tensor(shape=(32, 32, 2), inds=('i282', 'i283', 'v283'), tags=oset(['I283'])),\n",
       " Tensor(shape=(32, 32, 2), inds=('i283', 'i284', 'v284'), tags=oset(['I284'])),\n",
       " Tensor(shape=(32, 32, 2), inds=('i284', 'i285', 'v285'), tags=oset(['I285'])),\n",
       " Tensor(shape=(32, 32, 2), inds=('i285', 'i286', 'v286'), tags=oset(['I286'])),\n",
       " Tensor(shape=(32, 32, 2), inds=('i286', 'i287', 'v287'), tags=oset(['I287'])),\n",
       " Tensor(shape=(32, 32, 2), inds=('i287', 'i288', 'v288'), tags=oset(['I288'])),\n",
       " Tensor(shape=(32, 32, 2), inds=('i288', 'i289', 'v289'), tags=oset(['I289'])),\n",
       " Tensor(shape=(32, 32, 2), inds=('i289', 'i290', 'v290'), tags=oset(['I290'])),\n",
       " Tensor(shape=(32, 32, 2), inds=('i290', 'i291', 'v291'), tags=oset(['I291'])),\n",
       " Tensor(shape=(32, 32, 2), inds=('i291', 'i292', 'v292'), tags=oset(['I292'])),\n",
       " Tensor(shape=(32, 32, 2), inds=('i292', 'i293', 'v293'), tags=oset(['I293'])),\n",
       " Tensor(shape=(32, 32, 2), inds=('i293', 'i294', 'v294'), tags=oset(['I294'])),\n",
       " Tensor(shape=(32, 32, 2), inds=('i294', 'i295', 'v295'), tags=oset(['I295'])),\n",
       " Tensor(shape=(32, 32, 2), inds=('i295', 'i296', 'v296'), tags=oset(['I296'])),\n",
       " Tensor(shape=(32, 32, 2), inds=('i296', 'i297', 'v297'), tags=oset(['I297'])),\n",
       " Tensor(shape=(32, 32, 2), inds=('i297', 'i298', 'v298'), tags=oset(['I298'])),\n",
       " Tensor(shape=(32, 32, 2), inds=('i298', 'i299', 'v299'), tags=oset(['I299'])),\n",
       " Tensor(shape=(32, 32, 2), inds=('i299', 'i300', 'v300'), tags=oset(['I300'])),\n",
       " Tensor(shape=(32, 32, 2), inds=('i300', 'i301', 'v301'), tags=oset(['I301'])),\n",
       " Tensor(shape=(32, 32, 2), inds=('i301', 'i302', 'v302'), tags=oset(['I302'])),\n",
       " Tensor(shape=(32, 32, 2), inds=('i302', 'i303', 'v303'), tags=oset(['I303'])),\n",
       " Tensor(shape=(32, 32, 2), inds=('i303', 'i304', 'v304'), tags=oset(['I304'])),\n",
       " Tensor(shape=(32, 32, 2), inds=('i304', 'i305', 'v305'), tags=oset(['I305'])),\n",
       " Tensor(shape=(32, 32, 2), inds=('i305', 'i306', 'v306'), tags=oset(['I306'])),\n",
       " Tensor(shape=(32, 32, 2), inds=('i306', 'i307', 'v307'), tags=oset(['I307'])),\n",
       " Tensor(shape=(32, 32, 2), inds=('i307', 'i308', 'v308'), tags=oset(['I308'])),\n",
       " Tensor(shape=(32, 32, 2), inds=('i308', 'i309', 'v309'), tags=oset(['I309'])),\n",
       " Tensor(shape=(32, 32, 2), inds=('i309', 'i310', 'v310'), tags=oset(['I310'])),\n",
       " Tensor(shape=(32, 32, 2), inds=('i310', 'i311', 'v311'), tags=oset(['I311'])),\n",
       " Tensor(shape=(32, 32, 2), inds=('i311', 'i312', 'v312'), tags=oset(['I312'])),\n",
       " Tensor(shape=(32, 32, 2), inds=('i312', 'i313', 'v313'), tags=oset(['I313'])),\n",
       " Tensor(shape=(32, 32, 2), inds=('i313', 'i314', 'v314'), tags=oset(['I314'])),\n",
       " Tensor(shape=(32, 32, 2), inds=('i314', 'i315', 'v315'), tags=oset(['I315'])),\n",
       " Tensor(shape=(32, 32, 2), inds=('i315', 'i316', 'v316'), tags=oset(['I316'])),\n",
       " Tensor(shape=(32, 32, 2), inds=('i316', 'i317', 'v317'), tags=oset(['I317'])),\n",
       " Tensor(shape=(32, 32, 2), inds=('i317', 'i318', 'v318'), tags=oset(['I318'])),\n",
       " Tensor(shape=(32, 32, 2), inds=('i318', 'i319', 'v319'), tags=oset(['I319'])),\n",
       " Tensor(shape=(32, 32, 2), inds=('i319', 'i320', 'v320'), tags=oset(['I320'])),\n",
       " Tensor(shape=(32, 32, 2), inds=('i320', 'i321', 'v321'), tags=oset(['I321'])),\n",
       " Tensor(shape=(32, 32, 2), inds=('i321', 'i322', 'v322'), tags=oset(['I322'])),\n",
       " Tensor(shape=(32, 32, 2), inds=('i322', 'i323', 'v323'), tags=oset(['I323'])),\n",
       " Tensor(shape=(32, 32, 2), inds=('i323', 'i324', 'v324'), tags=oset(['I324'])),\n",
       " Tensor(shape=(32, 32, 2), inds=('i324', 'i325', 'v325'), tags=oset(['I325'])),\n",
       " Tensor(shape=(32, 32, 2), inds=('i325', 'i326', 'v326'), tags=oset(['I326'])),\n",
       " Tensor(shape=(32, 32, 2), inds=('i326', 'i327', 'v327'), tags=oset(['I327'])),\n",
       " Tensor(shape=(32, 32, 2), inds=('i327', 'i328', 'v328'), tags=oset(['I328'])),\n",
       " Tensor(shape=(32, 32, 2), inds=('i328', 'i329', 'v329'), tags=oset(['I329'])),\n",
       " Tensor(shape=(32, 32, 2), inds=('i329', 'i330', 'v330'), tags=oset(['I330'])),\n",
       " Tensor(shape=(32, 32, 2), inds=('i330', 'i331', 'v331'), tags=oset(['I331'])),\n",
       " Tensor(shape=(32, 32, 2), inds=('i331', 'i332', 'v332'), tags=oset(['I332'])),\n",
       " Tensor(shape=(32, 32, 2), inds=('i332', 'i333', 'v333'), tags=oset(['I333'])),\n",
       " Tensor(shape=(32, 32, 2), inds=('i333', 'i334', 'v334'), tags=oset(['I334'])),\n",
       " Tensor(shape=(32, 32, 2), inds=('i334', 'i335', 'v335'), tags=oset(['I335'])),\n",
       " Tensor(shape=(32, 32, 2), inds=('i335', 'i336', 'v336'), tags=oset(['I336'])),\n",
       " Tensor(shape=(32, 32, 2), inds=('i336', 'i337', 'v337'), tags=oset(['I337'])),\n",
       " Tensor(shape=(32, 32, 2), inds=('i337', 'i338', 'v338'), tags=oset(['I338'])),\n",
       " Tensor(shape=(32, 32, 2), inds=('i338', 'i339', 'v339'), tags=oset(['I339'])),\n",
       " Tensor(shape=(32, 32, 2), inds=('i339', 'i340', 'v340'), tags=oset(['I340'])),\n",
       " Tensor(shape=(32, 32, 2), inds=('i340', 'i341', 'v341'), tags=oset(['I341'])),\n",
       " Tensor(shape=(32, 32, 2), inds=('i341', 'i342', 'v342'), tags=oset(['I342'])),\n",
       " Tensor(shape=(32, 32, 2), inds=('i342', 'i343', 'v343'), tags=oset(['I343'])),\n",
       " Tensor(shape=(32, 32, 2), inds=('i343', 'i344', 'v344'), tags=oset(['I344'])),\n",
       " Tensor(shape=(32, 32, 2), inds=('i344', 'i345', 'v345'), tags=oset(['I345'])),\n",
       " Tensor(shape=(32, 32, 2), inds=('i345', 'i346', 'v346'), tags=oset(['I346'])),\n",
       " Tensor(shape=(32, 32, 2), inds=('i346', 'i347', 'v347'), tags=oset(['I347'])),\n",
       " Tensor(shape=(32, 32, 2), inds=('i347', 'i348', 'v348'), tags=oset(['I348'])),\n",
       " Tensor(shape=(32, 32, 2), inds=('i348', 'i349', 'v349'), tags=oset(['I349'])),\n",
       " Tensor(shape=(32, 32, 2), inds=('i349', 'i350', 'v350'), tags=oset(['I350'])),\n",
       " Tensor(shape=(32, 32, 2), inds=('i350', 'i351', 'v351'), tags=oset(['I351'])),\n",
       " Tensor(shape=(32, 32, 2), inds=('i351', 'i352', 'v352'), tags=oset(['I352'])),\n",
       " Tensor(shape=(32, 32, 2), inds=('i352', 'i353', 'v353'), tags=oset(['I353'])),\n",
       " Tensor(shape=(32, 32, 2), inds=('i353', 'i354', 'v354'), tags=oset(['I354'])),\n",
       " Tensor(shape=(32, 32, 2), inds=('i354', 'i355', 'v355'), tags=oset(['I355'])),\n",
       " Tensor(shape=(32, 32, 2), inds=('i355', 'i356', 'v356'), tags=oset(['I356'])),\n",
       " Tensor(shape=(32, 32, 2), inds=('i356', 'i357', 'v357'), tags=oset(['I357'])),\n",
       " Tensor(shape=(32, 32, 2), inds=('i357', 'i358', 'v358'), tags=oset(['I358'])),\n",
       " Tensor(shape=(32, 32, 2), inds=('i358', 'i359', 'v359'), tags=oset(['I359'])),\n",
       " Tensor(shape=(32, 32, 2), inds=('i359', 'i360', 'v360'), tags=oset(['I360'])),\n",
       " Tensor(shape=(32, 32, 2), inds=('i360', 'i361', 'v361'), tags=oset(['I361'])),\n",
       " Tensor(shape=(32, 32, 2), inds=('i361', 'i362', 'v362'), tags=oset(['I362'])),\n",
       " Tensor(shape=(32, 32, 2), inds=('i362', 'i363', 'v363'), tags=oset(['I363'])),\n",
       " Tensor(shape=(32, 32, 2), inds=('i363', 'i364', 'v364'), tags=oset(['I364'])),\n",
       " Tensor(shape=(32, 32, 2), inds=('i364', 'i365', 'v365'), tags=oset(['I365'])),\n",
       " Tensor(shape=(32, 32, 2), inds=('i365', 'i366', 'v366'), tags=oset(['I366'])),\n",
       " Tensor(shape=(32, 32, 2), inds=('i366', 'i367', 'v367'), tags=oset(['I367'])),\n",
       " Tensor(shape=(32, 32, 2), inds=('i367', 'i368', 'v368'), tags=oset(['I368'])),\n",
       " Tensor(shape=(32, 32, 2), inds=('i368', 'i369', 'v369'), tags=oset(['I369'])),\n",
       " Tensor(shape=(32, 32, 2), inds=('i369', 'i370', 'v370'), tags=oset(['I370'])),\n",
       " Tensor(shape=(32, 32, 2), inds=('i370', 'i371', 'v371'), tags=oset(['I371'])),\n",
       " Tensor(shape=(32, 32, 2), inds=('i371', 'i372', 'v372'), tags=oset(['I372'])),\n",
       " Tensor(shape=(32, 32, 2), inds=('i372', 'i373', 'v373'), tags=oset(['I373'])),\n",
       " Tensor(shape=(32, 32, 2), inds=('i373', 'i374', 'v374'), tags=oset(['I374'])),\n",
       " Tensor(shape=(32, 32, 2), inds=('i374', 'i375', 'v375'), tags=oset(['I375'])),\n",
       " Tensor(shape=(32, 32, 2), inds=('i375', 'i376', 'v376'), tags=oset(['I376'])),\n",
       " Tensor(shape=(32, 32, 2), inds=('i376', 'i377', 'v377'), tags=oset(['I377'])),\n",
       " Tensor(shape=(32, 32, 2), inds=('i377', 'i378', 'v378'), tags=oset(['I378'])),\n",
       " Tensor(shape=(32, 32, 2), inds=('i378', 'i379', 'v379'), tags=oset(['I379'])),\n",
       " Tensor(shape=(32, 32, 2), inds=('i379', 'i380', 'v380'), tags=oset(['I380'])),\n",
       " Tensor(shape=(32, 32, 2), inds=('i380', 'i381', 'v381'), tags=oset(['I381'])),\n",
       " Tensor(shape=(32, 32, 2), inds=('i381', 'i382', 'v382'), tags=oset(['I382'])),\n",
       " Tensor(shape=(32, 32, 2), inds=('i382', 'i383', 'v383'), tags=oset(['I383'])),\n",
       " Tensor(shape=(32, 32, 2), inds=('i383', 'i384', 'v384'), tags=oset(['I384'])),\n",
       " Tensor(shape=(32, 32, 2), inds=('i384', 'i385', 'v385'), tags=oset(['I385'])),\n",
       " Tensor(shape=(32, 32, 2), inds=('i385', 'i386', 'v386'), tags=oset(['I386'])),\n",
       " Tensor(shape=(32, 32, 2), inds=('i386', 'i387', 'v387'), tags=oset(['I387'])),\n",
       " Tensor(shape=(32, 32, 2), inds=('i387', 'i388', 'v388'), tags=oset(['I388'])),\n",
       " Tensor(shape=(32, 32, 2), inds=('i388', 'i389', 'v389'), tags=oset(['I389'])),\n",
       " Tensor(shape=(32, 32, 2), inds=('i389', 'i390', 'v390'), tags=oset(['I390'])),\n",
       " Tensor(shape=(32, 32, 2), inds=('i390', 'i391', 'v391'), tags=oset(['I391'])),\n",
       " Tensor(shape=(32, 32, 2), inds=('i391', 'i392', 'v392'), tags=oset(['I392'])),\n",
       " Tensor(shape=(32, 32, 2), inds=('i392', 'i393', 'v393'), tags=oset(['I393'])),\n",
       " Tensor(shape=(32, 32, 2), inds=('i393', 'i394', 'v394'), tags=oset(['I394'])),\n",
       " Tensor(shape=(32, 32, 2), inds=('i394', 'i395', 'v395'), tags=oset(['I395'])),\n",
       " Tensor(shape=(32, 32, 2), inds=('i395', 'i396', 'v396'), tags=oset(['I396'])),\n",
       " Tensor(shape=(32, 32, 2), inds=('i396', 'i397', 'v397'), tags=oset(['I397'])),\n",
       " Tensor(shape=(32, 32, 2), inds=('i397', 'i398', 'v398'), tags=oset(['I398'])),\n",
       " Tensor(shape=(32, 32, 2), inds=('i398', 'i399', 'v399'), tags=oset(['I399'])),\n",
       " Tensor(shape=(32, 32, 2), inds=('i399', 'i400', 'v400'), tags=oset(['I400'])),\n",
       " Tensor(shape=(32, 32, 2), inds=('i400', 'i401', 'v401'), tags=oset(['I401'])),\n",
       " Tensor(shape=(32, 32, 2), inds=('i401', 'i402', 'v402'), tags=oset(['I402'])),\n",
       " Tensor(shape=(32, 32, 2), inds=('i402', 'i403', 'v403'), tags=oset(['I403'])),\n",
       " Tensor(shape=(32, 32, 2), inds=('i403', 'i404', 'v404'), tags=oset(['I404'])),\n",
       " Tensor(shape=(32, 32, 2), inds=('i404', 'i405', 'v405'), tags=oset(['I405'])),\n",
       " Tensor(shape=(32, 32, 2), inds=('i405', 'i406', 'v406'), tags=oset(['I406'])),\n",
       " Tensor(shape=(32, 32, 2), inds=('i406', 'i407', 'v407'), tags=oset(['I407'])),\n",
       " Tensor(shape=(32, 32, 2), inds=('i407', 'i408', 'v408'), tags=oset(['I408'])),\n",
       " Tensor(shape=(32, 32, 2), inds=('i408', 'i409', 'v409'), tags=oset(['I409'])),\n",
       " Tensor(shape=(32, 32, 2), inds=('i409', 'i410', 'v410'), tags=oset(['I410'])),\n",
       " Tensor(shape=(32, 32, 2), inds=('i410', 'i411', 'v411'), tags=oset(['I411'])),\n",
       " Tensor(shape=(32, 32, 2), inds=('i411', 'i412', 'v412'), tags=oset(['I412'])),\n",
       " Tensor(shape=(32, 32, 2), inds=('i412', 'i413', 'v413'), tags=oset(['I413'])),\n",
       " Tensor(shape=(32, 32, 2), inds=('i413', 'i414', 'v414'), tags=oset(['I414'])),\n",
       " Tensor(shape=(32, 32, 2), inds=('i414', 'i415', 'v415'), tags=oset(['I415'])),\n",
       " Tensor(shape=(32, 32, 2), inds=('i415', 'i416', 'v416'), tags=oset(['I416'])),\n",
       " Tensor(shape=(32, 32, 2), inds=('i416', 'i417', 'v417'), tags=oset(['I417'])),\n",
       " Tensor(shape=(32, 32, 2), inds=('i417', 'i418', 'v418'), tags=oset(['I418'])),\n",
       " Tensor(shape=(32, 32, 2), inds=('i418', 'i419', 'v419'), tags=oset(['I419'])),\n",
       " Tensor(shape=(32, 32, 2), inds=('i419', 'i420', 'v420'), tags=oset(['I420'])),\n",
       " Tensor(shape=(32, 32, 2), inds=('i420', 'i421', 'v421'), tags=oset(['I421'])),\n",
       " Tensor(shape=(32, 32, 2), inds=('i421', 'i422', 'v422'), tags=oset(['I422'])),\n",
       " Tensor(shape=(32, 32, 2), inds=('i422', 'i423', 'v423'), tags=oset(['I423'])),\n",
       " Tensor(shape=(32, 32, 2), inds=('i423', 'i424', 'v424'), tags=oset(['I424'])),\n",
       " Tensor(shape=(32, 32, 2), inds=('i424', 'i425', 'v425'), tags=oset(['I425'])),\n",
       " Tensor(shape=(32, 32, 2), inds=('i425', 'i426', 'v426'), tags=oset(['I426'])),\n",
       " Tensor(shape=(32, 32, 2), inds=('i426', 'i427', 'v427'), tags=oset(['I427'])),\n",
       " Tensor(shape=(32, 32, 2), inds=('i427', 'i428', 'v428'), tags=oset(['I428'])),\n",
       " Tensor(shape=(32, 32, 2), inds=('i428', 'i429', 'v429'), tags=oset(['I429'])),\n",
       " Tensor(shape=(32, 32, 2), inds=('i429', 'i430', 'v430'), tags=oset(['I430'])),\n",
       " Tensor(shape=(32, 32, 2), inds=('i430', 'i431', 'v431'), tags=oset(['I431'])),\n",
       " Tensor(shape=(32, 32, 2), inds=('i431', 'i432', 'v432'), tags=oset(['I432'])),\n",
       " Tensor(shape=(32, 32, 2), inds=('i432', 'i433', 'v433'), tags=oset(['I433'])),\n",
       " Tensor(shape=(32, 32, 2), inds=('i433', 'i434', 'v434'), tags=oset(['I434'])),\n",
       " Tensor(shape=(32, 32, 2), inds=('i434', 'i435', 'v435'), tags=oset(['I435'])),\n",
       " Tensor(shape=(32, 32, 2), inds=('i435', 'i436', 'v436'), tags=oset(['I436'])),\n",
       " Tensor(shape=(32, 32, 2), inds=('i436', 'i437', 'v437'), tags=oset(['I437'])),\n",
       " Tensor(shape=(32, 32, 2), inds=('i437', 'i438', 'v438'), tags=oset(['I438'])),\n",
       " Tensor(shape=(32, 32, 2), inds=('i438', 'i439', 'v439'), tags=oset(['I439'])),\n",
       " Tensor(shape=(32, 32, 2), inds=('i439', 'i440', 'v440'), tags=oset(['I440'])),\n",
       " Tensor(shape=(32, 32, 2), inds=('i440', 'i441', 'v441'), tags=oset(['I441'])),\n",
       " Tensor(shape=(32, 32, 2), inds=('i441', 'i442', 'v442'), tags=oset(['I442'])),\n",
       " Tensor(shape=(32, 32, 2), inds=('i442', 'i443', 'v443'), tags=oset(['I443'])),\n",
       " Tensor(shape=(32, 32, 2), inds=('i443', 'i444', 'v444'), tags=oset(['I444'])),\n",
       " Tensor(shape=(32, 32, 2), inds=('i444', 'i445', 'v445'), tags=oset(['I445'])),\n",
       " Tensor(shape=(32, 32, 2), inds=('i445', 'i446', 'v446'), tags=oset(['I446'])),\n",
       " Tensor(shape=(32, 32, 2), inds=('i446', 'i447', 'v447'), tags=oset(['I447'])),\n",
       " Tensor(shape=(32, 32, 2), inds=('i447', 'i448', 'v448'), tags=oset(['I448'])),\n",
       " Tensor(shape=(32, 32, 2), inds=('i448', 'i449', 'v449'), tags=oset(['I449'])),\n",
       " Tensor(shape=(32, 32, 2), inds=('i449', 'i450', 'v450'), tags=oset(['I450'])),\n",
       " Tensor(shape=(32, 32, 2), inds=('i450', 'i451', 'v451'), tags=oset(['I451'])),\n",
       " Tensor(shape=(32, 32, 2), inds=('i451', 'i452', 'v452'), tags=oset(['I452'])),\n",
       " Tensor(shape=(32, 32, 2), inds=('i452', 'i453', 'v453'), tags=oset(['I453'])),\n",
       " Tensor(shape=(32, 32, 2), inds=('i453', 'i454', 'v454'), tags=oset(['I454'])),\n",
       " Tensor(shape=(32, 32, 2), inds=('i454', 'i455', 'v455'), tags=oset(['I455'])),\n",
       " Tensor(shape=(32, 32, 2), inds=('i455', 'i456', 'v456'), tags=oset(['I456'])),\n",
       " Tensor(shape=(32, 32, 2), inds=('i456', 'i457', 'v457'), tags=oset(['I457'])),\n",
       " Tensor(shape=(32, 32, 2), inds=('i457', 'i458', 'v458'), tags=oset(['I458'])),\n",
       " Tensor(shape=(32, 32, 2), inds=('i458', 'i459', 'v459'), tags=oset(['I459'])),\n",
       " Tensor(shape=(32, 32, 2), inds=('i459', 'i460', 'v460'), tags=oset(['I460'])),\n",
       " Tensor(shape=(32, 32, 2), inds=('i460', 'i461', 'v461'), tags=oset(['I461'])),\n",
       " Tensor(shape=(32, 32, 2), inds=('i461', 'i462', 'v462'), tags=oset(['I462'])),\n",
       " Tensor(shape=(32, 32, 2), inds=('i462', 'i463', 'v463'), tags=oset(['I463'])),\n",
       " Tensor(shape=(32, 32, 2), inds=('i463', 'i464', 'v464'), tags=oset(['I464'])),\n",
       " Tensor(shape=(32, 32, 2), inds=('i464', 'i465', 'v465'), tags=oset(['I465'])),\n",
       " Tensor(shape=(32, 32, 2), inds=('i465', 'i466', 'v466'), tags=oset(['I466'])),\n",
       " Tensor(shape=(32, 32, 2), inds=('i466', 'i467', 'v467'), tags=oset(['I467'])),\n",
       " Tensor(shape=(32, 32, 2), inds=('i467', 'i468', 'v468'), tags=oset(['I468'])),\n",
       " Tensor(shape=(32, 32, 2), inds=('i468', 'i469', 'v469'), tags=oset(['I469'])),\n",
       " Tensor(shape=(32, 32, 2), inds=('i469', 'i470', 'v470'), tags=oset(['I470'])),\n",
       " Tensor(shape=(32, 32, 2), inds=('i470', 'i471', 'v471'), tags=oset(['I471'])),\n",
       " Tensor(shape=(32, 32, 2), inds=('i471', 'i472', 'v472'), tags=oset(['I472'])),\n",
       " Tensor(shape=(32, 32, 2), inds=('i472', 'i473', 'v473'), tags=oset(['I473'])),\n",
       " Tensor(shape=(32, 32, 2), inds=('i473', 'i474', 'v474'), tags=oset(['I474'])),\n",
       " Tensor(shape=(32, 32, 2), inds=('i474', 'i475', 'v475'), tags=oset(['I475'])),\n",
       " Tensor(shape=(32, 32, 2), inds=('i475', 'i476', 'v476'), tags=oset(['I476'])),\n",
       " Tensor(shape=(32, 32, 2), inds=('i476', 'i477', 'v477'), tags=oset(['I477'])),\n",
       " Tensor(shape=(32, 32, 2), inds=('i477', 'i478', 'v478'), tags=oset(['I478'])),\n",
       " Tensor(shape=(32, 32, 2), inds=('i478', 'i479', 'v479'), tags=oset(['I479'])),\n",
       " Tensor(shape=(32, 32, 2), inds=('i479', 'i480', 'v480'), tags=oset(['I480'])),\n",
       " Tensor(shape=(32, 32, 2), inds=('i480', 'i481', 'v481'), tags=oset(['I481'])),\n",
       " Tensor(shape=(32, 32, 2), inds=('i481', 'i482', 'v482'), tags=oset(['I482'])),\n",
       " Tensor(shape=(32, 32, 2), inds=('i482', 'i483', 'v483'), tags=oset(['I483'])),\n",
       " Tensor(shape=(32, 32, 2), inds=('i483', 'i484', 'v484'), tags=oset(['I484'])),\n",
       " Tensor(shape=(32, 32, 2), inds=('i484', 'i485', 'v485'), tags=oset(['I485'])),\n",
       " Tensor(shape=(32, 32, 2), inds=('i485', 'i486', 'v486'), tags=oset(['I486'])),\n",
       " Tensor(shape=(32, 32, 2), inds=('i486', 'i487', 'v487'), tags=oset(['I487'])),\n",
       " Tensor(shape=(32, 32, 2), inds=('i487', 'i488', 'v488'), tags=oset(['I488'])),\n",
       " Tensor(shape=(32, 32, 2), inds=('i488', 'i489', 'v489'), tags=oset(['I489'])),\n",
       " Tensor(shape=(32, 32, 2), inds=('i489', 'i490', 'v490'), tags=oset(['I490'])),\n",
       " Tensor(shape=(32, 32, 2), inds=('i490', 'i491', 'v491'), tags=oset(['I491'])),\n",
       " Tensor(shape=(32, 32, 2), inds=('i491', 'i492', 'v492'), tags=oset(['I492'])),\n",
       " Tensor(shape=(32, 32, 2), inds=('i492', 'i493', 'v493'), tags=oset(['I493'])),\n",
       " Tensor(shape=(32, 32, 2), inds=('i493', 'i494', 'v494'), tags=oset(['I494'])),\n",
       " Tensor(shape=(32, 32, 2), inds=('i494', 'i495', 'v495'), tags=oset(['I495'])),\n",
       " Tensor(shape=(32, 32, 2), inds=('i495', 'i496', 'v496'), tags=oset(['I496'])),\n",
       " Tensor(shape=(32, 32, 2), inds=('i496', 'i497', 'v497'), tags=oset(['I497'])),\n",
       " Tensor(shape=(32, 32, 2), inds=('i497', 'i498', 'v498'), tags=oset(['I498'])),\n",
       " Tensor(shape=(32, 32, 2), inds=('i498', 'i499', 'v499'), tags=oset(['I499'])),\n",
       " Tensor(shape=(32, 32, 2), inds=('i499', 'i500', 'v500'), tags=oset(['I500'])),\n",
       " Tensor(shape=(32, 32, 2), inds=('i500', 'i501', 'v501'), tags=oset(['I501'])),\n",
       " Tensor(shape=(32, 32, 2), inds=('i501', 'i502', 'v502'), tags=oset(['I502'])),\n",
       " Tensor(shape=(32, 32, 2), inds=('i502', 'i503', 'v503'), tags=oset(['I503'])),\n",
       " Tensor(shape=(32, 32, 2), inds=('i503', 'i504', 'v504'), tags=oset(['I504'])),\n",
       " Tensor(shape=(32, 32, 2), inds=('i504', 'i505', 'v505'), tags=oset(['I505'])),\n",
       " Tensor(shape=(32, 32, 2), inds=('i505', 'i506', 'v506'), tags=oset(['I506'])),\n",
       " Tensor(shape=(32, 32, 2), inds=('i506', 'i507', 'v507'), tags=oset(['I507'])),\n",
       " Tensor(shape=(32, 32, 2), inds=('i507', 'i508', 'v508'), tags=oset(['I508'])),\n",
       " Tensor(shape=(32, 32, 2), inds=('i508', 'i509', 'v509'), tags=oset(['I509'])),\n",
       " Tensor(shape=(32, 32, 2), inds=('i509', 'i510', 'v510'), tags=oset(['I510'])),\n",
       " Tensor(shape=(32, 32, 2), inds=('i510', 'i511', 'v511'), tags=oset(['I511'])),\n",
       " Tensor(shape=(32, 32, 2), inds=('i511', 'i512', 'v512'), tags=oset(['I512'])),\n",
       " Tensor(shape=(32, 32, 2), inds=('i512', 'i513', 'v513'), tags=oset(['I513'])),\n",
       " Tensor(shape=(32, 32, 2), inds=('i513', 'i514', 'v514'), tags=oset(['I514'])),\n",
       " Tensor(shape=(32, 32, 2), inds=('i514', 'i515', 'v515'), tags=oset(['I515'])),\n",
       " Tensor(shape=(32, 32, 2), inds=('i515', 'i516', 'v516'), tags=oset(['I516'])),\n",
       " Tensor(shape=(32, 32, 2), inds=('i516', 'i517', 'v517'), tags=oset(['I517'])),\n",
       " Tensor(shape=(32, 32, 2), inds=('i517', 'i518', 'v518'), tags=oset(['I518'])),\n",
       " Tensor(shape=(32, 32, 2), inds=('i518', 'i519', 'v519'), tags=oset(['I519'])),\n",
       " Tensor(shape=(32, 32, 2), inds=('i519', 'i520', 'v520'), tags=oset(['I520'])),\n",
       " Tensor(shape=(32, 32, 2), inds=('i520', 'i521', 'v521'), tags=oset(['I521'])),\n",
       " Tensor(shape=(32, 32, 2), inds=('i521', 'i522', 'v522'), tags=oset(['I522'])),\n",
       " Tensor(shape=(32, 32, 2), inds=('i522', 'i523', 'v523'), tags=oset(['I523'])),\n",
       " Tensor(shape=(32, 32, 2), inds=('i523', 'i524', 'v524'), tags=oset(['I524'])),\n",
       " Tensor(shape=(32, 32, 2), inds=('i524', 'i525', 'v525'), tags=oset(['I525'])),\n",
       " Tensor(shape=(32, 32, 2), inds=('i525', 'i526', 'v526'), tags=oset(['I526'])),\n",
       " Tensor(shape=(32, 32, 2), inds=('i526', 'i527', 'v527'), tags=oset(['I527'])),\n",
       " Tensor(shape=(32, 32, 2), inds=('i527', 'i528', 'v528'), tags=oset(['I528'])),\n",
       " Tensor(shape=(32, 32, 2), inds=('i528', 'i529', 'v529'), tags=oset(['I529'])),\n",
       " Tensor(shape=(32, 32, 2), inds=('i529', 'i530', 'v530'), tags=oset(['I530'])),\n",
       " Tensor(shape=(32, 32, 2), inds=('i530', 'i531', 'v531'), tags=oset(['I531'])),\n",
       " Tensor(shape=(32, 32, 2), inds=('i531', 'i532', 'v532'), tags=oset(['I532'])),\n",
       " Tensor(shape=(32, 32, 2), inds=('i532', 'i533', 'v533'), tags=oset(['I533'])),\n",
       " Tensor(shape=(32, 32, 2), inds=('i533', 'i534', 'v534'), tags=oset(['I534'])),\n",
       " Tensor(shape=(32, 32, 2), inds=('i534', 'i535', 'v535'), tags=oset(['I535'])),\n",
       " Tensor(shape=(32, 32, 2), inds=('i535', 'i536', 'v536'), tags=oset(['I536'])),\n",
       " Tensor(shape=(32, 32, 2), inds=('i536', 'i537', 'v537'), tags=oset(['I537'])),\n",
       " Tensor(shape=(32, 32, 2), inds=('i537', 'i538', 'v538'), tags=oset(['I538'])),\n",
       " Tensor(shape=(32, 32, 2), inds=('i538', 'i539', 'v539'), tags=oset(['I539'])),\n",
       " Tensor(shape=(32, 32, 2), inds=('i539', 'i540', 'v540'), tags=oset(['I540'])),\n",
       " Tensor(shape=(32, 32, 2), inds=('i540', 'i541', 'v541'), tags=oset(['I541'])),\n",
       " Tensor(shape=(32, 32, 2), inds=('i541', 'i542', 'v542'), tags=oset(['I542'])),\n",
       " Tensor(shape=(32, 32, 2), inds=('i542', 'i543', 'v543'), tags=oset(['I543'])),\n",
       " Tensor(shape=(32, 32, 2), inds=('i543', 'i544', 'v544'), tags=oset(['I544'])),\n",
       " Tensor(shape=(32, 32, 2), inds=('i544', 'i545', 'v545'), tags=oset(['I545'])),\n",
       " Tensor(shape=(32, 32, 2), inds=('i545', 'i546', 'v546'), tags=oset(['I546'])),\n",
       " Tensor(shape=(32, 32, 2), inds=('i546', 'i547', 'v547'), tags=oset(['I547'])),\n",
       " Tensor(shape=(32, 32, 2), inds=('i547', 'i548', 'v548'), tags=oset(['I548'])),\n",
       " Tensor(shape=(32, 32, 2), inds=('i548', 'i549', 'v549'), tags=oset(['I549'])),\n",
       " Tensor(shape=(32, 32, 2), inds=('i549', 'i550', 'v550'), tags=oset(['I550'])),\n",
       " Tensor(shape=(32, 32, 2), inds=('i550', 'i551', 'v551'), tags=oset(['I551'])),\n",
       " Tensor(shape=(32, 32, 2), inds=('i551', 'i552', 'v552'), tags=oset(['I552'])),\n",
       " Tensor(shape=(32, 32, 2), inds=('i552', 'i553', 'v553'), tags=oset(['I553'])),\n",
       " Tensor(shape=(32, 32, 2), inds=('i553', 'i554', 'v554'), tags=oset(['I554'])),\n",
       " Tensor(shape=(32, 32, 2), inds=('i554', 'i555', 'v555'), tags=oset(['I555'])),\n",
       " Tensor(shape=(32, 32, 2), inds=('i555', 'i556', 'v556'), tags=oset(['I556'])),\n",
       " Tensor(shape=(32, 32, 2), inds=('i556', 'i557', 'v557'), tags=oset(['I557'])),\n",
       " Tensor(shape=(32, 32, 2), inds=('i557', 'i558', 'v558'), tags=oset(['I558'])),\n",
       " Tensor(shape=(32, 32, 2), inds=('i558', 'i559', 'v559'), tags=oset(['I559'])),\n",
       " Tensor(shape=(32, 32, 2), inds=('i559', 'i560', 'v560'), tags=oset(['I560'])),\n",
       " Tensor(shape=(32, 32, 2), inds=('i560', 'i561', 'v561'), tags=oset(['I561'])),\n",
       " Tensor(shape=(32, 32, 2), inds=('i561', 'i562', 'v562'), tags=oset(['I562'])),\n",
       " Tensor(shape=(32, 32, 2), inds=('i562', 'i563', 'v563'), tags=oset(['I563'])),\n",
       " Tensor(shape=(32, 32, 2), inds=('i563', 'i564', 'v564'), tags=oset(['I564'])),\n",
       " Tensor(shape=(32, 32, 2), inds=('i564', 'i565', 'v565'), tags=oset(['I565'])),\n",
       " Tensor(shape=(32, 32, 2), inds=('i565', 'i566', 'v566'), tags=oset(['I566'])),\n",
       " Tensor(shape=(32, 32, 2), inds=('i566', 'i567', 'v567'), tags=oset(['I567'])),\n",
       " Tensor(shape=(32, 32, 2), inds=('i567', 'i568', 'v568'), tags=oset(['I568'])),\n",
       " Tensor(shape=(32, 32, 2), inds=('i568', 'i569', 'v569'), tags=oset(['I569'])),\n",
       " Tensor(shape=(32, 32, 2), inds=('i569', 'i570', 'v570'), tags=oset(['I570'])),\n",
       " Tensor(shape=(32, 32, 2), inds=('i570', 'i571', 'v571'), tags=oset(['I571'])),\n",
       " Tensor(shape=(32, 32, 2), inds=('i571', 'i572', 'v572'), tags=oset(['I572'])),\n",
       " Tensor(shape=(32, 32, 2), inds=('i572', 'i573', 'v573'), tags=oset(['I573'])),\n",
       " Tensor(shape=(32, 32, 2), inds=('i573', 'i574', 'v574'), tags=oset(['I574'])),\n",
       " Tensor(shape=(32, 32, 2), inds=('i574', 'i575', 'v575'), tags=oset(['I575'])),\n",
       " Tensor(shape=(32, 32, 2), inds=('i575', 'i576', 'v576'), tags=oset(['I576'])),\n",
       " Tensor(shape=(32, 32, 2), inds=('i576', 'i577', 'v577'), tags=oset(['I577'])),\n",
       " Tensor(shape=(32, 32, 2), inds=('i577', 'i578', 'v578'), tags=oset(['I578'])),\n",
       " Tensor(shape=(32, 32, 2), inds=('i578', 'i579', 'v579'), tags=oset(['I579'])),\n",
       " Tensor(shape=(32, 32, 2), inds=('i579', 'i580', 'v580'), tags=oset(['I580'])),\n",
       " Tensor(shape=(32, 32, 2), inds=('i580', 'i581', 'v581'), tags=oset(['I581'])),\n",
       " Tensor(shape=(32, 32, 2), inds=('i581', 'i582', 'v582'), tags=oset(['I582'])),\n",
       " Tensor(shape=(32, 32, 2), inds=('i582', 'i583', 'v583'), tags=oset(['I583'])),\n",
       " Tensor(shape=(32, 32, 2), inds=('i583', 'i584', 'v584'), tags=oset(['I584'])),\n",
       " Tensor(shape=(32, 32, 2), inds=('i584', 'i585', 'v585'), tags=oset(['I585'])),\n",
       " Tensor(shape=(32, 32, 2), inds=('i585', 'i586', 'v586'), tags=oset(['I586'])),\n",
       " Tensor(shape=(32, 32, 2), inds=('i586', 'i587', 'v587'), tags=oset(['I587'])),\n",
       " Tensor(shape=(32, 32, 2), inds=('i587', 'i588', 'v588'), tags=oset(['I588'])),\n",
       " Tensor(shape=(32, 32, 2), inds=('i588', 'i589', 'v589'), tags=oset(['I589'])),\n",
       " Tensor(shape=(32, 32, 2), inds=('i589', 'i590', 'v590'), tags=oset(['I590'])),\n",
       " Tensor(shape=(32, 32, 2), inds=('i590', 'i591', 'v591'), tags=oset(['I591'])),\n",
       " Tensor(shape=(32, 32, 2), inds=('i591', 'i592', 'v592'), tags=oset(['I592'])),\n",
       " Tensor(shape=(32, 32, 2), inds=('i592', 'i593', 'v593'), tags=oset(['I593'])),\n",
       " Tensor(shape=(32, 32, 2), inds=('i593', 'i594', 'v594'), tags=oset(['I594'])),\n",
       " Tensor(shape=(32, 32, 2), inds=('i594', 'i595', 'v595'), tags=oset(['I595'])),\n",
       " Tensor(shape=(32, 32, 2), inds=('i595', 'i596', 'v596'), tags=oset(['I596'])),\n",
       " Tensor(shape=(32, 32, 2), inds=('i596', 'i597', 'v597'), tags=oset(['I597'])),\n",
       " Tensor(shape=(32, 32, 2), inds=('i597', 'i598', 'v598'), tags=oset(['I598'])),\n",
       " Tensor(shape=(32, 32, 2), inds=('i598', 'i599', 'v599'), tags=oset(['I599'])),\n",
       " Tensor(shape=(32, 32, 2), inds=('i599', 'i600', 'v600'), tags=oset(['I600'])),\n",
       " Tensor(shape=(32, 32, 2), inds=('i600', 'i601', 'v601'), tags=oset(['I601'])),\n",
       " Tensor(shape=(32, 32, 2), inds=('i601', 'i602', 'v602'), tags=oset(['I602'])),\n",
       " Tensor(shape=(32, 32, 2), inds=('i602', 'i603', 'v603'), tags=oset(['I603'])),\n",
       " Tensor(shape=(32, 32, 2), inds=('i603', 'i604', 'v604'), tags=oset(['I604'])),\n",
       " Tensor(shape=(32, 32, 2), inds=('i604', 'i605', 'v605'), tags=oset(['I605'])),\n",
       " Tensor(shape=(32, 32, 2), inds=('i605', 'i606', 'v606'), tags=oset(['I606'])),\n",
       " Tensor(shape=(32, 32, 2), inds=('i606', 'i607', 'v607'), tags=oset(['I607'])),\n",
       " Tensor(shape=(32, 32, 2), inds=('i607', 'i608', 'v608'), tags=oset(['I608'])),\n",
       " Tensor(shape=(32, 32, 2), inds=('i608', 'i609', 'v609'), tags=oset(['I609'])),\n",
       " Tensor(shape=(32, 32, 2), inds=('i609', 'i610', 'v610'), tags=oset(['I610'])),\n",
       " Tensor(shape=(32, 32, 2), inds=('i610', 'i611', 'v611'), tags=oset(['I611'])),\n",
       " Tensor(shape=(32, 32, 2), inds=('i611', 'i612', 'v612'), tags=oset(['I612'])),\n",
       " Tensor(shape=(32, 32, 2), inds=('i612', 'i613', 'v613'), tags=oset(['I613'])),\n",
       " Tensor(shape=(32, 32, 2), inds=('i613', 'i614', 'v614'), tags=oset(['I614'])),\n",
       " Tensor(shape=(32, 32, 2), inds=('i614', 'i615', 'v615'), tags=oset(['I615'])),\n",
       " Tensor(shape=(32, 32, 2), inds=('i615', 'i616', 'v616'), tags=oset(['I616'])),\n",
       " Tensor(shape=(32, 32, 2), inds=('i616', 'i617', 'v617'), tags=oset(['I617'])),\n",
       " Tensor(shape=(32, 32, 2), inds=('i617', 'i618', 'v618'), tags=oset(['I618'])),\n",
       " Tensor(shape=(32, 32, 2), inds=('i618', 'i619', 'v619'), tags=oset(['I619'])),\n",
       " Tensor(shape=(32, 32, 2), inds=('i619', 'i620', 'v620'), tags=oset(['I620'])),\n",
       " Tensor(shape=(32, 32, 2), inds=('i620', 'i621', 'v621'), tags=oset(['I621'])),\n",
       " Tensor(shape=(32, 32, 2), inds=('i621', 'i622', 'v622'), tags=oset(['I622'])),\n",
       " Tensor(shape=(32, 32, 2), inds=('i622', 'i623', 'v623'), tags=oset(['I623'])),\n",
       " Tensor(shape=(32, 32, 2), inds=('i623', 'i624', 'v624'), tags=oset(['I624'])),\n",
       " Tensor(shape=(32, 32, 2), inds=('i624', 'i625', 'v625'), tags=oset(['I625'])),\n",
       " Tensor(shape=(32, 32, 2), inds=('i625', 'i626', 'v626'), tags=oset(['I626'])),\n",
       " Tensor(shape=(32, 32, 2), inds=('i626', 'i627', 'v627'), tags=oset(['I627'])),\n",
       " Tensor(shape=(32, 32, 2), inds=('i627', 'i628', 'v628'), tags=oset(['I628'])),\n",
       " Tensor(shape=(32, 32, 2), inds=('i628', 'i629', 'v629'), tags=oset(['I629'])),\n",
       " Tensor(shape=(32, 32, 2), inds=('i629', 'i630', 'v630'), tags=oset(['I630'])),\n",
       " Tensor(shape=(32, 32, 2), inds=('i630', 'i631', 'v631'), tags=oset(['I631'])),\n",
       " Tensor(shape=(32, 32, 2), inds=('i631', 'i632', 'v632'), tags=oset(['I632'])),\n",
       " Tensor(shape=(32, 32, 2), inds=('i632', 'i633', 'v633'), tags=oset(['I633'])),\n",
       " Tensor(shape=(32, 32, 2), inds=('i633', 'i634', 'v634'), tags=oset(['I634'])),\n",
       " Tensor(shape=(32, 32, 2), inds=('i634', 'i635', 'v635'), tags=oset(['I635'])),\n",
       " Tensor(shape=(32, 32, 2), inds=('i635', 'i636', 'v636'), tags=oset(['I636'])),\n",
       " Tensor(shape=(32, 32, 2), inds=('i636', 'i637', 'v637'), tags=oset(['I637'])),\n",
       " Tensor(shape=(32, 32, 2), inds=('i637', 'i638', 'v638'), tags=oset(['I638'])),\n",
       " Tensor(shape=(32, 32, 2), inds=('i638', 'i639', 'v639'), tags=oset(['I639'])),\n",
       " Tensor(shape=(32, 32, 2), inds=('i639', 'i640', 'v640'), tags=oset(['I640'])),\n",
       " Tensor(shape=(32, 32, 2), inds=('i640', 'i641', 'v641'), tags=oset(['I641'])),\n",
       " Tensor(shape=(32, 32, 2), inds=('i641', 'i642', 'v642'), tags=oset(['I642'])),\n",
       " Tensor(shape=(32, 32, 2), inds=('i642', 'i643', 'v643'), tags=oset(['I643'])),\n",
       " Tensor(shape=(32, 32, 2), inds=('i643', 'i644', 'v644'), tags=oset(['I644'])),\n",
       " Tensor(shape=(32, 32, 2), inds=('i644', 'i645', 'v645'), tags=oset(['I645'])),\n",
       " Tensor(shape=(32, 32, 2), inds=('i645', 'i646', 'v646'), tags=oset(['I646'])),\n",
       " Tensor(shape=(32, 32, 2), inds=('i646', 'i647', 'v647'), tags=oset(['I647'])),\n",
       " Tensor(shape=(32, 32, 2), inds=('i647', 'i648', 'v648'), tags=oset(['I648'])),\n",
       " Tensor(shape=(32, 32, 2), inds=('i648', 'i649', 'v649'), tags=oset(['I649'])),\n",
       " Tensor(shape=(32, 32, 2), inds=('i649', 'i650', 'v650'), tags=oset(['I650'])),\n",
       " Tensor(shape=(32, 32, 2), inds=('i650', 'i651', 'v651'), tags=oset(['I651'])),\n",
       " Tensor(shape=(32, 32, 2), inds=('i651', 'i652', 'v652'), tags=oset(['I652'])),\n",
       " Tensor(shape=(32, 32, 2), inds=('i652', 'i653', 'v653'), tags=oset(['I653'])),\n",
       " Tensor(shape=(32, 32, 2), inds=('i653', 'i654', 'v654'), tags=oset(['I654'])),\n",
       " Tensor(shape=(32, 32, 2), inds=('i654', 'i655', 'v655'), tags=oset(['I655'])),\n",
       " Tensor(shape=(32, 32, 2), inds=('i655', 'i656', 'v656'), tags=oset(['I656'])),\n",
       " Tensor(shape=(32, 32, 2), inds=('i656', 'i657', 'v657'), tags=oset(['I657'])),\n",
       " Tensor(shape=(32, 32, 2), inds=('i657', 'i658', 'v658'), tags=oset(['I658'])),\n",
       " Tensor(shape=(32, 32, 2), inds=('i658', 'i659', 'v659'), tags=oset(['I659'])),\n",
       " Tensor(shape=(32, 32, 2), inds=('i659', 'i660', 'v660'), tags=oset(['I660'])),\n",
       " Tensor(shape=(32, 32, 2), inds=('i660', 'i661', 'v661'), tags=oset(['I661'])),\n",
       " Tensor(shape=(32, 32, 2), inds=('i661', 'i662', 'v662'), tags=oset(['I662'])),\n",
       " Tensor(shape=(32, 32, 2), inds=('i662', 'i663', 'v663'), tags=oset(['I663'])),\n",
       " Tensor(shape=(32, 32, 2), inds=('i663', 'i664', 'v664'), tags=oset(['I664'])),\n",
       " Tensor(shape=(32, 32, 2), inds=('i664', 'i665', 'v665'), tags=oset(['I665'])),\n",
       " Tensor(shape=(32, 32, 2), inds=('i665', 'i666', 'v666'), tags=oset(['I666'])),\n",
       " Tensor(shape=(32, 32, 2), inds=('i666', 'i667', 'v667'), tags=oset(['I667'])),\n",
       " Tensor(shape=(32, 32, 2), inds=('i667', 'i668', 'v668'), tags=oset(['I668'])),\n",
       " Tensor(shape=(32, 32, 2), inds=('i668', 'i669', 'v669'), tags=oset(['I669'])),\n",
       " Tensor(shape=(32, 32, 2), inds=('i669', 'i670', 'v670'), tags=oset(['I670'])),\n",
       " Tensor(shape=(32, 32, 2), inds=('i670', 'i671', 'v671'), tags=oset(['I671'])),\n",
       " Tensor(shape=(32, 32, 2), inds=('i671', 'i672', 'v672'), tags=oset(['I672'])),\n",
       " Tensor(shape=(32, 32, 2), inds=('i672', 'i673', 'v673'), tags=oset(['I673'])),\n",
       " Tensor(shape=(32, 32, 2), inds=('i673', 'i674', 'v674'), tags=oset(['I674'])),\n",
       " Tensor(shape=(32, 32, 2), inds=('i674', 'i675', 'v675'), tags=oset(['I675'])),\n",
       " Tensor(shape=(32, 32, 2), inds=('i675', 'i676', 'v676'), tags=oset(['I676'])),\n",
       " Tensor(shape=(32, 32, 2), inds=('i676', 'i677', 'v677'), tags=oset(['I677'])),\n",
       " Tensor(shape=(32, 32, 2), inds=('i677', 'i678', 'v678'), tags=oset(['I678'])),\n",
       " Tensor(shape=(32, 32, 2), inds=('i678', 'i679', 'v679'), tags=oset(['I679'])),\n",
       " Tensor(shape=(32, 32, 2), inds=('i679', 'i680', 'v680'), tags=oset(['I680'])),\n",
       " Tensor(shape=(32, 32, 2), inds=('i680', 'i681', 'v681'), tags=oset(['I681'])),\n",
       " Tensor(shape=(32, 32, 2), inds=('i681', 'i682', 'v682'), tags=oset(['I682'])),\n",
       " Tensor(shape=(32, 32, 2), inds=('i682', 'i683', 'v683'), tags=oset(['I683'])),\n",
       " Tensor(shape=(32, 32, 2), inds=('i683', 'i684', 'v684'), tags=oset(['I684'])),\n",
       " Tensor(shape=(32, 32, 2), inds=('i684', 'i685', 'v685'), tags=oset(['I685'])),\n",
       " Tensor(shape=(32, 32, 2), inds=('i685', 'i686', 'v686'), tags=oset(['I686'])),\n",
       " Tensor(shape=(32, 32, 2), inds=('i686', 'i687', 'v687'), tags=oset(['I687'])),\n",
       " Tensor(shape=(32, 32, 2), inds=('i687', 'i688', 'v688'), tags=oset(['I688'])),\n",
       " Tensor(shape=(32, 32, 2), inds=('i688', 'i689', 'v689'), tags=oset(['I689'])),\n",
       " Tensor(shape=(32, 32, 2), inds=('i689', 'i690', 'v690'), tags=oset(['I690'])),\n",
       " Tensor(shape=(32, 32, 2), inds=('i690', 'i691', 'v691'), tags=oset(['I691'])),\n",
       " Tensor(shape=(32, 32, 2), inds=('i691', 'i692', 'v692'), tags=oset(['I692'])),\n",
       " Tensor(shape=(32, 32, 2), inds=('i692', 'i693', 'v693'), tags=oset(['I693'])),\n",
       " Tensor(shape=(32, 32, 2), inds=('i693', 'i694', 'v694'), tags=oset(['I694'])),\n",
       " Tensor(shape=(32, 32, 2), inds=('i694', 'i695', 'v695'), tags=oset(['I695'])),\n",
       " Tensor(shape=(32, 32, 2), inds=('i695', 'i696', 'v696'), tags=oset(['I696'])),\n",
       " Tensor(shape=(32, 32, 2), inds=('i696', 'i697', 'v697'), tags=oset(['I697'])),\n",
       " Tensor(shape=(32, 32, 2), inds=('i697', 'i698', 'v698'), tags=oset(['I698'])),\n",
       " Tensor(shape=(32, 32, 2), inds=('i698', 'i699', 'v699'), tags=oset(['I699'])),\n",
       " Tensor(shape=(32, 32, 2), inds=('i699', 'i700', 'v700'), tags=oset(['I700'])),\n",
       " Tensor(shape=(32, 32, 2), inds=('i700', 'i701', 'v701'), tags=oset(['I701'])),\n",
       " Tensor(shape=(32, 32, 2), inds=('i701', 'i702', 'v702'), tags=oset(['I702'])),\n",
       " Tensor(shape=(32, 32, 2), inds=('i702', 'i703', 'v703'), tags=oset(['I703'])),\n",
       " Tensor(shape=(32, 32, 2), inds=('i703', 'i704', 'v704'), tags=oset(['I704'])),\n",
       " Tensor(shape=(32, 32, 2), inds=('i704', 'i705', 'v705'), tags=oset(['I705'])),\n",
       " Tensor(shape=(32, 32, 2), inds=('i705', 'i706', 'v706'), tags=oset(['I706'])),\n",
       " Tensor(shape=(32, 32, 2), inds=('i706', 'i707', 'v707'), tags=oset(['I707'])),\n",
       " Tensor(shape=(32, 32, 2), inds=('i707', 'i708', 'v708'), tags=oset(['I708'])),\n",
       " Tensor(shape=(32, 32, 2), inds=('i708', 'i709', 'v709'), tags=oset(['I709'])),\n",
       " Tensor(shape=(32, 32, 2), inds=('i709', 'i710', 'v710'), tags=oset(['I710'])),\n",
       " Tensor(shape=(32, 32, 2), inds=('i710', 'i711', 'v711'), tags=oset(['I711'])),\n",
       " Tensor(shape=(32, 32, 2), inds=('i711', 'i712', 'v712'), tags=oset(['I712'])),\n",
       " Tensor(shape=(32, 32, 2), inds=('i712', 'i713', 'v713'), tags=oset(['I713'])),\n",
       " Tensor(shape=(32, 32, 2), inds=('i713', 'i714', 'v714'), tags=oset(['I714'])),\n",
       " Tensor(shape=(32, 32, 2), inds=('i714', 'i715', 'v715'), tags=oset(['I715'])),\n",
       " Tensor(shape=(32, 32, 2), inds=('i715', 'i716', 'v716'), tags=oset(['I716'])),\n",
       " Tensor(shape=(32, 32, 2), inds=('i716', 'i717', 'v717'), tags=oset(['I717'])),\n",
       " Tensor(shape=(32, 32, 2), inds=('i717', 'i718', 'v718'), tags=oset(['I718'])),\n",
       " Tensor(shape=(32, 32, 2), inds=('i718', 'i719', 'v719'), tags=oset(['I719'])),\n",
       " Tensor(shape=(32, 32, 2), inds=('i719', 'i720', 'v720'), tags=oset(['I720'])),\n",
       " Tensor(shape=(32, 32, 2), inds=('i720', 'i721', 'v721'), tags=oset(['I721'])),\n",
       " Tensor(shape=(32, 32, 2), inds=('i721', 'i722', 'v722'), tags=oset(['I722'])),\n",
       " Tensor(shape=(32, 32, 2), inds=('i722', 'i723', 'v723'), tags=oset(['I723'])),\n",
       " Tensor(shape=(32, 32, 2), inds=('i723', 'i724', 'v724'), tags=oset(['I724'])),\n",
       " Tensor(shape=(32, 32, 2), inds=('i724', 'i725', 'v725'), tags=oset(['I725'])),\n",
       " Tensor(shape=(32, 32, 2), inds=('i725', 'i726', 'v726'), tags=oset(['I726'])),\n",
       " Tensor(shape=(32, 32, 2), inds=('i726', 'i727', 'v727'), tags=oset(['I727'])),\n",
       " Tensor(shape=(32, 32, 2), inds=('i727', 'i728', 'v728'), tags=oset(['I728'])),\n",
       " Tensor(shape=(32, 32, 2), inds=('i728', 'i729', 'v729'), tags=oset(['I729'])),\n",
       " Tensor(shape=(32, 32, 2), inds=('i729', 'i730', 'v730'), tags=oset(['I730'])),\n",
       " Tensor(shape=(32, 32, 2), inds=('i730', 'i731', 'v731'), tags=oset(['I731'])),\n",
       " Tensor(shape=(32, 32, 2), inds=('i731', 'i732', 'v732'), tags=oset(['I732'])),\n",
       " Tensor(shape=(32, 32, 2), inds=('i732', 'i733', 'v733'), tags=oset(['I733'])),\n",
       " Tensor(shape=(32, 32, 2), inds=('i733', 'i734', 'v734'), tags=oset(['I734'])),\n",
       " Tensor(shape=(32, 32, 2), inds=('i734', 'i735', 'v735'), tags=oset(['I735'])),\n",
       " Tensor(shape=(32, 32, 2), inds=('i735', 'i736', 'v736'), tags=oset(['I736'])),\n",
       " Tensor(shape=(32, 32, 2), inds=('i736', 'i737', 'v737'), tags=oset(['I737'])),\n",
       " Tensor(shape=(32, 32, 2), inds=('i737', 'i738', 'v738'), tags=oset(['I738'])),\n",
       " Tensor(shape=(32, 32, 2), inds=('i738', 'i739', 'v739'), tags=oset(['I739'])),\n",
       " Tensor(shape=(32, 32, 2), inds=('i739', 'i740', 'v740'), tags=oset(['I740'])),\n",
       " Tensor(shape=(32, 32, 2), inds=('i740', 'i741', 'v741'), tags=oset(['I741'])),\n",
       " Tensor(shape=(32, 32, 2), inds=('i741', 'i742', 'v742'), tags=oset(['I742'])),\n",
       " Tensor(shape=(32, 32, 2), inds=('i742', 'i743', 'v743'), tags=oset(['I743'])),\n",
       " Tensor(shape=(32, 32, 2), inds=('i743', 'i744', 'v744'), tags=oset(['I744'])),\n",
       " Tensor(shape=(32, 32, 2), inds=('i744', 'i745', 'v745'), tags=oset(['I745'])),\n",
       " Tensor(shape=(32, 32, 2), inds=('i745', 'i746', 'v746'), tags=oset(['I746'])),\n",
       " Tensor(shape=(32, 32, 2), inds=('i746', 'i747', 'v747'), tags=oset(['I747'])),\n",
       " Tensor(shape=(32, 32, 2), inds=('i747', 'i748', 'v748'), tags=oset(['I748'])),\n",
       " Tensor(shape=(32, 32, 2), inds=('i748', 'i749', 'v749'), tags=oset(['I749'])),\n",
       " Tensor(shape=(32, 32, 2), inds=('i749', 'i750', 'v750'), tags=oset(['I750'])),\n",
       " Tensor(shape=(32, 32, 2), inds=('i750', 'i751', 'v751'), tags=oset(['I751'])),\n",
       " Tensor(shape=(32, 32, 2), inds=('i751', 'i752', 'v752'), tags=oset(['I752'])),\n",
       " Tensor(shape=(32, 32, 2), inds=('i752', 'i753', 'v753'), tags=oset(['I753'])),\n",
       " Tensor(shape=(32, 32, 2), inds=('i753', 'i754', 'v754'), tags=oset(['I754'])),\n",
       " Tensor(shape=(32, 32, 2), inds=('i754', 'i755', 'v755'), tags=oset(['I755'])),\n",
       " Tensor(shape=(32, 32, 2), inds=('i755', 'i756', 'v756'), tags=oset(['I756'])),\n",
       " Tensor(shape=(32, 32, 2), inds=('i756', 'i757', 'v757'), tags=oset(['I757'])),\n",
       " Tensor(shape=(32, 32, 2), inds=('i757', 'i758', 'v758'), tags=oset(['I758'])),\n",
       " Tensor(shape=(32, 32, 2), inds=('i758', 'i759', 'v759'), tags=oset(['I759'])),\n",
       " Tensor(shape=(32, 31, 2), inds=('i759', 'i760', 'v760'), tags=oset(['I760'])),\n",
       " Tensor(shape=(31, 31, 2), inds=('i760', 'i761', 'v761'), tags=oset(['I761'])),\n",
       " Tensor(shape=(31, 31, 2), inds=('i761', 'i762', 'v762'), tags=oset(['I762'])),\n",
       " Tensor(shape=(31, 31, 2), inds=('i762', 'i763', 'v763'), tags=oset(['I763'])),\n",
       " Tensor(shape=(31, 31, 2), inds=('i763', 'i764', 'v764'), tags=oset(['I764'])),\n",
       " Tensor(shape=(31, 31, 2), inds=('i764', 'i765', 'v765'), tags=oset(['I765'])),\n",
       " Tensor(shape=(31, 31, 2), inds=('i765', 'i766', 'v766'), tags=oset(['I766'])),\n",
       " Tensor(shape=(31, 31, 2), inds=('i766', 'i767', 'v767'), tags=oset(['I767'])),\n",
       " Tensor(shape=(31, 31, 2), inds=('i767', 'i768', 'v768'), tags=oset(['I768'])),\n",
       " Tensor(shape=(31, 31, 2), inds=('i768', 'i769', 'v769'), tags=oset(['I769'])),\n",
       " Tensor(shape=(31, 31, 2), inds=('i769', 'i770', 'v770'), tags=oset(['I770'])),\n",
       " Tensor(shape=(31, 31, 2), inds=('i770', 'i771', 'v771'), tags=oset(['I771'])),\n",
       " Tensor(shape=(31, 31, 2), inds=('i771', 'i772', 'v772'), tags=oset(['I772'])),\n",
       " Tensor(shape=(31, 31, 2), inds=('i772', 'i773', 'v773'), tags=oset(['I773'])),\n",
       " Tensor(shape=(31, 31, 2), inds=('i773', 'i774', 'v774'), tags=oset(['I774'])),\n",
       " Tensor(shape=(31, 31, 2), inds=('i774', 'i775', 'v775'), tags=oset(['I775'])),\n",
       " Tensor(shape=(31, 31, 2), inds=('i775', 'i776', 'v776'), tags=oset(['I776'])),\n",
       " Tensor(shape=(31, 31, 2), inds=('i776', 'i777', 'v777'), tags=oset(['I777'])),\n",
       " Tensor(shape=(31, 31, 2), inds=('i777', 'i778', 'v778'), tags=oset(['I778'])),\n",
       " Tensor(shape=(31, 16, 2), inds=('i778', 'i779', 'v779'), tags=oset(['I779'])),\n",
       " Tensor(shape=(16, 8, 2), inds=('i779', 'i780', 'v780'), tags=oset(['I780'])),\n",
       " Tensor(shape=(8, 4, 2), inds=('i780', 'i781', 'v781'), tags=oset(['I781'])),\n",
       " Tensor(shape=(4, 2, 2), inds=('i781', 'i783', 'v782'), tags=oset(['I782'])),\n",
       " Tensor(shape=(2, 2), inds=('i783', 'v783'), tags=oset(['I783'])))"
      ]
     },
     "execution_count": 12,
     "metadata": {},
     "output_type": "execute_result"
    }
   ],
   "source": [
    "mps.tensors"
   ]
  },
  {
   "cell_type": "code",
   "execution_count": null,
   "id": "5530e36c-f3f4-4ac7-ad5a-325523ecdd07",
   "metadata": {},
   "outputs": [],
   "source": []
  }
 ],
 "metadata": {
  "kernelspec": {
   "display_name": "Python 3 (ipykernel)",
   "language": "python",
   "name": "python3"
  },
  "language_info": {
   "codemirror_mode": {
    "name": "ipython",
    "version": 3
   },
   "file_extension": ".py",
   "mimetype": "text/x-python",
   "name": "python",
   "nbconvert_exporter": "python",
   "pygments_lexer": "ipython3",
   "version": "3.9.7"
  }
 },
 "nbformat": 4,
 "nbformat_minor": 5
}
