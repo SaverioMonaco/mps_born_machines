{
 "cells": [
  {
   "cell_type": "code",
   "execution_count": 1,
   "id": "0dd2b197-51ca-4067-94fa-af00ddace9e7",
   "metadata": {},
   "outputs": [],
   "source": [
    "#################\n",
    "#### IMPORTS ####\n",
    "#################\n",
    "\n",
    "# Arrays\n",
    "import numpy as np\n",
    "\n",
    "# Deep Learning stuff\n",
    "import torch\n",
    "import torchvision\n",
    "import torchvision.transforms as transforms\n",
    "\n",
    "# Images display and plots\n",
    "import matplotlib.pyplot as plt\n",
    "\n",
    "# Fancy progress bars\n",
    "import tqdm.notebook as tq\n",
    "\n",
    "# Tensor Network Stuff\n",
    "%config InlineBackend.figure_formats = ['svg']\n",
    "import quimb.tensor as qtn # Tensor Network library\n",
    "import quimb\n"
   ]
  },
  {
   "cell_type": "code",
   "execution_count": 2,
   "id": "6755d698-ef0e-4752-a3b0-42a146f60541",
   "metadata": {},
   "outputs": [],
   "source": [
    "import sys\n",
    "sys.path.insert(0, '../')\n",
    "# My functions\n",
    "from TNutils import *\n"
   ]
  },
  {
   "cell_type": "markdown",
   "id": "3cf6fe56-3014-405a-9f2f-a89959c96b19",
   "metadata": {},
   "source": [
    "### 1. Handling MNIST images"
   ]
  },
  {
   "cell_type": "markdown",
   "id": "abbfcd59-a0f9-47cd-b9c0-c66139c7e2e8",
   "metadata": {},
   "source": [
    "Get MNIST data\n",
    "1. Actually download data\n",
    "2. Flatten each image\n",
    "3. Normalize [0,255] -> [0,1]\n",
    "4. Trasform from grayscale to binary images [0,1] -> {0,1}"
   ]
  },
  {
   "cell_type": "code",
   "execution_count": 3,
   "id": "23d49cfd-8647-401d-a030-f564e5dbb8b9",
   "metadata": {},
   "outputs": [],
   "source": [
    "train_set, test_set = get_data()\n"
   ]
  },
  {
   "cell_type": "code",
   "execution_count": 4,
   "id": "516f0e99-9072-43cc-b097-4fac2febd18d",
   "metadata": {},
   "outputs": [
    {
     "name": "stdout",
     "output_type": "stream",
     "text": [
      "Shape of the training set: (1000, 784)\n",
      "Shape of the test set:     (100, 784)\n"
     ]
    }
   ],
   "source": [
    "print('Shape of the training set: {}'.format(train_set.shape) )\n",
    "print('Shape of the test set:     {}'.format(test_set.shape) )\n"
   ]
  },
  {
   "cell_type": "markdown",
   "id": "eff12766-aed6-4916-a98e-8348cad093b9",
   "metadata": {},
   "source": [
    "Example of an image:"
   ]
  },
  {
   "cell_type": "code",
   "execution_count": 5,
   "id": "45e310b3-233c-4f20-bffc-92f99c899a13",
   "metadata": {},
   "outputs": [
    {
     "data": {
      "image/svg+xml": [
       "<?xml version=\"1.0\" encoding=\"utf-8\" standalone=\"no\"?>\n",
       "<!DOCTYPE svg PUBLIC \"-//W3C//DTD SVG 1.1//EN\"\n",
       "  \"http://www.w3.org/Graphics/SVG/1.1/DTD/svg11.dtd\">\n",
       "<svg height=\"231.84pt\" version=\"1.1\" viewBox=\"0 0 231.84 231.84\" width=\"231.84pt\" xmlns=\"http://www.w3.org/2000/svg\" xmlns:xlink=\"http://www.w3.org/1999/xlink\">\n",
       " <metadata>\n",
       "  <rdf:RDF xmlns:cc=\"http://creativecommons.org/ns#\" xmlns:dc=\"http://purl.org/dc/elements/1.1/\" xmlns:rdf=\"http://www.w3.org/1999/02/22-rdf-syntax-ns#\">\n",
       "   <cc:Work>\n",
       "    <dc:type rdf:resource=\"http://purl.org/dc/dcmitype/StillImage\"/>\n",
       "    <dc:date>2022-03-16T18:50:42.079296</dc:date>\n",
       "    <dc:format>image/svg+xml</dc:format>\n",
       "    <dc:creator>\n",
       "     <cc:Agent>\n",
       "      <dc:title>Matplotlib v3.4.3, https://matplotlib.org/</dc:title>\n",
       "     </cc:Agent>\n",
       "    </dc:creator>\n",
       "   </cc:Work>\n",
       "  </rdf:RDF>\n",
       " </metadata>\n",
       " <defs>\n",
       "  <style type=\"text/css\">*{stroke-linecap:butt;stroke-linejoin:round;}</style>\n",
       " </defs>\n",
       " <g id=\"figure_1\">\n",
       "  <g id=\"patch_1\">\n",
       "   <path d=\"M 0 231.84 \n",
       "L 231.84 231.84 \n",
       "L 231.84 0 \n",
       "L 0 0 \n",
       "z\n",
       "\" style=\"fill:none;\"/>\n",
       "  </g>\n",
       "  <g id=\"axes_1\">\n",
       "   <g clip-path=\"url(#p49b48a2da5)\">\n",
       "    <image height=\"218\" id=\"image3f72f4482b\" transform=\"scale(1 -1)translate(0 -218)\" width=\"218\" x=\"7.2\" xlink:href=\"data:image/png;base64,\n",
       "iVBORw0KGgoAAAANSUhEUgAAANoAAADaCAYAAADAHVzbAAADH0lEQVR4nO3cAWqEQBQFwRhy/yubCyyRKPaMTtUJlkDzwcdk2/d9/wJu9T36B8AKhAYBoUFAaBAQGgSEBgGhQUBoEBAaBIQGAaFBQGgQEBoEhAYBoUFAaBAQGgSEBgGhQUBoEBAaBIQGAaFBQGgQEBoEhAYBoUFAaBAQGgSEBgGhQUBoEBAaBIQGAaFBQGgQEBoEhAaBn9E/YEXbto3+CcPs+z76JwzhokFAaBAQGgSEBgGhQUBoEBAaBOxoJ628hV1x5e/25A3ORYOA0CAgNAgIDQJCg4DQICA0CNjReIyjDW7mnc1Fg4DQICA0CAgNAkKDgNAg4PP+hGb+TH3Vqs+LXDQICA0CQoOA0CAgNAgIDQJCg4AdbYA372R85qJBQGgQEBoEhAYBoUFAaBAQGgTsaCfZwj67873Zk//mLhoEhAYBoUFAaBAQGgSEBgGhQcCOxr+s+n8Zr3LRICA0CAgNAkKDgNAgIDQI+Ly/oFk/0T/5GcwRFw0CQoOA0CAgNAgIDQJCg4DQILDsjjbrlvR2b97K/uKiQUBoEBAaBIQGAaFBQGgQEBoEXruj2cnGWHUnO+KiQUBoEBAaBIQGAaFBQGgQEBoEXrujHe05K+9stq6eiwYBoUFAaBAQGgSEBgGhQUBoEHjtjnZk5Ja08oa3KhcNAkKDgNAgIDQICA0CQoPAsp/3R/KEZz0uGgSEBgGhQUBoEBAaBIQGAaFB4NYd7e49yL9N4ylcNAgIDQJCg4DQICA0CAgNAkKDwKPfo3m3xVO4aBAQGgSEBgGhQUBoEBAaBIQGgVt3tKvvxexk53inNx8XDQJCg4DQICA0CAgNAkKDgNAgMPV7tDv3oJk3OjvY+7hoEBAaBIQGAaFBQGgQEBoEpv68fyef0Cm5aBAQGgSEBgGhQUBoEBAaBIQGAaFBQGgQEBoEhAYBoUFAaBAQGgSEBgGhQUBoEBAaBIQGAaFBQGgQEBoEhAYBoUFAaBAQGgSEBgGhQUBoEBAaBIQGAaFBQGgQEBoEhAYBoUFAaBAQGgSEBgGhQUBoEBAaBIQGAaFBQGgQEBoEfgEGIUHLkXd7TgAAAABJRU5ErkJggg==\" y=\"-6.64\"/>\n",
       "   </g>\n",
       "  </g>\n",
       " </g>\n",
       " <defs>\n",
       "  <clipPath id=\"p49b48a2da5\">\n",
       "   <rect height=\"217.44\" width=\"217.44\" x=\"7.2\" y=\"7.2\"/>\n",
       "  </clipPath>\n",
       " </defs>\n",
       "</svg>\n"
      ],
      "text/plain": [
       "<Figure size 432x288 with 1 Axes>"
      ]
     },
     "metadata": {
      "needs_background": "light"
     },
     "output_type": "display_data"
    }
   ],
   "source": [
    "plot_img(train_set[1])\n"
   ]
  },
  {
   "cell_type": "markdown",
   "id": "339e0876-76f9-4e07-8501-2b90fade1070",
   "metadata": {},
   "source": [
    "Further on, we will like to get rid parts of the image and reconstruct them.\n",
    "There is a function for partially removing parts of the image in the test set:"
   ]
  },
  {
   "cell_type": "code",
   "execution_count": 6,
   "id": "3630a78e-7d20-443f-8f4e-bd46d2251d12",
   "metadata": {},
   "outputs": [
    {
     "data": {
      "image/svg+xml": [
       "<?xml version=\"1.0\" encoding=\"utf-8\" standalone=\"no\"?>\n",
       "<!DOCTYPE svg PUBLIC \"-//W3C//DTD SVG 1.1//EN\"\n",
       "  \"http://www.w3.org/Graphics/SVG/1.1/DTD/svg11.dtd\">\n",
       "<svg height=\"231.84pt\" version=\"1.1\" viewBox=\"0 0 231.84 231.84\" width=\"231.84pt\" xmlns=\"http://www.w3.org/2000/svg\" xmlns:xlink=\"http://www.w3.org/1999/xlink\">\n",
       " <metadata>\n",
       "  <rdf:RDF xmlns:cc=\"http://creativecommons.org/ns#\" xmlns:dc=\"http://purl.org/dc/elements/1.1/\" xmlns:rdf=\"http://www.w3.org/1999/02/22-rdf-syntax-ns#\">\n",
       "   <cc:Work>\n",
       "    <dc:type rdf:resource=\"http://purl.org/dc/dcmitype/StillImage\"/>\n",
       "    <dc:date>2022-03-16T18:50:42.133461</dc:date>\n",
       "    <dc:format>image/svg+xml</dc:format>\n",
       "    <dc:creator>\n",
       "     <cc:Agent>\n",
       "      <dc:title>Matplotlib v3.4.3, https://matplotlib.org/</dc:title>\n",
       "     </cc:Agent>\n",
       "    </dc:creator>\n",
       "   </cc:Work>\n",
       "  </rdf:RDF>\n",
       " </metadata>\n",
       " <defs>\n",
       "  <style type=\"text/css\">*{stroke-linecap:butt;stroke-linejoin:round;}</style>\n",
       " </defs>\n",
       " <g id=\"figure_1\">\n",
       "  <g id=\"patch_1\">\n",
       "   <path d=\"M 0 231.84 \n",
       "L 231.84 231.84 \n",
       "L 231.84 0 \n",
       "L 0 0 \n",
       "z\n",
       "\" style=\"fill:none;\"/>\n",
       "  </g>\n",
       "  <g id=\"axes_1\">\n",
       "   <g clip-path=\"url(#pb0c3ea73d1)\">\n",
       "    <image height=\"218\" id=\"imagecb421a7b3b\" transform=\"scale(1 -1)translate(0 -218)\" width=\"218\" x=\"7.2\" xlink:href=\"data:image/png;base64,\n",
       "iVBORw0KGgoAAAANSUhEUgAAANoAAADaCAYAAADAHVzbAAAC8UlEQVR4nO3cwW3DMBAAwTBw/y0zJRhWwKUszjQgfRYH6HAac875Ayz1u/sF4ARCg4DQICA0CAgNAkKDgNAgIDQICA0CQoOA0CAgNAgIDQJCg4DQICA0CAgNAkKDgNAgIDQICA0CQoOA0CAgNAgIDQJCg4DQICA0CAgNAkKDgNAgIDQICA0CQoOA0CAgNAgIDQJCg8Br9wucaIyx9flzzq3PP5GJBgGhQUBoEBAaBIQGAaFBQGgQsEe7aPcujO9iokFAaBAQGgSEBgGhQUBoEBAaBIQGAaFBQGgQEBoEhAYBoUFAaBBwJnNDfgf3PCYaBIQGAaFBQGgQEBoEhAYBoUHAHm0De7LzmGgQEBoEhAYBoUFAaBAQGgSEBgF7tIvswviEiQYBoUFAaBAQGgSEBgGhQUBoEBAaBIQGAaFBQGgQEBoEhAYBoUFAaBAQGgSEBgGhQUBoEBAaBIQGAaFB4NjfzY0xdr/CNn6V1zPRICA0CAgNAkKDgNAgIDQICA0Cj92jnbwn435MNAgIDQJCg4DQICA0CAgNAkKDwGP3aO9uruzZKJloEBAaBIQGAaFBQGgQEBoEhAaBx+7R3tn5b0M7vPOYaBAQGgSEBgGhQUBoEBAaBI79vL+TE57zmGgQEBoEhAYBoUFAaBAQGgSEBoGle7TV+6Cdpy7wCRMNAkKDgNAgIDQICA0CQoOA0CDw1fdo7rb4FiYaBIQGAaFBQGgQEBoEhAYBoUFg6R7tv/di9mTXuNO7HxMNAkKDgNAgIDQICA0CQoOA0CBw63u0lfugO+/o7MGex0SDgNAgIDQICA0CQoOA0CBw68/7K/mETslEg4DQICA0CAgNAkKDgNAgIDQICA0CQoOA0CAgNAgIDQJCg4DQICA0CAgNAkKDgNAgIDQICA0CQoOA0CAgNAgIDQJCg4DQICA0CAgNAkKDgNAgIDQICA0CQoOA0CAgNAgIDQJCg4DQICA0CAgNAkKDgNAgIDQICA0CQoOA0CDwB0PAL8V4KUw5AAAAAElFTkSuQmCC\" y=\"-6.64\"/>\n",
       "   </g>\n",
       "  </g>\n",
       " </g>\n",
       " <defs>\n",
       "  <clipPath id=\"pb0c3ea73d1\">\n",
       "   <rect height=\"217.44\" width=\"217.44\" x=\"7.2\" y=\"7.2\"/>\n",
       "  </clipPath>\n",
       " </defs>\n",
       "</svg>\n"
      ],
      "text/plain": [
       "<Figure size 432x288 with 1 Axes>"
      ]
     },
     "metadata": {
      "needs_background": "light"
     },
     "output_type": "display_data"
    }
   ],
   "source": [
    "plot_img( partial_removal_img(train_set[1], fraction = .4, axis = 1))"
   ]
  },
  {
   "cell_type": "code",
   "execution_count": null,
   "id": "e2219fd8-38fa-4f57-b98b-0bb454d47831",
   "metadata": {},
   "outputs": [],
   "source": []
  },
  {
   "cell_type": "markdown",
   "id": "24b5a9df-eef7-4271-aa6b-eb046940b2db",
   "metadata": {},
   "source": [
    "### 2. MPS "
   ]
  },
  {
   "cell_type": "markdown",
   "id": "3ad1c4b2-a5a1-4021-81f0-c897771c5caf",
   "metadata": {},
   "source": [
    "1. Create an MPS network\n",
    "2. Canonicalize towards the second tensor\n",
    "3. Rename indexes (in a readable form)"
   ]
  },
  {
   "cell_type": "code",
   "execution_count": 7,
   "id": "215aa3e1-8f89-4aea-b99f-e04bbb2a9d9a",
   "metadata": {},
   "outputs": [],
   "source": [
    "toymps = initialize_mps(Ldim=10, bdim=10)"
   ]
  },
  {
   "cell_type": "markdown",
   "id": "c1e014fe-ee0e-41ce-9f3e-49184cb9caef",
   "metadata": {},
   "source": [
    "Inspect shape/canonicalization"
   ]
  },
  {
   "cell_type": "code",
   "execution_count": 8,
   "id": "a5736ecd-6731-4ba0-bc35-9082edd20895",
   "metadata": {},
   "outputs": [
    {
     "name": "stdout",
     "output_type": "stream",
     "text": [
      " 2 10 10 10 10 10 8 4 2 \n",
      ">─●──<──<──<──<──<─<─<─<\n",
      "│ │  │  │  │  │  │ │ │ │\n"
     ]
    }
   ],
   "source": [
    "toymps.show()"
   ]
  },
  {
   "cell_type": "markdown",
   "id": "4ca81ae6-41e1-46bb-b5d0-bc9ade08d434",
   "metadata": {},
   "source": [
    "Inspect indexes"
   ]
  },
  {
   "cell_type": "code",
   "execution_count": 9,
   "id": "01e72f03-fbe5-4773-9d9a-5699e0b95cc1",
   "metadata": {},
   "outputs": [
    {
     "data": {
      "text/plain": [
       "(Tensor(shape=(2, 2), inds=('i0', 'v0'), tags=oset(['I0'])),\n",
       " Tensor(shape=(2, 10, 2), inds=('i0', 'i1', 'v1'), tags=oset(['I1'])),\n",
       " Tensor(shape=(10, 10, 2), inds=('i1', 'i2', 'v2'), tags=oset(['I2'])),\n",
       " Tensor(shape=(10, 10, 2), inds=('i2', 'i3', 'v3'), tags=oset(['I3'])),\n",
       " Tensor(shape=(10, 10, 2), inds=('i3', 'i4', 'v4'), tags=oset(['I4'])),\n",
       " Tensor(shape=(10, 10, 2), inds=('i4', 'i5', 'v5'), tags=oset(['I5'])),\n",
       " Tensor(shape=(10, 8, 2), inds=('i5', 'i6', 'v6'), tags=oset(['I6'])),\n",
       " Tensor(shape=(8, 4, 2), inds=('i6', 'i7', 'v7'), tags=oset(['I7'])),\n",
       " Tensor(shape=(4, 2, 2), inds=('i7', 'i9', 'v8'), tags=oset(['I8'])),\n",
       " Tensor(shape=(2, 2), inds=('i9', 'v9'), tags=oset(['I9'])))"
      ]
     },
     "execution_count": 9,
     "metadata": {},
     "output_type": "execute_result"
    }
   ],
   "source": [
    "toymps.tensors"
   ]
  },
  {
   "cell_type": "code",
   "execution_count": null,
   "id": "7095c0fb-521c-4f37-ad6d-657fb6355ade",
   "metadata": {},
   "outputs": [],
   "source": []
  },
  {
   "cell_type": "code",
   "execution_count": 10,
   "id": "10d8954f-8ae1-4400-b2ec-9164d0d571af",
   "metadata": {},
   "outputs": [],
   "source": [
    "mps = initialize_mps(bdim=30)"
   ]
  },
  {
   "cell_type": "markdown",
   "id": "8c4b95c4-4850-40c4-9e31-b31d30942bbb",
   "metadata": {},
   "source": [
    "I developed two forms to compute the contraction of the mps and an image \n",
    "\n",
    "namely psi(v)\n",
    "\n",
    "1. (SLOW) actually creates the network of the image and contract it \n",
    "2. einsums\n",
    "\n",
    "the two methods outputs the same result, but the second is way faster"
   ]
  },
  {
   "cell_type": "code",
   "execution_count": 11,
   "id": "ce70cb67-c079-47e5-8b2f-dacb65ae1564",
   "metadata": {},
   "outputs": [
    {
     "name": "stdout",
     "output_type": "stream",
     "text": [
      "CPU times: user 1.99 s, sys: 3.38 ms, total: 2 s\n",
      "Wall time: 2 s\n"
     ]
    }
   ],
   "source": [
    "%%time\n",
    "\n",
    "slow_psi = quimb_transform_img2state(train_set[0]) @ mps"
   ]
  },
  {
   "cell_type": "code",
   "execution_count": 12,
   "id": "2af27cd2-172a-4288-82e7-0c1c3bf2b6e6",
   "metadata": {},
   "outputs": [
    {
     "name": "stdout",
     "output_type": "stream",
     "text": [
      "CPU times: user 11.6 ms, sys: 0 ns, total: 11.6 ms\n",
      "Wall time: 10.7 ms\n"
     ]
    }
   ],
   "source": [
    "%%time \n",
    "\n",
    "fast_psi = computepsi(mps, train_set[0])"
   ]
  },
  {
   "cell_type": "code",
   "execution_count": null,
   "id": "fdbf6be1-0008-41fd-b0c7-415b1422db98",
   "metadata": {},
   "outputs": [],
   "source": []
  },
  {
   "cell_type": "markdown",
   "id": "ba33270c-4da6-4be9-8833-415afd267603",
   "metadata": {},
   "source": [
    "### 3. Learning"
   ]
  },
  {
   "cell_type": "code",
   "execution_count": 28,
   "id": "d2237dff-5f55-4d6e-933f-a7c73aac5c5a",
   "metadata": {},
   "outputs": [],
   "source": [
    "imgs = train_set[:2]\n",
    "mps = initialize_mps(bdim=30)\n"
   ]
  },
  {
   "cell_type": "code",
   "execution_count": 29,
   "id": "b457af54-92e2-46f4-97c1-5a366a42ae81",
   "metadata": {},
   "outputs": [
    {
     "data": {
      "text/plain": [
       "1.7022363098743328e-251"
      ]
     },
     "execution_count": 29,
     "metadata": {},
     "output_type": "execute_result"
    }
   ],
   "source": [
    "# Compute probability of the first image of the training set of the untrained network\n",
    "computepsi(mps,imgs[0])**2"
   ]
  },
  {
   "cell_type": "code",
   "execution_count": 30,
   "id": "07ce80a0-8169-4302-b8c9-f47f316c06ca",
   "metadata": {},
   "outputs": [
    {
     "data": {
      "application/vnd.jupyter.widget-view+json": {
       "model_id": "d527b343d31a4407a3da4f7353cbf413",
       "version_major": 2,
       "version_minor": 0
      },
      "text/plain": [
       "  0%|          | 0/1562 [00:00<?, ?it/s]"
      ]
     },
     "metadata": {},
     "output_type": "display_data"
    },
    {
     "data": {
      "application/vnd.jupyter.widget-view+json": {
       "model_id": "9c29a40bffb14a6d8c145c36b4406efb",
       "version_major": 2,
       "version_minor": 0
      },
      "text/plain": [
       "  0%|          | 0/1562 [00:00<?, ?it/s]"
      ]
     },
     "metadata": {},
     "output_type": "display_data"
    },
    {
     "data": {
      "application/vnd.jupyter.widget-view+json": {
       "model_id": "86501c1ecf5d444a9fa6a269eafd57a0",
       "version_major": 2,
       "version_minor": 0
      },
      "text/plain": [
       "  0%|          | 0/1562 [00:00<?, ?it/s]"
      ]
     },
     "metadata": {},
     "output_type": "display_data"
    }
   ],
   "source": [
    "learning_epoch(mps, imgs, 3, 0.1)\n"
   ]
  },
  {
   "cell_type": "code",
   "execution_count": null,
   "id": "7437a4d4-cbd8-407c-a760-ff88923f3dcc",
   "metadata": {},
   "outputs": [],
   "source": [
    "# YOU CAN GET PROBABILITIES MORE THAN ONE, WE NEED TO RE-NORMALIZE THE MPS\n",
    "mps = mps / mps.norm()\n"
   ]
  },
  {
   "cell_type": "code",
   "execution_count": null,
   "id": "357b28cd-34a8-4157-ae58-e5315dd7c9e0",
   "metadata": {},
   "outputs": [],
   "source": [
    "# Compute probability of the first image of the training set of the trained network\n",
    "computepsi(mps,imgs[0])**2\n"
   ]
  },
  {
   "cell_type": "code",
   "execution_count": null,
   "id": "c7c0eab0-8fae-4e88-a00f-95006eb11ab5",
   "metadata": {},
   "outputs": [],
   "source": [
    "# Compute probability of random noise from the trained network\n",
    "computepsi(mps,np.random.randint(0,2,(784)) )**2\n"
   ]
  },
  {
   "cell_type": "code",
   "execution_count": 23,
   "id": "0f0feb5b-0e73-4360-b222-f5851b2ad4ab",
   "metadata": {},
   "outputs": [
    {
     "data": {
      "text/plain": [
       "31.233349257959436"
      ]
     },
     "execution_count": 23,
     "metadata": {},
     "output_type": "execute_result"
    }
   ],
   "source": [
    "computeNLL(mps, imgs)"
   ]
  },
  {
   "cell_type": "code",
   "execution_count": 24,
   "id": "2564b4be-41ed-4795-8c11-fa075f6a9638",
   "metadata": {},
   "outputs": [
    {
     "data": {
      "text/plain": [
       "1.5069859864582443e-17"
      ]
     },
     "execution_count": 24,
     "metadata": {},
     "output_type": "execute_result"
    }
   ],
   "source": [
    "computepsi(mps,imgs[0])**2"
   ]
  },
  {
   "cell_type": "code",
   "execution_count": 19,
   "id": "bc17ac7e-7913-4079-97d9-85f847ac0228",
   "metadata": {},
   "outputs": [],
   "source": []
  },
  {
   "cell_type": "markdown",
   "id": "05c8fcc3-31af-4a3c-91b3-ed321dee3039",
   "metadata": {},
   "source": [
    "### 4. Generation"
   ]
  },
  {
   "cell_type": "code",
   "execution_count": 33,
   "id": "a6e27620-2e1f-476f-aa17-ca4dbace0109",
   "metadata": {},
   "outputs": [
    {
     "data": {
      "image/svg+xml": [
       "<?xml version=\"1.0\" encoding=\"utf-8\" standalone=\"no\"?>\n",
       "<!DOCTYPE svg PUBLIC \"-//W3C//DTD SVG 1.1//EN\"\n",
       "  \"http://www.w3.org/Graphics/SVG/1.1/DTD/svg11.dtd\">\n",
       "<svg height=\"231.84pt\" version=\"1.1\" viewBox=\"0 0 231.84 231.84\" width=\"231.84pt\" xmlns=\"http://www.w3.org/2000/svg\" xmlns:xlink=\"http://www.w3.org/1999/xlink\">\n",
       " <metadata>\n",
       "  <rdf:RDF xmlns:cc=\"http://creativecommons.org/ns#\" xmlns:dc=\"http://purl.org/dc/elements/1.1/\" xmlns:rdf=\"http://www.w3.org/1999/02/22-rdf-syntax-ns#\">\n",
       "   <cc:Work>\n",
       "    <dc:type rdf:resource=\"http://purl.org/dc/dcmitype/StillImage\"/>\n",
       "    <dc:date>2022-03-16T20:40:22.064324</dc:date>\n",
       "    <dc:format>image/svg+xml</dc:format>\n",
       "    <dc:creator>\n",
       "     <cc:Agent>\n",
       "      <dc:title>Matplotlib v3.4.3, https://matplotlib.org/</dc:title>\n",
       "     </cc:Agent>\n",
       "    </dc:creator>\n",
       "   </cc:Work>\n",
       "  </rdf:RDF>\n",
       " </metadata>\n",
       " <defs>\n",
       "  <style type=\"text/css\">*{stroke-linecap:butt;stroke-linejoin:round;}</style>\n",
       " </defs>\n",
       " <g id=\"figure_1\">\n",
       "  <g id=\"patch_1\">\n",
       "   <path d=\"M 0 231.84 \n",
       "L 231.84 231.84 \n",
       "L 231.84 0 \n",
       "L 0 0 \n",
       "z\n",
       "\" style=\"fill:none;\"/>\n",
       "  </g>\n",
       "  <g id=\"axes_1\">\n",
       "   <g clip-path=\"url(#pdba00e7f45)\">\n",
       "    <image height=\"218\" id=\"image103aefabd1\" transform=\"scale(1 -1)translate(0 -218)\" width=\"218\" x=\"7.2\" xlink:href=\"data:image/png;base64,\n",
       "iVBORw0KGgoAAAANSUhEUgAAANoAAADaCAYAAADAHVzbAAADOklEQVR4nO3dYUrkQBhFUUvc/5bbDUjSdshNJXXO38GZRrx8kEec8Xq9Xl/wpjHG5p/v/Thtff3RH8W9z7Zn698/+nd/H/pq4C1Cg4DQICA0CAgNAkKDgNAgMOxocD4XDQJCg4DQICA0CAgNAkKDgNAgIDQICA0CQoOA0CAgNAgIDQJCg4DQICA0CAgNAkKDgNAgIDQICA0CQoOA0CAgNAgIDQJCg4DQICA0CAgNAkKDwM/VH2BFY4yrP8JlVv1fwlw0CAgNAkKDgNAgIDQICA0CQoOAHe1DK29hRxz5vt15g3PRICA0CAgNAkKDgNAgIDQICA0CdjRuY2+Dm3lnc9EgIDQICA0CQoOA0CAgNAh4vD+hmR9TH7Xq60UuGgSEBgGhQUBoEBAaBIQGAaFBwI52gSfvZPzNRYOA0CAgNAgIDQJCg4DQICA0CNjRPmQL+9uZ75vd+XvuokFAaBAQGgSEBgGhQUBoEBAaBOxo/Muqv5fxKBcNAkKDgNAgIDQICA0CQoOAx/sLmvUR/Z1fg9njokFAaBAQGgSEBgGhQUBoEBAaBJbd0Wbdkp7uyVvZFhcNAkKDgNAgIDQICA0CQoOA0CDw2B3NTnaNVXeyPS4aBIQGAaFBQGgQEBoEhAYBoUHgsTva3p6z8s5m6+q5aBAQGgSEBgGhQUBoEBAaBIQGgcfuaHuu3JJW3vBW5aJBQGgQEBoEhAYBoUFAaBBY9vH+lbzCsx4XDQJCg4DQICA0CAgNAkKDgNAgcOqOdvYe5NemcRcuGgSEBgGhQUBoEBAaBIQGAaFB4Nbvo3lvi7tw0SAgNAgIDQJCg4DQICA0CAgNAqfuaEffF7OTfcZ7evNx0SAgNAgIDQJCg4DQICA0CAgNAlO/j3bmHjTzRmcHex4XDQJCg4DQICA0CAgNAkKDwNSP98/kETolFw0CQoOA0CAgNAgIDQJCg4DQICA0CAgNAkKDgNAgIDQICA0CQoOA0CAgNAgIDQJCg4DQICA0CAgNAkKDgNAgIDQICA0CQoOA0CAgNAgIDQJCg4DQICA0CAgNAkKDgNAgIDQICA0CQoOA0CAgNAgIDQJCg4DQICA0CAgNAkKDwC9T/U7J1pvvVAAAAABJRU5ErkJggg==\" y=\"-6.64\"/>\n",
       "   </g>\n",
       "  </g>\n",
       " </g>\n",
       " <defs>\n",
       "  <clipPath id=\"pdba00e7f45\">\n",
       "   <rect height=\"217.44\" width=\"217.44\" x=\"7.2\" y=\"7.2\"/>\n",
       "  </clipPath>\n",
       " </defs>\n",
       "</svg>\n"
      ],
      "text/plain": [
       "<Figure size 432x288 with 1 Axes>"
      ]
     },
     "metadata": {
      "needs_background": "light"
     },
     "output_type": "display_data"
    }
   ],
   "source": [
    "gen = generate_sample(mps)\n",
    "gen.appendleft(0) # I didn't bother to apply the last step in the loop of the generation function\n",
    "plot_img(gen)"
   ]
  },
  {
   "cell_type": "code",
   "execution_count": null,
   "id": "1cefb6b7-16b7-4420-a8fc-0a8c0d1c32f6",
   "metadata": {},
   "outputs": [],
   "source": []
  }
 ],
 "metadata": {
  "kernelspec": {
   "display_name": "Python 3 (ipykernel)",
   "language": "python",
   "name": "python3"
  },
  "language_info": {
   "codemirror_mode": {
    "name": "ipython",
    "version": 3
   },
   "file_extension": ".py",
   "mimetype": "text/x-python",
   "name": "python",
   "nbconvert_exporter": "python",
   "pygments_lexer": "ipython3",
   "version": "3.9.7"
  }
 },
 "nbformat": 4,
 "nbformat_minor": 5
}
