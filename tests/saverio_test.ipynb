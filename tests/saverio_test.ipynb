{
 "cells": [
  {
   "cell_type": "code",
   "execution_count": 3,
   "id": "ba50b667-ac42-43e9-b973-01633a48a8b4",
   "metadata": {},
   "outputs": [
    {
     "data": {
      "image/svg+xml": [
       "<?xml version=\"1.0\" encoding=\"utf-8\" standalone=\"no\"?>\n",
       "<!DOCTYPE svg PUBLIC \"-//W3C//DTD SVG 1.1//EN\"\n",
       "  \"http://www.w3.org/Graphics/SVG/1.1/DTD/svg11.dtd\">\n",
       "<svg height=\"231.84pt\" version=\"1.1\" viewBox=\"0 0 231.84 231.84\" width=\"231.84pt\" xmlns=\"http://www.w3.org/2000/svg\" xmlns:xlink=\"http://www.w3.org/1999/xlink\">\n",
       " <metadata>\n",
       "  <rdf:RDF xmlns:cc=\"http://creativecommons.org/ns#\" xmlns:dc=\"http://purl.org/dc/elements/1.1/\" xmlns:rdf=\"http://www.w3.org/1999/02/22-rdf-syntax-ns#\">\n",
       "   <cc:Work>\n",
       "    <dc:type rdf:resource=\"http://purl.org/dc/dcmitype/StillImage\"/>\n",
       "    <dc:date>2022-03-15T14:39:01.633048</dc:date>\n",
       "    <dc:format>image/svg+xml</dc:format>\n",
       "    <dc:creator>\n",
       "     <cc:Agent>\n",
       "      <dc:title>Matplotlib v3.4.3, https://matplotlib.org/</dc:title>\n",
       "     </cc:Agent>\n",
       "    </dc:creator>\n",
       "   </cc:Work>\n",
       "  </rdf:RDF>\n",
       " </metadata>\n",
       " <defs>\n",
       "  <style type=\"text/css\">*{stroke-linecap:butt;stroke-linejoin:round;}</style>\n",
       " </defs>\n",
       " <g id=\"figure_1\">\n",
       "  <g id=\"patch_1\">\n",
       "   <path d=\"M 0 231.84 \n",
       "L 231.84 231.84 \n",
       "L 231.84 0 \n",
       "L 0 0 \n",
       "z\n",
       "\" style=\"fill:none;\"/>\n",
       "  </g>\n",
       "  <g id=\"axes_1\">\n",
       "   <g clip-path=\"url(#p81dc49dbbd)\">\n",
       "    <image height=\"218\" id=\"image67ce55b995\" transform=\"scale(1 -1)translate(0 -218)\" width=\"218\" x=\"7.2\" xlink:href=\"data:image/png;base64,\n",
       "iVBORw0KGgoAAAANSUhEUgAAANoAAADaCAYAAADAHVzbAAADL0lEQVR4nO3dbUrDQBRAUSPuf8vxr9DQ0Na5+ZhzFiBVe3kwj0mWdV3XL2Co76M/AMxAaBAQGgSEBgGhQUBoEBAaBIQGAaFBQGgQEBoEhAYBoUFAaBAQGgSEBgGhQUBoEBAaBIQGAaFBQGgQEBoEhAYBoUFAaBAQGgSEBgGhQUBoEPg5+gMcZVmWoT/f27D4y0SDgNAgIDQICA0CQoOA0CAgNAhMu0cbbeSezo7uekw0CAgNAkKDgNAgIDQICA0CQoOAPdoFfbqjs4frmWgQEBoEhAYBoUFAaBAQGgSEBoFltVTZNPq5jzy681fRRIOA0CAgNAgIDQJCg4DQIOB4/02O/+9nZAomGgSEBgGhQUBoEBAaBIQGAaFBwB5tkDO/tskO8HWf/s1NNAgIDQJCg4DQICA0CAgNAkKDgNc2Teiuq9Mz7wdNNAgIDQJCg4DQICA0CAgNAkKDgPtoBxi97/EvPR8TDQJCg4DQICA0CAgNAkKDgOP9E3L8fz8mGgSEBgGhQUBoEBAaBIQGAaFBwOPmJvRsT2fHNoaJBgGhQUBoEBAaBIQGAaFBQGgQcB/tgo58PZGvy3tMNAgIDQJCg4DQICA0CAgNAkKDgPtoF7S3yzpyz8Y2Ew0CQoOA0CAgNAgIDQJCg4DQIOA+2oRG7tl8nbaZaBAQGgSEBgGhQUBoEBAaBIQGAaFBQGgQEBoEhAYBoUFAaBAQGgQ8bo5/tXcFZ9ZrNCYaBIQGAaFBQGgQEBoEhAYBoUFg2j3azPueZ7+bVz6NYaJBQGgQEBoEhAYBoUFAaBAQGgSm3aPt+XSfdOc9HK8z0SAgNAgIDQJCg4DQICA0CAgNAvZog8x6r8v+cJuJBgGhQUBoEBAaBIQGAaFBYNrj/b1j6FmP5xnDRIOA0CAgNAgIDQJCg4DQICA0CEy7R9sz8rrHmXd0rrmMYaJBQGgQEBoEhAYBoUFAaBAQGgTs0Q5gVzUfEw0CQoOA0CAgNAgIDQJCg4DQICA0CAgNAkKDgNAgIDQICA0CQoOA0CAgNAgIDQJCg4DQICA0CAgNAkKDgNAgIDQICA0CQoOA0CAgNAgIDQJCg8Avq69moWQgIDMAAAAASUVORK5CYII=\" y=\"-6.64\"/>\n",
       "   </g>\n",
       "  </g>\n",
       " </g>\n",
       " <defs>\n",
       "  <clipPath id=\"p81dc49dbbd\">\n",
       "   <rect height=\"217.44\" width=\"217.44\" x=\"7.2\" y=\"7.2\"/>\n",
       "  </clipPath>\n",
       " </defs>\n",
       "</svg>\n"
      ],
      "text/plain": [
       "<Figure size 432x288 with 1 Axes>"
      ]
     },
     "metadata": {
      "needs_background": "light"
     },
     "output_type": "display_data"
    },
    {
     "data": {
      "image/svg+xml": [
       "<?xml version=\"1.0\" encoding=\"utf-8\" standalone=\"no\"?>\n",
       "<!DOCTYPE svg PUBLIC \"-//W3C//DTD SVG 1.1//EN\"\n",
       "  \"http://www.w3.org/Graphics/SVG/1.1/DTD/svg11.dtd\">\n",
       "<svg height=\"231.84pt\" version=\"1.1\" viewBox=\"0 0 231.84 231.84\" width=\"231.84pt\" xmlns=\"http://www.w3.org/2000/svg\" xmlns:xlink=\"http://www.w3.org/1999/xlink\">\n",
       " <metadata>\n",
       "  <rdf:RDF xmlns:cc=\"http://creativecommons.org/ns#\" xmlns:dc=\"http://purl.org/dc/elements/1.1/\" xmlns:rdf=\"http://www.w3.org/1999/02/22-rdf-syntax-ns#\">\n",
       "   <cc:Work>\n",
       "    <dc:type rdf:resource=\"http://purl.org/dc/dcmitype/StillImage\"/>\n",
       "    <dc:date>2022-03-15T14:39:01.958703</dc:date>\n",
       "    <dc:format>image/svg+xml</dc:format>\n",
       "    <dc:creator>\n",
       "     <cc:Agent>\n",
       "      <dc:title>Matplotlib v3.4.3, https://matplotlib.org/</dc:title>\n",
       "     </cc:Agent>\n",
       "    </dc:creator>\n",
       "   </cc:Work>\n",
       "  </rdf:RDF>\n",
       " </metadata>\n",
       " <defs>\n",
       "  <style type=\"text/css\">*{stroke-linecap:butt;stroke-linejoin:round;}</style>\n",
       " </defs>\n",
       " <g id=\"figure_1\">\n",
       "  <g id=\"patch_1\">\n",
       "   <path d=\"M 0 231.84 \n",
       "L 231.84 231.84 \n",
       "L 231.84 0 \n",
       "L 0 0 \n",
       "z\n",
       "\" style=\"fill:none;\"/>\n",
       "  </g>\n",
       "  <g id=\"axes_1\">\n",
       "   <g clip-path=\"url(#p11bec7cdc4)\">\n",
       "    <image height=\"218\" id=\"imagea4af835085\" transform=\"scale(1 -1)translate(0 -218)\" width=\"218\" x=\"7.2\" xlink:href=\"data:image/png;base64,\n",
       "iVBORw0KGgoAAAANSUhEUgAAANoAAADaCAYAAADAHVzbAAADBUlEQVR4nO3dUW6DMBBAwVD1/ld2L9AElcoPAzMHSMjH00peOWxjjPECpvo6+wHgCYQGAaFBQGgQEBoEhAYBoUFAaBAQGgSEBgGhQUBoEBAaBIQGAaFBQGgQEBoEhAYBoUFAaBAQGgSEBgGhQUBoEBAaBIQGAaFBQGgQEBoEhAYBoUFAaBAQGgSEBgGhQUBoEBAaBIQGAaFBQGgQEBoEhAYBoUFAaBAQGgSEBgGhQUBoEBAaBIQGAaFBQGgQEBoEhAYBoUFAaBAQGgSEBgGhQUBoEBAaBIQGAaFBQGgQEBoEhAYBoUFAaBAQGgS+z36Aq9q2bdpnjzGmffbrNffZ98z+basy0SAgNAgIDQJCg4DQICA0CAgNAvZoC9rbcz11F3VlJhoEhAYBoUFAaBAQGgSEBgGhQcAe7aC9XdaZd75Yj4kGAaFBQGgQEBoEhAYBoUHA8f4FrXyNxhWe35loEBAaBIQGAaFBQGgQEBoEhAYBe7QbckVnPSYaBIQGAaFBQGgQEBoEhAYBoUHAHu0guyr+wkSDgNAgIDQICA0CQoOA0CAgNAgIDQJCg4DQICA0CAgNAkKDgNAgIDQIuI/2hvtmx6z87rYzmWgQEBoEhAYBoUFAaBAQGgQc7y9o9hH4mauLT99956N/Ew0CQoOA0CAgNAgIDQJCg4DQIGCPtqDZe65P+yrXg+Yw0SAgNAgIDQJCg4DQICA0CAgNAvZob+zdjbryvunKz35VJhoEhAYBoUFAaBAQGgSEBgGhQUBoEBAaBIQGAaFBQGgQEBoEhAYBoUHAfbSD/vMuryffB7vzO9A+MdEgIDQICA0CQoOA0CAgNAg43j/Bnf/K7qnH93tMNAgIDQJCg4DQICA0CAgNAkKDgD3aguyi7sdEg4DQICA0CAgNAkKDgNAgIDQICA0CQoOA0CAgNAgIDQJCg4DQICA0CAgNAkKDgNAgIDQICA0CQoOA0CAgNAgIDQJCg4DQICA0CAgNAkKDgNAgIDQICA0CQoOA0CAgNAgIDQJCg4DQIPADHFs1zZECjxsAAAAASUVORK5CYII=\" y=\"-6.64\"/>\n",
       "   </g>\n",
       "  </g>\n",
       " </g>\n",
       " <defs>\n",
       "  <clipPath id=\"p11bec7cdc4\">\n",
       "   <rect height=\"217.44\" width=\"217.44\" x=\"7.2\" y=\"7.2\"/>\n",
       "  </clipPath>\n",
       " </defs>\n",
       "</svg>\n"
      ],
      "text/plain": [
       "<Figure size 432x288 with 1 Axes>"
      ]
     },
     "metadata": {
      "needs_background": "light"
     },
     "output_type": "display_data"
    },
    {
     "name": "stdout",
     "output_type": "stream",
     "text": [
      "CPU times: user 9.84 ms, sys: 174 µs, total: 10 ms\n",
      "Wall time: 10 ms\n",
      "CPU times: user 2.86 s, sys: 0 ns, total: 2.86 s\n",
      "Wall time: 2.86 s\n"
     ]
    }
   ],
   "source": [
    "%run ../functions.ipynb ;"
   ]
  },
  {
   "cell_type": "code",
   "execution_count": null,
   "id": "3d3c7881-2bf0-43b2-b367-2e416b772cf1",
   "metadata": {},
   "outputs": [],
   "source": []
  },
  {
   "cell_type": "code",
   "execution_count": 58,
   "id": "9e83976f-67d8-4dda-a542-7391071514e9",
   "metadata": {},
   "outputs": [],
   "source": [
    "def computepsiprime(mps, img, contracted_left_index):\n",
    "    '''\n",
    "    Contract the MPS with the states (pixels) of a binary{0,1} image\n",
    "    \n",
    "    PSI':    O-...-O-      -O-...-O\n",
    "             |     |        |     |\n",
    "             |     |  |  |  |     |\n",
    "    IMAGE:   O     O  O  O  O     O\n",
    "    \n",
    "    Images state are created the following way:\n",
    "    if pixel is 0 -> state = [0,1]\n",
    "    if pixel is 1 -> state = [1,0]\n",
    "    '''\n",
    "    \n",
    "    #############\n",
    "    # LEFT PART #\n",
    "    #############\n",
    "    \n",
    "    # Left most tensor\n",
    "    #          O--\n",
    "    # Compute  |  => O--\n",
    "    #          O\n",
    "    if img[0] == 0:\n",
    "        contraction_sx = np.einsum('a,ba',[0,1], mps.tensors[0].data)\n",
    "    else:\n",
    "        contraction_sx = np.einsum('a,ba',[1,0], mps.tensors[0].data)\n",
    "        \n",
    "    for k in range(1, contracted_left_index):\n",
    "        #  \n",
    "        # Compute  O--O--  => O--\n",
    "        #             |       |\n",
    "        contraction_sx = np.einsum('a,abc->bc',contraction_sx, mps.tensors[k].data)\n",
    "        \n",
    "        #          O--\n",
    "        # Compute  |  => O--\n",
    "        #          O        \n",
    "        if img[k] == 0:\n",
    "            contraction_sx = np.einsum('a,ba', [0,1], contraction_sx)\n",
    "        else:\n",
    "            contraction_sx = np.einsum('a,ba', [1,0], contraction_sx)\n",
    "    \n",
    "    ##############\n",
    "    # RIGHT PART #\n",
    "    ##############\n",
    "    \n",
    "    # Right most tensor\n",
    "    #          ---O\n",
    "    # Compute     |  => --O\n",
    "    #             O\n",
    "    if img[-1] == 0:\n",
    "        contraction_dx = np.einsum('a,ba',[0,1], mps.tensors[-1].data)\n",
    "    else:\n",
    "        contraction_dx = np.einsum('a,ba',[1,0], mps.tensors[-1].data)\n",
    "        \n",
    "    for k in range(len(mps.tensors)-2, contracted_left_index+2, -1): # CHECK THE BOUNDS\n",
    "        #  \n",
    "        # Compute  --O--O  => --O\n",
    "        #               |       |\n",
    "        \n",
    "        contraction_dx = np.einsum('a,bac->bc',contraction_dx, mps.tensors[k].data)\n",
    "        \n",
    "        #          --O\n",
    "        # Compute    |  => --O\n",
    "        #            O        \n",
    "        if img[k] == 0:\n",
    "            contraction_dx = np.einsum('a,ba', [0,1], contraction_dx)\n",
    "        else:\n",
    "            contraction_dx = np.einsum('a,ba', [1,0], contraction_dx)\n",
    "    \n",
    "    # From here on it is just speculation\n",
    "    \n",
    "    if img[contracted_left_index] == 0:\n",
    "        contraction_sx = np.einsum('a,k->ak', contraction_sx, [0,1])\n",
    "    else:\n",
    "        contraction_sx = np.einsum('a,k->ak', contraction_sx, [1,0])\n",
    "        \n",
    "    if img[contracted_left_index+1] == 0:\n",
    "        contraction_dx = np.einsum('a,k->ak', contraction_dx, [0,1])\n",
    "    else:\n",
    "        contraction_dx = np.einsum('a,k->ak', contraction_dx, [1,0])\n",
    "    \n",
    "    contraction = np.einsum('ab,cd->abcd', contraction_sx, contraction_dx)\n",
    "    \n",
    "    return contraction"
   ]
  },
  {
   "cell_type": "code",
   "execution_count": 47,
   "id": "18af5253-b475-47ac-85e0-2d9802b12abd",
   "metadata": {},
   "outputs": [],
   "source": [
    "def learning_step(mps, index, imgs, lr):\n",
    "    \n",
    "    Z = mps @ mps\n",
    "    A = (mps.tensors[index] @ mps.tensors[index+1])\n",
    "    print('######################\\nSTEP: {}'.format(index) )\n",
    "    print('A: {}'.format(A.data.shape) )\n",
    "    \n",
    "    psifrac = 0\n",
    "    for img in imgs:\n",
    "        num = computepsiprime(mps,img,index)\n",
    "        den = computepsi(mps,img)\n",
    "        \n",
    "        psifrac = psifrac + num/den\n",
    "    \n",
    "    psifrac = psifrac/imgs.shape[0]\n",
    "    \n",
    "    print('A\\': {}'.format(A.data.shape) )\n",
    "    print('psiprime: {}\\n'.format(psifrac.shape) )\n",
    "    dNLL = (A/Z) - psifrac\n",
    "    \n",
    "    A = A + lr*dNLL\n",
    "    \n",
    "    SD = A.split(['i'+str(index-1),'v'+str(index)], absorb='right')\n",
    "    \n",
    "    return SD"
   ]
  },
  {
   "cell_type": "code",
   "execution_count": 59,
   "id": "36277afa-c981-48c2-a5bd-08d1a6034073",
   "metadata": {},
   "outputs": [],
   "source": [
    "mps = initialize_mps(bdim=30)"
   ]
  },
  {
   "cell_type": "code",
   "execution_count": 60,
   "id": "43a83768-ecb5-4ee6-b0ca-2cc7b2883448",
   "metadata": {},
   "outputs": [],
   "source": [
    "imgs = train_set[:10]"
   ]
  },
  {
   "cell_type": "code",
   "execution_count": 61,
   "id": "81de0e61-8618-45eb-8c89-06ddd08af011",
   "metadata": {},
   "outputs": [
    {
     "name": "stderr",
     "output_type": "stream",
     "text": [
      "  0%|                                                   | 0/781 [00:00<?, ?it/s]"
     ]
    }
   ],
   "source": [
    "progress = tqdm(range(1,len(mps.tensors)-2))"
   ]
  },
  {
   "cell_type": "code",
   "execution_count": null,
   "id": "92b9f4b8-242a-4411-bee6-3b610978a7bf",
   "metadata": {},
   "outputs": [],
   "source": [
    "for index in progress:\n",
    "    A = learning_step(mps,index,imgs,0.08)\n",
    "    \n",
    "    mps.tensors[index].modify(data=np.transpose(A.tensors[0].data,(0,2,1)))\n",
    "    mps.tensors[index+1].modify(data=A.tensors[1].data)\n",
    "    \n",
    "    p0 = computepsi(mps,imgs[0])**2\n",
    "    progress.set_description('P(0) = {}'.format(p0))"
   ]
  },
  {
   "cell_type": "code",
   "execution_count": 63,
   "id": "8b2bcfa3-e4ff-4fad-b4d8-4edfbd772e08",
   "metadata": {},
   "outputs": [
    {
     "data": {
      "text/plain": [
       "0.002094112856590995"
      ]
     },
     "execution_count": 63,
     "metadata": {},
     "output_type": "execute_result"
    }
   ],
   "source": [
    "computepsi(mps,imgs[0])**2"
   ]
  },
  {
   "cell_type": "code",
   "execution_count": 64,
   "id": "80b19e26-ddcb-4947-8cbc-06d38aab1571",
   "metadata": {},
   "outputs": [
    {
     "data": {
      "text/plain": [
       "2.2365996628196876e-246"
      ]
     },
     "execution_count": 64,
     "metadata": {},
     "output_type": "execute_result"
    }
   ],
   "source": [
    "computepsi(mps,np.random.randint(0,2,(784)) )**2"
   ]
  },
  {
   "cell_type": "code",
   "execution_count": null,
   "id": "9ef9c011-083b-4e2f-abde-e6c762ba8b50",
   "metadata": {},
   "outputs": [],
   "source": []
  }
 ],
 "metadata": {
  "kernelspec": {
   "display_name": "Python 3 (ipykernel)",
   "language": "python",
   "name": "python3"
  },
  "language_info": {
   "codemirror_mode": {
    "name": "ipython",
    "version": 3
   },
   "file_extension": ".py",
   "mimetype": "text/x-python",
   "name": "python",
   "nbconvert_exporter": "python",
   "pygments_lexer": "ipython3",
   "version": "3.9.7"
  }
 },
 "nbformat": 4,
 "nbformat_minor": 5
}
