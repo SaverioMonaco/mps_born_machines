{
 "cells": [
  {
   "cell_type": "code",
   "execution_count": 1,
   "id": "ba50b667-ac42-43e9-b973-01633a48a8b4",
   "metadata": {},
   "outputs": [
    {
     "data": {
      "image/png": "[encoded data removed]",
      "text/plain": [
       "<Figure size 432x288 with 1 Axes>"
      ]
     },
     "metadata": {
      "needs_background": "light"
     },
     "output_type": "display_data"
    },
    {
     "data": {
      "image/svg+xml": [
       "<?xml version=\"1.0\" encoding=\"utf-8\" standalone=\"no\"?>\n",
       "<!DOCTYPE svg PUBLIC \"-//W3C//DTD SVG 1.1//EN\"\n",
       "  \"http://www.w3.org/Graphics/SVG/1.1/DTD/svg11.dtd\">\n",
       "<svg height=\"231.84pt\" version=\"1.1\" viewBox=\"0 0 231.84 231.84\" width=\"231.84pt\" xmlns=\"http://www.w3.org/2000/svg\" xmlns:xlink=\"http://www.w3.org/1999/xlink\">\n",
       " <metadata>\n",
       "  <rdf:RDF xmlns:cc=\"http://creativecommons.org/ns#\" xmlns:dc=\"http://purl.org/dc/elements/1.1/\" xmlns:rdf=\"http://www.w3.org/1999/02/22-rdf-syntax-ns#\">\n",
       "   <cc:Work>\n",
       "    <dc:type rdf:resource=\"http://purl.org/dc/dcmitype/StillImage\"/>\n",
       "    <dc:date>2022-03-15T09:22:48.994645</dc:date>\n",
       "    <dc:format>image/svg+xml</dc:format>\n",
       "    <dc:creator>\n",
       "     <cc:Agent>\n",
       "      <dc:title>Matplotlib v3.4.3, https://matplotlib.org/</dc:title>\n",
       "     </cc:Agent>\n",
       "    </dc:creator>\n",
       "   </cc:Work>\n",
       "  </rdf:RDF>\n",
       " </metadata>\n",
       " <defs>\n",
       "  <style type=\"text/css\">*{stroke-linecap:butt;stroke-linejoin:round;}</style>\n",
       " </defs>\n",
       " <g id=\"figure_1\">\n",
       "  <g id=\"patch_1\">\n",
       "   <path d=\"M 0 231.84 \n",
       "L 231.84 231.84 \n",
       "L 231.84 0 \n",
       "L 0 0 \n",
       "z\n",
       "\" style=\"fill:none;\"/>\n",
       "  </g>\n",
       "  <g id=\"axes_1\">\n",
       "   <g clip-path=\"url(#p9befb8ddd8)\">\n",
       "    <image height=\"218\" id=\"image1ef61e7abc\" transform=\"scale(1 -1)translate(0 -218)\" width=\"218\" x=\"7.2\" xlink:href=\"data:image/png;base64,\n",
       "iVBORw0KGgoAAAANSUhEUgAAANoAAADaCAYAAADAHVzbAAADFUlEQVR4nO3cUWrDMAAFwbr0/ldWL5AmUKO1bM38JySBReCHcowxxhcw1ffVHwB2IDQICA0CQoOA0CAgNAgIDQJCg4DQICA0CAgNAkKDgNAgIDQICA0CQoOA0CAgNAgIDQJCg4DQICA0CAgNAkKDgNAgIDQICA0CQoOA0CAgNAgIDQJCg4DQICA0CAgNAkKDgNAgIDQICA0CQoOA0CAgNAgIDQJCg4DQICA0CAgNAkKDgNAgIDQICA0CQoOA0CAgNAgIDQJCg4DQICA0CAgNAkKDgNAgIDQICA0CQoOA0CAgNAgIDQJCg4DQIPBz9QdgLcdxTH3/McbU91+VEw0CQoOA0CAgNAgIDQJCg4DQIGBH+8PZPWnXvYjXnGgQEBoEhAYBoUFAaBAQGgSEBoFtd7TZ965mvr+N7n6caBAQGgSEBgGhQUBoEBAaBB77eH/lay5nP9un13v8vx4nGgSEBgGhQUBoEBAaBIQGAaFB4Bg3Hl3O7FE3/tqXboQ2vP9xokFAaBAQGgSEBgGhQUBoEBAaBJa+jzb7L+F29e53tYPN4USDgNAgIDQICA0CQoOA0CAgNAgsvaOd8eQ96NN3u3J/dF/tNScaBIQGAaFBQGgQEBoEhAYBoUHgsTvazs7sbO4AzuFEg4DQICA0CAgNAkKDgNAgsPTj/ZmPqXe9rjGb3/U1JxoEhAYBoUFAaBAQGgSEBgGhQWDpHW2mnXe2d9/NNZk5nGgQEBoEhAYBoUFAaBAQGgSEBoFb72gz96An70lP3ghX5USDgNAgIDQICA0CQoOA0CAgNAjcekd758x/Qu7MxjaHEw0CQoOA0CAgNAgIDQJCg4DQIPDYHe0TexElJxoEhAYBoUFAaBAQGgSEBgGhQUBoEBAaBIQGAaFBQGgQEBoEhAYBoUFAaBAQGgSEBgGhQUBoEBAaBIQGAaFBQGgQEBoEhAYBoUFAaBAQGgSEBgGhQUBoEBAaBIQGAaFBQGgQEBoEhAYBoUFAaBAQGgSEBgGhQUBoEBAaBIQGAaFBQGgQEBoEhAYBoUFAaBAQGgR+AY6LTsOs6jrUAAAAAElFTkSuQmCC\" y=\"-6.64\"/>\n",
       "   </g>\n",
       "  </g>\n",
       " </g>\n",
       " <defs>\n",
       "  <clipPath id=\"p9befb8ddd8\">\n",
       "   <rect height=\"217.44\" width=\"217.44\" x=\"7.2\" y=\"7.2\"/>\n",
       "  </clipPath>\n",
       " </defs>\n",
       "</svg>\n"
      ],
      "text/plain": [
       "<Figure size 432x288 with 1 Axes>"
      ]
     },
     "metadata": {
      "needs_background": "light"
     },
     "output_type": "display_data"
    },
    {
     "name": "stdout",
     "output_type": "stream",
     "text": [
      "CPU times: user 8.43 ms, sys: 46 µs, total: 8.48 ms\n",
      "Wall time: 8.52 ms\n",
      "CPU times: user 1.94 s, sys: 0 ns, total: 1.94 s\n",
      "Wall time: 1.94 s\n"
     ]
    }
   ],
   "source": [
    "%run ../functions.ipynb ;"
   ]
  },
  {
   "cell_type": "code",
   "execution_count": null,
   "id": "9e83976f-67d8-4dda-a542-7391071514e9",
   "metadata": {},
   "outputs": [],
   "source": [
    "def computepsiprime(mps, img, contracted_left_index):\n",
    "    '''\n",
    "    Contract the MPS with the states (pixels) of a binary{0,1} image\n",
    "    \n",
    "    PSI':    O-...-O-      -O-...-O\n",
    "             |     |        |     |\n",
    "             |     |  |  |  |     |\n",
    "    IMAGE:   O     O  O  O  O     O\n",
    "    \n",
    "    Images state are created the following way:\n",
    "    if pixel is 0 -> state = [0,1]\n",
    "    if pixel is 1 -> state = [1,0]\n",
    "    '''\n",
    "    \n",
    "    #############\n",
    "    # LEFT PART #\n",
    "    #############\n",
    "    \n",
    "    # Left most tensor\n",
    "    #          O--\n",
    "    # Compute  |  => O--\n",
    "    #          O\n",
    "    if img[0] == 0:\n",
    "        contraction_sx = np.einsum('a,ba',[0,1], mps.tensors[0].data)\n",
    "    else:\n",
    "        contraction_sx = np.einsum('a,ba',[1,0], mps.tensors[0].data)\n",
    "        \n",
    "    for k in range(1, contracted_left_index):\n",
    "        #  \n",
    "        # Compute  O--O--  => O--\n",
    "        #             |       |\n",
    "        contraction_sx = np.einsum('a,abc->bc',contraction_sx, mps.tensors[k].data)\n",
    "        \n",
    "        #          O--\n",
    "        # Compute  |  => O--\n",
    "        #          O        \n",
    "        if img[k] == 0:\n",
    "            contraction_sx = np.einsum('a,ba', [0,1], contraction_sx)\n",
    "        else:\n",
    "            contraction_sx = np.einsum('a,ba', [1,0], contraction_sx)\n",
    "    \n",
    "    ##############\n",
    "    # RIGHT PART #\n",
    "    ##############\n",
    "    \n",
    "    # Right most tensor\n",
    "    #          ---O\n",
    "    # Compute     |  => --O\n",
    "    #             O\n",
    "    if img[-1] == 0:\n",
    "        contraction_dx = np.einsum('a,ba',[0,1], mps.tensors[-1].data)\n",
    "    else:\n",
    "        contraction_dx = np.einsum('a,ba',[1,0], mps.tensors[-1].data)\n",
    "        \n",
    "    for k in range(len(mps.tensors)-2, contracted_left_index+2, -1): # CHECK THE BOUNDS\n",
    "        #  \n",
    "        # Compute  --O--O  => --O\n",
    "        #               |       |\n",
    "        \n",
    "        contraction_dx = np.einsum('a,bac->bc',contraction_dx, mps.tensors[k].data)\n",
    "        \n",
    "        #          --O\n",
    "        # Compute    |  => --O\n",
    "        #            O        \n",
    "        if img[k] == 0:\n",
    "            contraction_dx = np.einsum('a,ba', [0,1], contraction_dx)\n",
    "        else:\n",
    "            contraction_dx = np.einsum('a,ba', [1,0], contraction_dx)\n",
    "    \n",
    "    # From here on it is just speculation\n",
    "    \n",
    "    if img[contracted_left_index] == 0:\n",
    "        contraction_sx = np.einsum('a,k->ak', contraction_sx, [0,1])\n",
    "    else:\n",
    "        contraction_sx = np.einsum('a,k->ak', contraction_sx, [1,0])\n",
    "        \n",
    "    if img[contracted_left_index+1] == 0:\n",
    "        contraction_dx = np.einsum('a,k->ak', contraction_dx, [1,0])\n",
    "    else:\n",
    "        contraction_dx = np.einsum('a,k->ak', contraction_dx, [1,0])\n",
    "    \n",
    "    contraction = np.einsum('ab,cd->abcd', contraction_sx, contraction_dx)\n",
    "    \n",
    "    return contraction"
   ]
  },
  {
   "cell_type": "code",
   "execution_count": null,
   "id": "18af5253-b475-47ac-85e0-2d9802b12abd",
   "metadata": {},
   "outputs": [],
   "source": [
    "def learning_step(mps, index, imgs, lr):\n",
    "    \n",
    "    Z = mps @ mps\n",
    "    A = (mps.tensors[index] @ mps.tensors[index+1])\n",
    "    \n",
    "    psifrac = 0\n",
    "    for img in imgs:\n",
    "        num = computepsiprime(mps,img,index)\n",
    "        den = computepsi(mps,img)\n",
    "        \n",
    "        psifrac = num/den\n",
    "    \n",
    "    psifrac = psifrac/imgs.shape[0]\n",
    "    \n",
    "    dNLL = (A/Z) - psifrac\n",
    "    \n",
    "    A = A + lr*dNLL\n",
    "    \n",
    "    SD = A.split(['i'+str(index-1),'v'+str(index)], absorb='right')\n",
    "    \n",
    "    return SD"
   ]
  },
  {
   "cell_type": "code",
   "execution_count": 210,
   "id": "36277afa-c981-48c2-a5bd-08d1a6034073",
   "metadata": {},
   "outputs": [],
   "source": [
    "mps = initialize_mps(bdim=30)"
   ]
  },
  {
   "cell_type": "code",
   "execution_count": 211,
   "id": "43a83768-ecb5-4ee6-b0ca-2cc7b2883448",
   "metadata": {},
   "outputs": [],
   "source": [
    "imgs = train_set[:10]"
   ]
  },
  {
   "cell_type": "code",
   "execution_count": 213,
   "id": "81de0e61-8618-45eb-8c89-06ddd08af011",
   "metadata": {},
   "outputs": [
    {
     "name": "stderr",
     "output_type": "stream",
     "text": [
      "  0%|                                                   | 0/781 [00:00<?, ?it/s]"
     ]
    }
   ],
   "source": [
    "progress = tqdm(range(1,len(mps.tensors)-2))"
   ]
  },
  {
   "cell_type": "code",
   "execution_count": 214,
   "id": "92b9f4b8-242a-4411-bee6-3b610978a7bf",
   "metadata": {},
   "outputs": [
    {
     "name": "stderr",
     "output_type": "stream",
     "text": [
      "P(0) = 3.2704346524523285e-203:  99%|████████▉| 776/781 [03:43<00:01,  3.47it/s]\n"
     ]
    },
    {
     "ename": "ValueError",
     "evalue": "operands could not be broadcast together with shapes (30,2,30,2) (30,2,16,2) ",
     "output_type": "error",
     "traceback": [
      "\u001b[0;31m---------------------------------------------------------------------------\u001b[0m",
      "\u001b[0;31mValueError\u001b[0m                                Traceback (most recent call last)",
      "\u001b[0;32m/tmp/ipykernel_4281/1286421270.py\u001b[0m in \u001b[0;36m<module>\u001b[0;34m\u001b[0m\n\u001b[1;32m      1\u001b[0m \u001b[0;32mfor\u001b[0m \u001b[0mindex\u001b[0m \u001b[0;32min\u001b[0m \u001b[0mprogress\u001b[0m\u001b[0;34m:\u001b[0m\u001b[0;34m\u001b[0m\u001b[0;34m\u001b[0m\u001b[0m\n\u001b[0;32m----> 2\u001b[0;31m     \u001b[0mA\u001b[0m \u001b[0;34m=\u001b[0m \u001b[0mlearning_step\u001b[0m\u001b[0;34m(\u001b[0m\u001b[0mmps\u001b[0m\u001b[0;34m,\u001b[0m\u001b[0mindex\u001b[0m\u001b[0;34m,\u001b[0m\u001b[0mimgs\u001b[0m\u001b[0;34m,\u001b[0m\u001b[0;36m0.08\u001b[0m\u001b[0;34m)\u001b[0m\u001b[0;34m\u001b[0m\u001b[0;34m\u001b[0m\u001b[0m\n\u001b[0m\u001b[1;32m      3\u001b[0m \u001b[0;34m\u001b[0m\u001b[0m\n\u001b[1;32m      4\u001b[0m     \u001b[0mmps\u001b[0m\u001b[0;34m.\u001b[0m\u001b[0mtensors\u001b[0m\u001b[0;34m[\u001b[0m\u001b[0mindex\u001b[0m\u001b[0;34m]\u001b[0m\u001b[0;34m.\u001b[0m\u001b[0mmodify\u001b[0m\u001b[0;34m(\u001b[0m\u001b[0mdata\u001b[0m\u001b[0;34m=\u001b[0m\u001b[0mnp\u001b[0m\u001b[0;34m.\u001b[0m\u001b[0mtranspose\u001b[0m\u001b[0;34m(\u001b[0m\u001b[0mA\u001b[0m\u001b[0;34m.\u001b[0m\u001b[0mtensors\u001b[0m\u001b[0;34m[\u001b[0m\u001b[0;36m0\u001b[0m\u001b[0;34m]\u001b[0m\u001b[0;34m.\u001b[0m\u001b[0mdata\u001b[0m\u001b[0;34m,\u001b[0m\u001b[0;34m(\u001b[0m\u001b[0;36m0\u001b[0m\u001b[0;34m,\u001b[0m\u001b[0;36m2\u001b[0m\u001b[0;34m,\u001b[0m\u001b[0;36m1\u001b[0m\u001b[0;34m)\u001b[0m\u001b[0;34m)\u001b[0m\u001b[0;34m)\u001b[0m\u001b[0;34m\u001b[0m\u001b[0;34m\u001b[0m\u001b[0m\n\u001b[1;32m      5\u001b[0m     \u001b[0mmps\u001b[0m\u001b[0;34m.\u001b[0m\u001b[0mtensors\u001b[0m\u001b[0;34m[\u001b[0m\u001b[0mindex\u001b[0m\u001b[0;34m+\u001b[0m\u001b[0;36m1\u001b[0m\u001b[0;34m]\u001b[0m\u001b[0;34m.\u001b[0m\u001b[0mmodify\u001b[0m\u001b[0;34m(\u001b[0m\u001b[0mdata\u001b[0m\u001b[0;34m=\u001b[0m\u001b[0mA\u001b[0m\u001b[0;34m.\u001b[0m\u001b[0mtensors\u001b[0m\u001b[0;34m[\u001b[0m\u001b[0;36m1\u001b[0m\u001b[0;34m]\u001b[0m\u001b[0;34m.\u001b[0m\u001b[0mdata\u001b[0m\u001b[0;34m)\u001b[0m\u001b[0;34m\u001b[0m\u001b[0;34m\u001b[0m\u001b[0m\n",
      "\u001b[0;32m/tmp/ipykernel_4281/1674924347.py\u001b[0m in \u001b[0;36mlearning_step\u001b[0;34m(mps, index, imgs, lr)\u001b[0m\n\u001b[1;32m     13\u001b[0m     \u001b[0mpsifrac\u001b[0m \u001b[0;34m=\u001b[0m \u001b[0mpsifrac\u001b[0m\u001b[0;34m/\u001b[0m\u001b[0mimgs\u001b[0m\u001b[0;34m.\u001b[0m\u001b[0mshape\u001b[0m\u001b[0;34m[\u001b[0m\u001b[0;36m0\u001b[0m\u001b[0;34m]\u001b[0m\u001b[0;34m\u001b[0m\u001b[0;34m\u001b[0m\u001b[0m\n\u001b[1;32m     14\u001b[0m \u001b[0;34m\u001b[0m\u001b[0m\n\u001b[0;32m---> 15\u001b[0;31m     \u001b[0mdNLL\u001b[0m \u001b[0;34m=\u001b[0m \u001b[0;34m(\u001b[0m\u001b[0mA\u001b[0m\u001b[0;34m/\u001b[0m\u001b[0mZ\u001b[0m\u001b[0;34m)\u001b[0m \u001b[0;34m-\u001b[0m \u001b[0mpsifrac\u001b[0m\u001b[0;34m\u001b[0m\u001b[0;34m\u001b[0m\u001b[0m\n\u001b[0m\u001b[1;32m     16\u001b[0m \u001b[0;34m\u001b[0m\u001b[0m\n\u001b[1;32m     17\u001b[0m     \u001b[0mA\u001b[0m \u001b[0;34m=\u001b[0m \u001b[0mA\u001b[0m \u001b[0;34m+\u001b[0m \u001b[0mlr\u001b[0m\u001b[0;34m*\u001b[0m\u001b[0mdNLL\u001b[0m\u001b[0;34m\u001b[0m\u001b[0;34m\u001b[0m\u001b[0m\n",
      "\u001b[0;32m~/anaconda3/lib/python3.9/site-packages/quimb/tensor/tensor_core.py\u001b[0m in \u001b[0;36m_promote_array_func\u001b[0;34m(self, other)\u001b[0m\n\u001b[1;32m   2985\u001b[0m                 tags=self.tags | other.tags)\n\u001b[1;32m   2986\u001b[0m         \u001b[0;32melse\u001b[0m\u001b[0;34m:\u001b[0m\u001b[0;34m\u001b[0m\u001b[0;34m\u001b[0m\u001b[0m\n\u001b[0;32m-> 2987\u001b[0;31m             return Tensor(data=op(self.data, other),\n\u001b[0m\u001b[1;32m   2988\u001b[0m                           inds=self.inds, tags=self.tags)\n\u001b[1;32m   2989\u001b[0m \u001b[0;34m\u001b[0m\u001b[0m\n",
      "\u001b[0;31mValueError\u001b[0m: operands could not be broadcast together with shapes (30,2,30,2) (30,2,16,2) "
     ]
    }
   ],
   "source": [
    "for index in progress:\n",
    "    A = learning_step(mps,index,imgs,0.08)\n",
    "    \n",
    "    mps.tensors[index].modify(data=np.transpose(A.tensors[0].data,(0,2,1)))\n",
    "    mps.tensors[index+1].modify(data=A.tensors[1].data)\n",
    "    \n",
    "    p0 = computepsi(mps,imgs[0])**2\n",
    "    progress.set_description('P(0) = {}'.format(p0))"
   ]
  },
  {
   "cell_type": "code",
   "execution_count": 215,
   "id": "8b2bcfa3-e4ff-4fad-b4d8-4edfbd772e08",
   "metadata": {},
   "outputs": [
    {
     "data": {
      "text/plain": [
       "3.2704346524523285e-203"
      ]
     },
     "execution_count": 215,
     "metadata": {},
     "output_type": "execute_result"
    }
   ],
   "source": [
    "computepsi(mps,imgs[0])**2"
   ]
  },
  {
   "cell_type": "code",
   "execution_count": 216,
   "id": "80b19e26-ddcb-4947-8cbc-06d38aab1571",
   "metadata": {},
   "outputs": [
    {
     "data": {
      "text/plain": [
       "7.928266634799545e-257"
      ]
     },
     "execution_count": 216,
     "metadata": {},
     "output_type": "execute_result"
    }
   ],
   "source": [
    "computepsi(mps,np.random.randint(0,2,(784)) )**2"
   ]
  },
  {
   "cell_type": "code",
   "execution_count": null,
   "id": "9da0e851-f013-48c1-a8a6-b85705c5e93a",
   "metadata": {},
   "outputs": [],
   "source": []
  }
 ],
 "metadata": {
  "kernelspec": {
   "display_name": "Python 3 (ipykernel)",
   "language": "python",
   "name": "python3"
  },
  "language_info": {
   "codemirror_mode": {
    "name": "ipython",
    "version": 3
   },
   "file_extension": ".py",
   "mimetype": "text/x-python",
   "name": "python",
   "nbconvert_exporter": "python",
   "pygments_lexer": "ipython3",
   "version": "3.9.7"
  }
 },
 "nbformat": 4,
 "nbformat_minor": 5
}
