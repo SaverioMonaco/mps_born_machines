{
 "cells": [
  {
   "cell_type": "code",
   "execution_count": 1,
   "id": "ba50b667-ac42-43e9-b973-01633a48a8b4",
   "metadata": {},
   "outputs": [
    {
     "data": {
      "image/svg+xml": [
       "<?xml version=\"1.0\" encoding=\"utf-8\" standalone=\"no\"?>\n",
       "<!DOCTYPE svg PUBLIC \"-//W3C//DTD SVG 1.1//EN\"\n",
       "  \"http://www.w3.org/Graphics/SVG/1.1/DTD/svg11.dtd\">\n",
       "<svg height=\"231.84pt\" version=\"1.1\" viewBox=\"0 0 231.84 231.84\" width=\"231.84pt\" xmlns=\"http://www.w3.org/2000/svg\" xmlns:xlink=\"http://www.w3.org/1999/xlink\">\n",
       " <metadata>\n",
       "  <rdf:RDF xmlns:cc=\"http://creativecommons.org/ns#\" xmlns:dc=\"http://purl.org/dc/elements/1.1/\" xmlns:rdf=\"http://www.w3.org/1999/02/22-rdf-syntax-ns#\">\n",
       "   <cc:Work>\n",
       "    <dc:type rdf:resource=\"http://purl.org/dc/dcmitype/StillImage\"/>\n",
       "    <dc:date>2022-03-15T18:37:13.687065</dc:date>\n",
       "    <dc:format>image/svg+xml</dc:format>\n",
       "    <dc:creator>\n",
       "     <cc:Agent>\n",
       "      <dc:title>Matplotlib v3.4.3, https://matplotlib.org/</dc:title>\n",
       "     </cc:Agent>\n",
       "    </dc:creator>\n",
       "   </cc:Work>\n",
       "  </rdf:RDF>\n",
       " </metadata>\n",
       " <defs>\n",
       "  <style type=\"text/css\">*{stroke-linecap:butt;stroke-linejoin:round;}</style>\n",
       " </defs>\n",
       " <g id=\"figure_1\">\n",
       "  <g id=\"patch_1\">\n",
       "   <path d=\"M 0 231.84 \n",
       "L 231.84 231.84 \n",
       "L 231.84 0 \n",
       "L 0 0 \n",
       "z\n",
       "\" style=\"fill:none;\"/>\n",
       "  </g>\n",
       "  <g id=\"axes_1\">\n",
       "   <g clip-path=\"url(#pc1ba3209c3)\">\n",
       "    <image height=\"218\" id=\"imagef6993e4c4c\" transform=\"scale(1 -1)translate(0 -218)\" width=\"218\" x=\"7.2\" xlink:href=\"data:image/png;base64,\n",
       "iVBORw0KGgoAAAANSUhEUgAAANoAAADaCAYAAADAHVzbAAADSElEQVR4nO3d0YqjQBBA0XHY//9l93lhY0Dj7W5zznuIOHMpsOi47fu+/wC3+h19AfANhAYBoUFAaBAQGgSEBgGhQUBoEBAaBIQGAaFBQGgQEBoEhAYBoUFAaBAQGgSEBgGhQUBoEBAaBIQGgT+jL+Cptm0b9t1+QXA+JhoEhAYBoUFAaBAQGgSEBgGhQcAe7YWRe7Cr7rx2O7pzTDQICA0CQoOA0CAgNAgIDQJCg8Bj92gr78FmdvW+fusezkSDgNAgIDQICA0CQoOA0CAgNAg8do822sz7opE7xqPvnvmeXWWiQUBoEBAaBIQGAaFBQGgQEBoEtn3h5YV3kPXc83NMNAgIDQJCg4DQICA0CAgNAo7JvLDyo+Q7vbsvfubv/0w0CAgNAkKDgNAgIDQICA0CQoOAPRofdeee7d1nZ959mmgQEBoEhAYBoUFAaBAQGgSEBgGhQUBoEBAaBIQGAaFBQGgQEBoEhAYB59FIHZ0Zu/qbkDOfVzPRICA0CAgNAkKDgNAgIDQICA0CQoOA0CAgNAgIDQJCg4DQICA0CDgmM8DMxzlGuvOVT6OZaBAQGgSEBgGhQUBoEBAaBIQGAXu0m6y88+HzTDQICA0CQoOA0CAgNAgIDQJCg4A92gvOjPFJJhoEhAYBoUFAaBAQGgSEBgGhQWDpPdrRLst5sPU8+W9mokFAaBAQGgSEBgGhQUBoEFj68f6RlV8B5IjOOTPfFxMNAkKDgNAgIDQICA0CQoOA0CDw2D3a3a7suq7u8Fbes828v7yTiQYBoUFAaBAQGgSEBgGhQUBoENj2mZcuA33rvmfmc3wr/6uaaBAQGgSEBgGhQUBoEBAaBIQGAefR+Ic92T1MNAgIDQJCg4DQICA0CAgNAkKDgD3aCzOfy1rZk3dlR0w0CAgNAkKDgNAgIDQICA0CHu+fdOUx9cqvXeIcEw0CQoOA0CAgNAgIDQJCg4DQIGCPNoA92fcx0SAgNAgIDQJCg4DQICA0CAgNAkKDgNAgIDQICA0CQoOA0CAgNAgIDQJCg4DQICA0CAgNAkKDgNAgIDQICA0CQoOA0CAgNAgIDQJCg4DQICA0CAgNAkKDgNAgIDQICA0CQoOA0CAgNAj8BZfZZ8tZEBWrAAAAAElFTkSuQmCC\" y=\"-6.64\"/>\n",
       "   </g>\n",
       "  </g>\n",
       " </g>\n",
       " <defs>\n",
       "  <clipPath id=\"pc1ba3209c3\">\n",
       "   <rect height=\"217.44\" width=\"217.44\" x=\"7.2\" y=\"7.2\"/>\n",
       "  </clipPath>\n",
       " </defs>\n",
       "</svg>\n"
      ],
      "text/plain": [
       "<Figure size 432x288 with 1 Axes>"
      ]
     },
     "metadata": {
      "needs_background": "light"
     },
     "output_type": "display_data"
    },
    {
     "data": {
      "image/svg+xml": [
       "<?xml version=\"1.0\" encoding=\"utf-8\" standalone=\"no\"?>\n",
       "<!DOCTYPE svg PUBLIC \"-//W3C//DTD SVG 1.1//EN\"\n",
       "  \"http://www.w3.org/Graphics/SVG/1.1/DTD/svg11.dtd\">\n",
       "<svg height=\"231.84pt\" version=\"1.1\" viewBox=\"0 0 231.84 231.84\" width=\"231.84pt\" xmlns=\"http://www.w3.org/2000/svg\" xmlns:xlink=\"http://www.w3.org/1999/xlink\">\n",
       " <metadata>\n",
       "  <rdf:RDF xmlns:cc=\"http://creativecommons.org/ns#\" xmlns:dc=\"http://purl.org/dc/elements/1.1/\" xmlns:rdf=\"http://www.w3.org/1999/02/22-rdf-syntax-ns#\">\n",
       "   <cc:Work>\n",
       "    <dc:type rdf:resource=\"http://purl.org/dc/dcmitype/StillImage\"/>\n",
       "    <dc:date>2022-03-15T18:37:13.990776</dc:date>\n",
       "    <dc:format>image/svg+xml</dc:format>\n",
       "    <dc:creator>\n",
       "     <cc:Agent>\n",
       "      <dc:title>Matplotlib v3.4.3, https://matplotlib.org/</dc:title>\n",
       "     </cc:Agent>\n",
       "    </dc:creator>\n",
       "   </cc:Work>\n",
       "  </rdf:RDF>\n",
       " </metadata>\n",
       " <defs>\n",
       "  <style type=\"text/css\">*{stroke-linecap:butt;stroke-linejoin:round;}</style>\n",
       " </defs>\n",
       " <g id=\"figure_1\">\n",
       "  <g id=\"patch_1\">\n",
       "   <path d=\"M 0 231.84 \n",
       "L 231.84 231.84 \n",
       "L 231.84 0 \n",
       "L 0 0 \n",
       "z\n",
       "\" style=\"fill:none;\"/>\n",
       "  </g>\n",
       "  <g id=\"axes_1\">\n",
       "   <g clip-path=\"url(#pcb66d3fee6)\">\n",
       "    <image height=\"218\" id=\"imagebaea4dbf8a\" transform=\"scale(1 -1)translate(0 -218)\" width=\"218\" x=\"7.2\" xlink:href=\"data:image/png;base64,\n",
       "iVBORw0KGgoAAAANSUhEUgAAANoAAADaCAYAAADAHVzbAAAC80lEQVR4nO3dQWrDMBBA0br0/ldWt11FEFffsfXevhACnwEN0xxjjPEFLPV99QeAHQgNAkKDgNAgIDQICA0CQoOA0CAgNAgIDQJCg4DQICA0CAgNAkKDgNAgIDQICA0CQoOA0CAgNAgIDQJCg4DQICA0CAgNAkKDgNAgIDQICA0CQoOA0CAgNAgIDQJCg4DQICA0CAgNAkKDgNAgIDQICA0CQoOA0CAgNAgIDQJCg4DQICA0CAgNAkKDgNAgIDQICA0CQoOA0CAgNAgIDQJCg4DQICA0CAgNAkKDgNAgIDQICA0CQoOA0CAgNAj8XP0B6B3H8fbfjjH+8ZPsw0SDgNAgIDQICA0CQoOA0CAgNAgIDQJCg4DQICA0CAgNAkKDgNAgIDQIuEe7oTP3ZDPuzdYw0SAgNAgIDQJCg4DQICA0CGz7vL/yifzOZt+L5//3mGgQEBoEhAYBoUFAaBAQGgSEBoHH7tHO7snuvC/ys0yfx0SDgNAgIDQICA0CQoOA0CAgNAg8do822wftfI9mV9Yz0SAgNAgIDQJCg4DQICA0CAgNAo/do82s3rPZVfGXiQYBoUFAaBAQGgSEBgGhQUBoENh2jzZzdg/2ag9nx7YfEw0CQoOA0CAgNAgIDQJCg4Dn/QvMTnA8/z+PiQYBoUFAaBAQGgSEBgGhQUBoELBH+0A7/6TUU5loEBAaBIQGAaFBQGgQEBoEhAYBe7RFVt6U2bPdj4kGAaFBQGgQEBoEhAYBoUFAaBAQGgSEBgGhQUBoEBAaBIQGAaFBQGgQcI92Q7NbN/dqn8dEg4DQICA0CAgNAkKDgNAg4Hn/gVb+qzveY6JBQGgQEBoEhAYBoUFAaBAQGgSEBgGhQUBoEBAaBIQGAaFBQGgQEBoEhAYBoUFAaBAQGgSEBgGhQUBoEBAaBIQGAaFBQGgQEBoEhAYBoUFAaBAQGgSEBgGhQUBoEBAaBIQGAaFBQGgQEBoEhAYBoUFAaBAQGgSEBgGhQUBoEPgFFaEywk9KCcAAAAAASUVORK5CYII=\" y=\"-6.64\"/>\n",
       "   </g>\n",
       "  </g>\n",
       " </g>\n",
       " <defs>\n",
       "  <clipPath id=\"pcb66d3fee6\">\n",
       "   <rect height=\"217.44\" width=\"217.44\" x=\"7.2\" y=\"7.2\"/>\n",
       "  </clipPath>\n",
       " </defs>\n",
       "</svg>\n"
      ],
      "text/plain": [
       "<Figure size 432x288 with 1 Axes>"
      ]
     },
     "metadata": {
      "needs_background": "light"
     },
     "output_type": "display_data"
    },
    {
     "name": "stdout",
     "output_type": "stream",
     "text": [
      "CPU times: user 10.3 ms, sys: 226 µs, total: 10.5 ms\n",
      "Wall time: 10.5 ms\n",
      "CPU times: user 2.49 s, sys: 19 µs, total: 2.49 s\n",
      "Wall time: 2.49 s\n"
     ]
    }
   ],
   "source": [
    "%run ../functions.ipynb ;"
   ]
  },
  {
   "cell_type": "code",
   "execution_count": 32,
   "id": "18af5253-b475-47ac-85e0-2d9802b12abd",
   "metadata": {},
   "outputs": [],
   "source": []
  },
  {
   "cell_type": "code",
   "execution_count": 168,
   "id": "927a2461-9648-446c-80e3-4504a03ba977",
   "metadata": {},
   "outputs": [],
   "source": []
  },
  {
   "cell_type": "code",
   "execution_count": 170,
   "id": "114b763e-af05-4bbe-8f81-a3f9d4802023",
   "metadata": {},
   "outputs": [],
   "source": [
    "imgs = train_set[:10]"
   ]
  },
  {
   "cell_type": "code",
   "execution_count": 171,
   "id": "36277afa-c981-48c2-a5bd-08d1a6034073",
   "metadata": {},
   "outputs": [],
   "source": [
    "mps = initialize_mps(bdim=30)"
   ]
  },
  {
   "cell_type": "code",
   "execution_count": 172,
   "id": "24f87409-c34e-42d6-a29a-ccab8ce3b9c9",
   "metadata": {},
   "outputs": [
    {
     "data": {
      "application/vnd.jupyter.widget-view+json": {
       "model_id": "604e10f349e342a9879034fb89386c2d",
       "version_major": 2,
       "version_minor": 0
      },
      "text/plain": [
       "  0%|          | 0/1562 [00:00<?, ?it/s]"
      ]
     },
     "metadata": {},
     "output_type": "display_data"
    }
   ],
   "source": [
    "learning_epoch(mps, imgs, 1, 0.08)"
   ]
  },
  {
   "cell_type": "code",
   "execution_count": 173,
   "id": "8b2bcfa3-e4ff-4fad-b4d8-4edfbd772e08",
   "metadata": {},
   "outputs": [
    {
     "data": {
      "text/plain": [
       "0.0003195025306225177"
      ]
     },
     "execution_count": 173,
     "metadata": {},
     "output_type": "execute_result"
    }
   ],
   "source": [
    "computepsi(mps,imgs[0])**2"
   ]
  },
  {
   "cell_type": "code",
   "execution_count": 174,
   "id": "80b19e26-ddcb-4947-8cbc-06d38aab1571",
   "metadata": {},
   "outputs": [
    {
     "data": {
      "text/plain": [
       "8.362465141619554e-251"
      ]
     },
     "execution_count": 174,
     "metadata": {},
     "output_type": "execute_result"
    }
   ],
   "source": [
    "computepsi(mps,np.random.randint(0,2,(784)) )**2"
   ]
  }
 ],
 "metadata": {
  "kernelspec": {
   "display_name": "Python 3 (ipykernel)",
   "language": "python",
   "name": "python3"
  },
  "language_info": {
   "codemirror_mode": {
    "name": "ipython",
    "version": 3
   },
   "file_extension": ".py",
   "mimetype": "text/x-python",
   "name": "python",
   "nbconvert_exporter": "python",
   "pygments_lexer": "ipython3",
   "version": "3.9.7"
  }
 },
 "nbformat": 4,
 "nbformat_minor": 5
}
