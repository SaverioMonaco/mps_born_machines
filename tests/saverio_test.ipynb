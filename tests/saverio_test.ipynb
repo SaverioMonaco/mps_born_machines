{
 "cells": [
  {
   "cell_type": "code",
   "execution_count": 1,
   "id": "ba50b667-ac42-43e9-b973-01633a48a8b4",
   "metadata": {},
   "outputs": [
    {
     "data": {
      "image/svg+xml": [
       "<?xml version=\"1.0\" encoding=\"utf-8\" standalone=\"no\"?>\n",
       "<!DOCTYPE svg PUBLIC \"-//W3C//DTD SVG 1.1//EN\"\n",
       "  \"http://www.w3.org/Graphics/SVG/1.1/DTD/svg11.dtd\">\n",
       "<svg height=\"231.84pt\" version=\"1.1\" viewBox=\"0 0 231.84 231.84\" width=\"231.84pt\" xmlns=\"http://www.w3.org/2000/svg\" xmlns:xlink=\"http://www.w3.org/1999/xlink\">\n",
       " <metadata>\n",
       "  <rdf:RDF xmlns:cc=\"http://creativecommons.org/ns#\" xmlns:dc=\"http://purl.org/dc/elements/1.1/\" xmlns:rdf=\"http://www.w3.org/1999/02/22-rdf-syntax-ns#\">\n",
       "   <cc:Work>\n",
       "    <dc:type rdf:resource=\"http://purl.org/dc/dcmitype/StillImage\"/>\n",
       "    <dc:date>2022-03-15T18:07:25.837306</dc:date>\n",
       "    <dc:format>image/svg+xml</dc:format>\n",
       "    <dc:creator>\n",
       "     <cc:Agent>\n",
       "      <dc:title>Matplotlib v3.4.3, https://matplotlib.org/</dc:title>\n",
       "     </cc:Agent>\n",
       "    </dc:creator>\n",
       "   </cc:Work>\n",
       "  </rdf:RDF>\n",
       " </metadata>\n",
       " <defs>\n",
       "  <style type=\"text/css\">*{stroke-linecap:butt;stroke-linejoin:round;}</style>\n",
       " </defs>\n",
       " <g id=\"figure_1\">\n",
       "  <g id=\"patch_1\">\n",
       "   <path d=\"M 0 231.84 \n",
       "L 231.84 231.84 \n",
       "L 231.84 0 \n",
       "L 0 0 \n",
       "z\n",
       "\" style=\"fill:none;\"/>\n",
       "  </g>\n",
       "  <g id=\"axes_1\">\n",
       "   <g clip-path=\"url(#pb15a6a3229)\">\n",
       "    <image height=\"218\" id=\"image06be3425d2\" transform=\"scale(1 -1)translate(0 -218)\" width=\"218\" x=\"7.2\" xlink:href=\"data:image/png;base64,\n",
       "iVBORw0KGgoAAAANSUhEUgAAANoAAADaCAYAAADAHVzbAAADLElEQVR4nO3dUWqEQBBAwRhy/yubCyQr6+Bznan6D1mFR4ND67bv+/4FXOr77h8AKxAaBIQGAaFBQGgQEBoEhAYBoUFAaBAQGgSEBgGhQUBoEBAaBIQGAaFBQGgQEBoEhAYBoUFAaBAQGgR+7v4B9LZtO/233k54jokGAaFBQGgQEBoEhAYBoUFAaBAQGgSEBgGhQUBoEBAaBIQGAaFBQGgQsI/GW4522eyr/c1Eg4DQICA0CAgNAkKDgNAgIDQICA0CQoOA0CAgNAgIDQJCg4DQICA0CAgNAkKDgNAgIDQICA0CQoOA0CAgNAgIDQJCg4DQICA0CAgNAkKDgNAg4LNN/zj6PNGdfBrpeUw0CAgNAkKDgNAgIDQICA0CQoPAtOdon3wONuro2pyzfR4TDQJCg4DQICA0CAgNAkKDgNAgMO052ic7OucaPQOc+QzxqUw0CAgNAkKDgNAgIDQICA0Cj368f+Vj7DtXTa7+3x7/90w0CAgNAkKDgNAgIDQICA0CQoPAo8/RRqz8SrZX1371is6q991Eg4DQICA0CAgNAkKDgNAgIDQILHuO5ryHkokGAaFBQGgQEBoEhAYBoUFAaBAQGgSEBgGhQUBoEBAaBIQGAaFBQGgQ2PZJF6+u/gbYpLft0Oh9XfW+mWgQEBoEhAYBoUFAaBAQGgSWfd0c93h1PDDzo38TDQJCg4DQICA0CAgNAkKDgNAgMO052tGZzOi6h88+8Q4TDQJCg4DQICA0CAgNAkKDgNAgMO3r5kZd+bq6mW/5yH2b+b6YaBAQGgSEBgGhQUBoEBAaBIQGgWn30XiemXf8TDQICA0CQoOA0CAgNAgIDQJCg4B9tJPsq52z6r6aiQYBoUFAaBAQGgSEBgGhQcCazEkjn4V68mPqUa+u/cojk7uZaBAQGgSEBgGhQUBoEBAaBIQGAWsyEDDRICA0CAgNAkKDgNAgIDQICA0CQoOA0CAgNAgIDQJCg4DQICA0CAgNAkKDgNAgIDQICA0CQoOA0CAgNAgIDQJCg4DQICA0CAgNAkKDgNAgIDQICA0CQoOA0CAgNAgIDQJCg4DQICA0CPwCnm1dtCBiMA4AAAAASUVORK5CYII=\" y=\"-6.64\"/>\n",
       "   </g>\n",
       "  </g>\n",
       " </g>\n",
       " <defs>\n",
       "  <clipPath id=\"pb15a6a3229\">\n",
       "   <rect height=\"217.44\" width=\"217.44\" x=\"7.2\" y=\"7.2\"/>\n",
       "  </clipPath>\n",
       " </defs>\n",
       "</svg>\n"
      ],
      "text/plain": [
       "<Figure size 432x288 with 1 Axes>"
      ]
     },
     "metadata": {
      "needs_background": "light"
     },
     "output_type": "display_data"
    },
    {
     "data": {
      "image/svg+xml": [
       "<?xml version=\"1.0\" encoding=\"utf-8\" standalone=\"no\"?>\n",
       "<!DOCTYPE svg PUBLIC \"-//W3C//DTD SVG 1.1//EN\"\n",
       "  \"http://www.w3.org/Graphics/SVG/1.1/DTD/svg11.dtd\">\n",
       "<svg height=\"231.84pt\" version=\"1.1\" viewBox=\"0 0 231.84 231.84\" width=\"231.84pt\" xmlns=\"http://www.w3.org/2000/svg\" xmlns:xlink=\"http://www.w3.org/1999/xlink\">\n",
       " <metadata>\n",
       "  <rdf:RDF xmlns:cc=\"http://creativecommons.org/ns#\" xmlns:dc=\"http://purl.org/dc/elements/1.1/\" xmlns:rdf=\"http://www.w3.org/1999/02/22-rdf-syntax-ns#\">\n",
       "   <cc:Work>\n",
       "    <dc:type rdf:resource=\"http://purl.org/dc/dcmitype/StillImage\"/>\n",
       "    <dc:date>2022-03-15T18:07:26.102912</dc:date>\n",
       "    <dc:format>image/svg+xml</dc:format>\n",
       "    <dc:creator>\n",
       "     <cc:Agent>\n",
       "      <dc:title>Matplotlib v3.4.3, https://matplotlib.org/</dc:title>\n",
       "     </cc:Agent>\n",
       "    </dc:creator>\n",
       "   </cc:Work>\n",
       "  </rdf:RDF>\n",
       " </metadata>\n",
       " <defs>\n",
       "  <style type=\"text/css\">*{stroke-linecap:butt;stroke-linejoin:round;}</style>\n",
       " </defs>\n",
       " <g id=\"figure_1\">\n",
       "  <g id=\"patch_1\">\n",
       "   <path d=\"M 0 231.84 \n",
       "L 231.84 231.84 \n",
       "L 231.84 0 \n",
       "L 0 0 \n",
       "z\n",
       "\" style=\"fill:none;\"/>\n",
       "  </g>\n",
       "  <g id=\"axes_1\">\n",
       "   <g clip-path=\"url(#pa0c8483668)\">\n",
       "    <image height=\"218\" id=\"imaged3d3788e5b\" transform=\"scale(1 -1)translate(0 -218)\" width=\"218\" x=\"7.2\" xlink:href=\"data:image/png;base64,\n",
       "iVBORw0KGgoAAAANSUhEUgAAANoAAADaCAYAAADAHVzbAAAC8ElEQVR4nO3dS2oDMRBAwUzI/a+srEMWwth681HVCYTtR8M0Gh9jjPEFLPV99gFgB0KDgNAgIDQICA0CQoOA0CAgNAgIDQJCg4DQICA0CAgNAkKDgNAgIDQICA0CQoOA0CAgNAgIDQJCg4DQICA0CAgNAkKDgNAgIDQICA0CQoOA0CAgNAgIDQJCg4DQICA0CAgNAkKDgNAgIDQICA0CQoOA0CAgNAgIDQJCg4DQICA0CAgNAkKDgNAgIDQICA0CQoOA0CAgNAgIDQJCg4DQICA0CAgNAkKDgNAgIDQICA0CQoOA0CAgNAgIDQI/Zx9gleM4zj7ClsYYZx/hkkw0CAgNAkKDgNAgIDQICA0CQoPAMSw+bmfXHeGdf6omGgSEBgGhQUBoEBAaBIQGAaFB4LH30Z5stk9auWd7d5e16w7QRIOA0CAgNAgIDQJCg4DQIODxPqk7X3V5h4kGAaFBQGgQEBoEhAYBoUFAaBCwR+Mls2suu+7JZkw0CAgNAkKDgNAgIDQICA0CQoOA0CAgNAgIDQJCg4DQICA0CAgNAkKDgNAgIDQICA0CQoOA0CAgNAgIDQJCg4D3Oj7Q7N2Ks3cz8nkmGgSEBgGhQUBoEBAaBIQGAaFBQGgQEBoEhAYBoUFAaBAQGgSEBoGl12R2vo4xu6ryVLPvfNfPxUSDgNAgIDQICA0CQoOA0CAgNAgs3aNdeWeyese38w6R/0w0CAgNAkKDgNAgIDQICA0CQoPAtn/btPOOj56JBgGhQUBoEBAaBIQGAaFBQGgQ2HaPdmVn7vjs8NYw0SAgNAgIDQJCg4DQICA0CHi8zx9Xvj50ZyYaBIQGAaFBQGgQEBoEhAYBoUFAaBAQGgSEBgGhQUBoEBAaBIQGAaFBQGgQEBoEhAYBoUFAaBAQGgSEBgGhQUBoEBAaBIQGAaFBQGgQEBoEhAYBoUFAaBAQGgSEBgGhQUBoEBAaBIQGAaFBQGgQEBoEhAYBoUFAaBAQGgSEBoFfVzYwvC2raUQAAAAASUVORK5CYII=\" y=\"-6.64\"/>\n",
       "   </g>\n",
       "  </g>\n",
       " </g>\n",
       " <defs>\n",
       "  <clipPath id=\"pa0c8483668\">\n",
       "   <rect height=\"217.44\" width=\"217.44\" x=\"7.2\" y=\"7.2\"/>\n",
       "  </clipPath>\n",
       " </defs>\n",
       "</svg>\n"
      ],
      "text/plain": [
       "<Figure size 432x288 with 1 Axes>"
      ]
     },
     "metadata": {
      "needs_background": "light"
     },
     "output_type": "display_data"
    },
    {
     "name": "stdout",
     "output_type": "stream",
     "text": [
      "CPU times: user 8.87 ms, sys: 91 µs, total: 8.96 ms\n",
      "Wall time: 8.98 ms\n",
      "CPU times: user 2.96 s, sys: 0 ns, total: 2.96 s\n",
      "Wall time: 2.97 s\n"
     ]
    }
   ],
   "source": [
    "%run ../functions.ipynb ;"
   ]
  },
  {
   "cell_type": "code",
   "execution_count": 27,
   "id": "18af5253-b475-47ac-85e0-2d9802b12abd",
   "metadata": {},
   "outputs": [],
   "source": [
    "def learning_step(mps, index, imgs, lr):\n",
    "    \n",
    "    Z = mps @ mps\n",
    "    A = (mps.tensors[index] @ mps.tensors[index+1])\n",
    "    # print('######################\\nSTEP: {}'.format(index) )\n",
    "    # print('A: {}'.format(A.data.shape) )\n",
    "    \n",
    "    psifrac = 0\n",
    "    for img in imgs:\n",
    "        num = computepsiprime(mps,img,index)\n",
    "        den = computepsi(mps,img)\n",
    "        \n",
    "        psifrac = psifrac + num/den\n",
    "    \n",
    "    psifrac = psifrac/imgs.shape[0]\n",
    "    \n",
    "    # print('A\\': {}'.format(A.data.shape) )\n",
    "    # print('psiprime: {}\\n'.format(psifrac.shape) )\n",
    "    dNLL = (A/Z) - psifrac\n",
    "    \n",
    "    A = A + lr*dNLL\n",
    "    \n",
    "    SD = A.split(['i'+str(index-1),'v'+str(index)], absorb='right')\n",
    "    \n",
    "    return SD"
   ]
  },
  {
   "cell_type": "code",
   "execution_count": 17,
   "id": "9e83976f-67d8-4dda-a542-7391071514e9",
   "metadata": {},
   "outputs": [],
   "source": []
  },
  {
   "cell_type": "code",
   "execution_count": 35,
   "id": "36277afa-c981-48c2-a5bd-08d1a6034073",
   "metadata": {},
   "outputs": [],
   "source": [
    "mps = initialize_mps(bdim=30)"
   ]
  },
  {
   "cell_type": "code",
   "execution_count": 36,
   "id": "43a83768-ecb5-4ee6-b0ca-2cc7b2883448",
   "metadata": {},
   "outputs": [],
   "source": [
    "imgs = train_set[:2]"
   ]
  },
  {
   "cell_type": "code",
   "execution_count": 37,
   "id": "81de0e61-8618-45eb-8c89-06ddd08af011",
   "metadata": {},
   "outputs": [
    {
     "name": "stderr",
     "output_type": "stream",
     "text": [
      "  0%|                                                   | 0/781 [00:00<?, ?it/s]"
     ]
    }
   ],
   "source": [
    "progress = tqdm(range(1,len(mps.tensors)-2))"
   ]
  },
  {
   "cell_type": "code",
   "execution_count": 38,
   "id": "92b9f4b8-242a-4411-bee6-3b610978a7bf",
   "metadata": {},
   "outputs": [
    {
     "name": "stderr",
     "output_type": "stream",
     "text": [
      "P(0) = 1.7605912438336424e-06: 100%|██████████| 781/781 [04:47<00:00,  2.72it/s]\n"
     ]
    }
   ],
   "source": [
    "for index in progress:\n",
    "    A = learning_step(mps,index,imgs,0.08)\n",
    "    \n",
    "    mps.tensors[index].modify(data=np.transpose(A.tensors[0].data,(0,2,1)))\n",
    "    mps.tensors[index+1].modify(data=A.tensors[1].data)\n",
    "    \n",
    "    p0 = computepsi(mps,imgs[0])**2\n",
    "    progress.set_description('P(0) = {}'.format(p0))"
   ]
  },
  {
   "cell_type": "code",
   "execution_count": null,
   "id": "8b2bcfa3-e4ff-4fad-b4d8-4edfbd772e08",
   "metadata": {},
   "outputs": [],
   "source": [
    "computepsi(mps,imgs[0])**2"
   ]
  },
  {
   "cell_type": "code",
   "execution_count": null,
   "id": "80b19e26-ddcb-4947-8cbc-06d38aab1571",
   "metadata": {},
   "outputs": [],
   "source": [
    "computepsi(mps,np.random.randint(0,2,(784)) )**2"
   ]
  },
  {
   "cell_type": "code",
   "execution_count": 13,
   "id": "9ef9c011-083b-4e2f-abde-e6c762ba8b50",
   "metadata": {},
   "outputs": [],
   "source": [
    "smallmps = initialize_mps(Ldim=10,bdim=30)"
   ]
  },
  {
   "cell_type": "code",
   "execution_count": 14,
   "id": "120803b0-5ad4-4003-9593-58d7c9f94cdc",
   "metadata": {},
   "outputs": [],
   "source": [
    "smallimgs = train_set[:10, 500:510]"
   ]
  },
  {
   "cell_type": "code",
   "execution_count": 15,
   "id": "6f7627e8-171d-4ea9-a8a2-aaf8066fd921",
   "metadata": {},
   "outputs": [
    {
     "name": "stderr",
     "output_type": "stream",
     "text": [
      "  0%|                                                     | 0/7 [00:00<?, ?it/s]"
     ]
    }
   ],
   "source": [
    "small_progress = tqdm(range(1,len(smallmps.tensors)-2))"
   ]
  },
  {
   "cell_type": "code",
   "execution_count": 18,
   "id": "0897532d-41a2-45f9-864e-2a71605e1009",
   "metadata": {},
   "outputs": [
    {
     "name": "stdout",
     "output_type": "stream",
     "text": [
      " 2 4 8 30 30 16 8 4 2 \n",
      ">─>─>─●──<──<──<─<─<─<\n",
      "│ │ │ │  │  │  │ │ │ │\n",
      "######################\n",
      "STEP: 1\n",
      "A: (2, 2, 8, 2)\n",
      "A': (2, 2, 8, 2)\n",
      "psiprime: (2, 2, 8, 2)\n",
      "\n",
      " 2 4 8 30 30 16 8 4 2 \n",
      ">─>─●─●──<──<──<─<─<─<\n",
      "│ │ │ │  │  │  │ │ │ │\n",
      "######################\n",
      "STEP: 2\n",
      "A: (4, 2, 30, 2)\n",
      "A': (4, 2, 30, 2)\n",
      "psiprime: (4, 2, 30, 2)\n",
      "\n",
      " 2 4 8 30 30 16 8 4 2 \n",
      ">─>─>─●──<──<──<─<─<─<\n",
      "│ │ │ │  │  │  │ │ │ │\n",
      "######################\n",
      "STEP: 3\n",
      "A: (8, 2, 30, 2)\n",
      "A': (8, 2, 30, 2)\n",
      "psiprime: (8, 2, 30, 2)\n",
      "\n",
      " 2 4 8 16 30 16 8 4 2 \n",
      ">─>─>─>──●──<──<─<─<─<\n",
      "│ │ │ │  │  │  │ │ │ │\n",
      "######################\n",
      "STEP: 4\n",
      "A: (16, 2, 16, 2)\n",
      "A': (16, 2, 16, 2)\n",
      "psiprime: (16, 2, 16, 2)\n",
      "\n",
      " 2 4 8 16 31 16 8 4 2 \n",
      ">─>─>─>──>──●──<─<─<─<\n",
      "│ │ │ │  │  │  │ │ │ │\n",
      "######################\n",
      "STEP: 5\n",
      "A: (31, 2, 8, 2)\n",
      "A': (31, 2, 8, 2)\n",
      "psiprime: (31, 2, 8, 2)\n",
      "\n",
      " 2 4 8 16 31 16 8 4 2 \n",
      ">─>─>─>──>──>──●─<─<─<\n",
      "│ │ │ │  │  │  │ │ │ │\n",
      "######################\n",
      "STEP: 6\n",
      "A: (16, 2, 4, 2)\n",
      "A': (16, 2, 4, 2)\n",
      "psiprime: (16, 2, 4, 2)\n",
      "\n",
      " 2 4 8 16 31 16 8 4 2 \n",
      ">─>─>─>──>──>──>─●─<─<\n",
      "│ │ │ │  │  │  │ │ │ │\n",
      "######################\n",
      "STEP: 7\n",
      "A: (8, 2, 2, 2)\n",
      "A': (8, 2, 2, 2)\n",
      "psiprime: (8, 2, 2, 2)\n",
      "\n"
     ]
    }
   ],
   "source": [
    "for index in small_progress:\n",
    "    smallmps.show()\n",
    "    \n",
    "    A = learning_step(smallmps,index,smallimgs,0.08)\n",
    "    \n",
    "    smallmps.tensors[index].modify(data=np.transpose(A.tensors[0].data,(0,2,1)))\n",
    "    smallmps.tensors[index+1].modify(data=A.tensors[1].data)\n",
    "    \n",
    "    p0 = computepsi(smallmps,smallimgs[0])**2\n",
    "    small_progress.set_description('P(0) = {}'.format(p0))"
   ]
  },
  {
   "cell_type": "code",
   "execution_count": null,
   "id": "c6c5f0e8-87e9-460b-bd82-d866b100ba9c",
   "metadata": {},
   "outputs": [],
   "source": []
  }
 ],
 "metadata": {
  "kernelspec": {
   "display_name": "Python 3 (ipykernel)",
   "language": "python",
   "name": "python3"
  },
  "language_info": {
   "codemirror_mode": {
    "name": "ipython",
    "version": 3
   },
   "file_extension": ".py",
   "mimetype": "text/x-python",
   "name": "python",
   "nbconvert_exporter": "python",
   "pygments_lexer": "ipython3",
   "version": "3.9.7"
  }
 },
 "nbformat": 4,
 "nbformat_minor": 5
}
